{
 "cells": [
  {
   "cell_type": "markdown",
   "metadata": {},
   "source": [
    "# Actividad 1\n",
    "Escribe una función llamada cuadrado que tome un número como argumento y devuelva su cuadrado."
   ]
  },
  {
   "cell_type": "code",
   "execution_count": 138,
   "metadata": {},
   "outputs": [],
   "source": [
    "def cuadrado(x):\n",
    "    \"\"\"\n",
    "    Dado x la función cuadrado(x) retorna\n",
    "        x^2\n",
    "    \"\"\"\n",
    "    return x**2"
   ]
  },
  {
   "cell_type": "code",
   "execution_count": 139,
   "metadata": {},
   "outputs": [
    {
     "name": "stdout",
     "output_type": "stream",
     "text": [
      "El cuadrado de 9 es 81.\n"
     ]
    }
   ],
   "source": [
    "# Test de las funciones actividad 1\n",
    "x = 9\n",
    "print(f\"El cuadrado de {x} es {cuadrado(x)}.\")"
   ]
  },
  {
   "cell_type": "markdown",
   "metadata": {},
   "source": [
    "# Actividad 2\n",
    "Crear una función llamada factorial, que implemente la función factorial descrita en la actividad anterior."
   ]
  },
  {
   "cell_type": "code",
   "execution_count": 140,
   "metadata": {},
   "outputs": [],
   "source": [
    "def factorial(x):\n",
    "    \"\"\"\n",
    "    Dado un entero positivo x la función factorial(x) retorna\n",
    "        x! = x*(x-1)*(x-2)*...*2*1\n",
    "    \"\"\"\n",
    "    if x==0:\n",
    "        return 1\n",
    "    elif x>0:\n",
    "        return x*factorial(x-1)\n",
    "    else :\n",
    "        print(\"El número es negativo\")"
   ]
  },
  {
   "cell_type": "code",
   "execution_count": 141,
   "metadata": {},
   "outputs": [
    {
     "name": "stdout",
     "output_type": "stream",
     "text": [
      "El factorial de 5 es 120.\n"
     ]
    }
   ],
   "source": [
    "# Test de las funciones actividad 2\n",
    "x = 5\n",
    "print(f\"El factorial de {x} es {factorial(x)}.\")"
   ]
  },
  {
   "cell_type": "markdown",
   "metadata": {},
   "source": [
    "# Actividad 3\n",
    "Utiliza el módulo math para calcular el área de un círculo. Crea una función area_circulo que tome el radio como argumento y devuelva el área.\n"
   ]
  },
  {
   "cell_type": "code",
   "execution_count": 142,
   "metadata": {},
   "outputs": [],
   "source": [
    "from math import pi # Importamos el valor de pi\n",
    "\n",
    "def area_circulo(r) :\n",
    "    \"\"\"\n",
    "    Dado un número no negativo r la función area_circulo(r) retorna el área de un circulo de radio r, esto es\n",
    "        pi*r^2\n",
    "    \"\"\"\n",
    "    if r>=0:\n",
    "        return pi*r**2\n",
    "    else :\n",
    "        print(f\"El valor ingresado es negativo.\")"
   ]
  },
  {
   "cell_type": "code",
   "execution_count": 143,
   "metadata": {},
   "outputs": [
    {
     "name": "stdout",
     "output_type": "stream",
     "text": [
      "El área de un circulo de radio 1 es 3.141592653589793.\n"
     ]
    }
   ],
   "source": [
    "# Test de las funciones actividad 3\n",
    "r = 1\n",
    "print(f\"El área de un circulo de radio {r} es {area_circulo(r)}.\")"
   ]
  },
  {
   "cell_type": "markdown",
   "metadata": {},
   "source": [
    "# Actividad 4\n",
    "Escriba una función llamada bisiestos, que pida dos años y escriba cuántos años bisiestos hay entre esas dos fechas."
   ]
  },
  {
   "cell_type": "code",
   "execution_count": 144,
   "metadata": {},
   "outputs": [],
   "source": [
    "def es_bisiesto(anho):\n",
    "    \"\"\"\n",
    "    Dado un entero positivo anho la función es_bisiesto(anho) retorna:\n",
    "        TRUE si anho es bisiesto\n",
    "        FALSE si anho no es bisiesto\n",
    "    \"\"\"\n",
    "    if anho%4 == 0 and (not anho%100 == 0 or anho%400 == 0):\n",
    "        return True\n",
    "    else:\n",
    "        return False\n",
    "    \n",
    "def cant_bisiestos(inicio,fin):\n",
    "    \"\"\"\n",
    "    Dados dos años inicio y fin la función cant_bisiestos(inicio,fin) retorna la cantidad \n",
    "    de años bisiestos entre ellos, considerandolos.\n",
    "    \"\"\"\n",
    "    cont = 0 # Variable para contar los años bisiestos entre inicio y final\n",
    "    for i in range(min(inicio, fin), max(inicio, fin)  +  1 ):\n",
    "        if es_bisiesto(i):\n",
    "            cont += 1\n",
    "    return cont"
   ]
  },
  {
   "cell_type": "code",
   "execution_count": 145,
   "metadata": {},
   "outputs": [
    {
     "name": "stdout",
     "output_type": "stream",
     "text": [
      "Entre los años 2000 y 2024 hay 7 años bisiestos.\n"
     ]
    }
   ],
   "source": [
    "# Test de las funciones actividad 4\n",
    "inicio = 2000\n",
    "fin = 2024\n",
    "print(f\"Entre los años {inicio} y {fin} hay {cant_bisiestos(inicio, fin)} años bisiestos.\")"
   ]
  },
  {
   "cell_type": "markdown",
   "metadata": {},
   "source": [
    "# Actividad 5\n",
    "Escribe una función llamada sumatoria que calcule la suma de todos los números desde 1 hasta un número dado."
   ]
  },
  {
   "cell_type": "code",
   "execution_count": 146,
   "metadata": {},
   "outputs": [],
   "source": [
    "def sumatoria(n):\n",
    "    \"\"\"\n",
    "    Dado un número natural positivo n la función sumatoria(n) retorna \n",
    "        sum_{i=1}^n i\n",
    "    \"\"\"\n",
    "    if isinstance(n,int) and n>=1:\n",
    "        sum = 0\n",
    "        for i in range(1,n+1):\n",
    "            sum += i\n",
    "        return sum\n",
    "    else :\n",
    "        print(f\"El valor ingresado no es válido.\")"
   ]
  },
  {
   "cell_type": "code",
   "execution_count": 147,
   "metadata": {},
   "outputs": [
    {
     "name": "stdout",
     "output_type": "stream",
     "text": [
      "La suma de los primeros 10 naturales es 55.\n"
     ]
    }
   ],
   "source": [
    "# Test de las funciones actividad 5\n",
    "n = 10\n",
    "print(f\"La suma de los primeros {n} naturales es {sumatoria(n)}.\")"
   ]
  },
  {
   "cell_type": "markdown",
   "metadata": {},
   "source": [
    "# Actividad 6\n",
    "Escriba una función que reciba como parámetro un número entero positivo y entregue como resultado todos los divisores de ese número.\n"
   ]
  },
  {
   "cell_type": "code",
   "execution_count": 148,
   "metadata": {},
   "outputs": [],
   "source": [
    "def divisores(n):\n",
    "    \"\"\"\n",
    "    Dado un número entero positivo n la función divisores(n) retorna la cantidad de divisores de n\n",
    "    \"\"\"\n",
    "    if isinstance(n,int) and n>=1:\n",
    "        div = []\n",
    "        for i in range(1,n+1):\n",
    "            if n%i == 0:\n",
    "                div.append(i)\n",
    "        return div\n",
    "    else :\n",
    "        printf(f\"El valor ingresado no es válido.\")"
   ]
  },
  {
   "cell_type": "code",
   "execution_count": 149,
   "metadata": {},
   "outputs": [
    {
     "name": "stdout",
     "output_type": "stream",
     "text": [
      "El número 11 posee 2 divisores, y son [1, 11].\n"
     ]
    }
   ],
   "source": [
    "# Test de las funciones actividad 6\n",
    "n = 11\n",
    "print(f\"El número {n} posee {len(divisores(n))} divisores, y son {divisores(n)}.\")"
   ]
  },
  {
   "cell_type": "markdown",
   "metadata": {},
   "source": [
    "# Actividad 7\n",
    "Escriba una función llamada promedio, que reciba una lista de números y calcule el promedio."
   ]
  },
  {
   "cell_type": "code",
   "execution_count": 150,
   "metadata": {},
   "outputs": [],
   "source": [
    "def promedio(numeros):\n",
    "    \"\"\"\n",
    "    Dada una lista de números la función promedio(numeros) calcula el promedio de los valores contenidos en la lista.\n",
    "    \"\"\"\n",
    "    avg = 0\n",
    "    for i in range(0, len(numeros)):\n",
    "        avg += numeros[i]/len(numeros)\n",
    "    return avg"
   ]
  },
  {
   "cell_type": "code",
   "execution_count": 151,
   "metadata": {},
   "outputs": [
    {
     "name": "stdout",
     "output_type": "stream",
     "text": [
      "El promedio de los números de la lista [1, 2, 3, 4, 5, 6, 7, 8, 9, 10] es 5.5.\n"
     ]
    }
   ],
   "source": [
    "# Test de las funciones actividad 7\n",
    "numeros = [1,2,3,4,5,6,7,8,9,10]\n",
    "print(f\"El promedio de los números de la lista {numeros} es {promedio(numeros)}.\")"
   ]
  },
  {
   "cell_type": "markdown",
   "metadata": {},
   "source": [
    "# Actividad 8\n",
    "Crea un archivo llamado operaciones.py con una función\n",
    "multiplicacion que tome dos números como argumentos y devuelva\n",
    "su producto. Luego, importa este módulo y usa la función en tu\n",
    "programa principal."
   ]
  },
  {
   "cell_type": "code",
   "execution_count": 152,
   "metadata": {},
   "outputs": [
    {
     "name": "stdout",
     "output_type": "stream",
     "text": [
      "Help on function multiplicacion in module operaciones:\n",
      "\n",
      "multiplicacion(x, y)\n",
      "    Dados dos números x e y la función multiplicación(x,y) retorna la multiplicación x*y.\n",
      "\n",
      "El resultado de la multiplicación entre 3 y 4 es 12.\n"
     ]
    }
   ],
   "source": [
    "from operaciones import multiplicacion\n",
    "\n",
    "help(multiplicacion)\n",
    "\n",
    "x = 3\n",
    "y = 4\n",
    "print(f\"El resultado de la multiplicación entre {x} y {y} es {multiplicacion(x,y)}.\")"
   ]
  },
  {
   "cell_type": "markdown",
   "metadata": {},
   "source": [
    "# Actividad 9\n",
    "Crea una expresión lambda reciba dos números y use el primero como\n",
    "base y al segundo como exponente para entrega el resultado de la\n",
    "potencia."
   ]
  },
  {
   "cell_type": "code",
   "execution_count": 153,
   "metadata": {},
   "outputs": [],
   "source": [
    "potenciacion = lambda x,y : x**y"
   ]
  },
  {
   "cell_type": "code",
   "execution_count": 154,
   "metadata": {},
   "outputs": [
    {
     "name": "stdout",
     "output_type": "stream",
     "text": [
      "La valor de 3 elevado a 5 es 243.\n"
     ]
    }
   ],
   "source": [
    "# Test de las funciones actividad 9\n",
    "x = 3\n",
    "y = 5\n",
    "print(f\"La valor de {x} elevado a {y} es {potenciacion(x,y)}.\")"
   ]
  },
  {
   "cell_type": "markdown",
   "metadata": {},
   "source": [
    "# Actividad 10\n",
    "Escriba una función que reciba una lista de números, debe devolver\n",
    "la misma lista, pero ordenada de menor a mayor.\n"
   ]
  },
  {
   "cell_type": "code",
   "execution_count": 155,
   "metadata": {},
   "outputs": [],
   "source": [
    "def orden(numeros):\n",
    "    \"\"\"\n",
    "    Dada una lista de números la función orden(numeros) retorna una lista con los mismos valores ordenados de menor a mayor.\n",
    "    \"\"\"\n",
    "    desordenada = numeros\n",
    "    ordenada = []\n",
    "    for i in range(1,len(numeros)+1):\n",
    "        ordenada.append(min(desordenada))\n",
    "        del desordenada[desordenada.index(min(desordenada))]\n",
    "    return ordenada"
   ]
  },
  {
   "cell_type": "code",
   "execution_count": 156,
   "metadata": {},
   "outputs": [
    {
     "name": "stdout",
     "output_type": "stream",
     "text": [
      "Al ordenar la lista [3, 2, 1, 5, 6, 2] de menor a mayor se obtiene [1, 2, 2, 3, 5, 6]\n"
     ]
    }
   ],
   "source": [
    "# Test de las funciones actividad 10\n",
    "desordenada = [3,2,1,5,6,2]\n",
    "print(f\"Al ordenar la lista {desordenada} de menor a mayor se obtiene {orden(desordenada)}\")"
   ]
  },
  {
   "cell_type": "markdown",
   "metadata": {},
   "source": [
    "# Actividad 11\n",
    "Crear tres funciones, cada una debe recibir un parámetro: una lista de\n",
    "números.\n",
    "- La primera debe calcular el promedio de los números.\n",
    "- La segunda la suma de los números.\n",
    "- La tercera debe calcular la mediana de los números.\n",
    "\n",
    "Crear además otra función llamada “calcular”, que reciba como\n",
    "parámetro una lista de números, y una función. La idea es que se le\n",
    "entregue al usuario un menú de opciones, donde pueda elegir qué\n",
    "cálculo desea hacer. Dependiendo de la opción realizada, se debe\n",
    "llamar a la función calcular con la operación correcta.\n"
   ]
  },
  {
   "cell_type": "code",
   "execution_count": 157,
   "metadata": {},
   "outputs": [],
   "source": [
    "# La función promedio está implementada en la actividad 7.\n",
    "\n",
    "\n",
    "def suma(numeros):\n",
    "    \"\"\"\n",
    "    Dada una lista de números la función suma(numeros) calcula la suma de los valores contenidos en la lista.\n",
    "    \"\"\"\n",
    "    sum = 0\n",
    "    for i in range(0, len(numeros)):\n",
    "        sum += numeros[i]\n",
    "    return sum\n",
    "\n",
    "\n",
    "def mediana(numeros):\n",
    "    \"\"\"\n",
    "    Dada una lista de números la función mediana(numeros) calcula la mediana de los valores contenidos en la lista.\n",
    "    \"\"\"\n",
    "    ordenada = orden(numeros)\n",
    "    if len(ordenada)%2 == 1:\n",
    "        return ordenada[int(len(ordenada)/2-.5)]\n",
    "    else:\n",
    "        ind = int(len(ordenada)/2)\n",
    "        return .5*(ordenada[ind-1] + ordenada[ind])\n",
    "\n",
    "\n",
    "def calcular(numeros, funcion = \"promedio\"):\n",
    "    \"\"\"\n",
    "    Dada una lista de números y un string funcion igual a \"promedio\", \"suma\" o \"mediana\" la función calcular(numeros, funcion = \"promedio\")\n",
    "    retorna funcion(numeros). Si no se entrega el segundo argumento se retorna el promedio.\n",
    "    \"\"\"\n",
    "    if funcion.lower() == \"promedio\":\n",
    "        return promedio(numeros)\n",
    "    elif funcion.lower() == \"suma\":\n",
    "        return suma(numeros)\n",
    "    elif funcion.lower() == \"mediana\":\n",
    "        return mediana(numeros)\n",
    "    else:\n",
    "        print(\"Función no válida\")\n"
   ]
  },
  {
   "cell_type": "code",
   "execution_count": 158,
   "metadata": {},
   "outputs": [
    {
     "name": "stdout",
     "output_type": "stream",
     "text": [
      "La función mediana aplicada a [3, 2, 1, 5, 6, 2, 1] retorna 2.\n"
     ]
    }
   ],
   "source": [
    "# Test de las funciones actividad 11\n",
    "numeros = [3,2,1,5,6,2,1]\n",
    "funcion = \"Mediana\"\n",
    "print(f\"La función {funcion.lower()} aplicada a {numeros} retorna {calcular(numeros,funcion)}.\")"
   ]
  },
  {
   "cell_type": "markdown",
   "metadata": {},
   "source": [
    "# Actividad 12\n",
    "Crear funciones para convertir grados entre Celsius, Fahrenheit y\n",
    "kelvin. El usuario debe ingresar un número y la unidad de\n",
    "entrada(“C”,”F”,”K”) y la de salida. Se debe elegir la función correcta\n",
    "para la conversión."
   ]
  },
  {
   "cell_type": "code",
   "execution_count": 159,
   "metadata": {},
   "outputs": [],
   "source": [
    "def conversion(temp, original, nuevo):\n",
    "    \"\"\"\n",
    "    Dado un número temp, y dos strings original y nuevo con valores \"C\" (Celcius), \"F\" (Fahrenheit) o \"K\" (Kelvin) la funcion\n",
    "    conversion(temp, original, nuevo) retorna la conversion de la temperatura temp en grados original a grados nuevo.\n",
    "    \"\"\"\n",
    "    if original.upper() == nuevo.upper():\n",
    "        return temp\n",
    "    elif original.upper() == \"C\":\n",
    "        if nuevo.upper() == \"F\":\n",
    "            return temp*9/5 + 32\n",
    "        elif nuevo.upper() == \"K\":\n",
    "            return temp + 273.15\n",
    "    elif original.upper() == \"F\":\n",
    "        if nuevo.upper() == \"C\":\n",
    "            return (temp - 32)*5/9\n",
    "        elif nuevo.upper() == \"K\":\n",
    "            return (temp - 32)*5/9 + 273.15\n",
    "    elif original.upper() == \"K\":\n",
    "        if nuevo.upper() == \"C\":\n",
    "            return temp - 273.15\n",
    "        elif nuevo.upper() == \"F\":\n",
    "            return (temp - 273.15)*9/5 + 32"
   ]
  },
  {
   "cell_type": "code",
   "execution_count": 160,
   "metadata": {},
   "outputs": [
    {
     "name": "stdout",
     "output_type": "stream",
     "text": [
      "0°C = 273.15°K.\n",
      "0°C = 32.0°F.\n",
      "0°F = -17.77777777777778°C.\n",
      "0°F = 255.3722222222222°K.\n",
      "0°K = -273.15°C.\n",
      "0°K = -459.66999999999996°F.\n"
     ]
    }
   ],
   "source": [
    "# Test de las funciones actividad 11\n",
    "temp = 0\n",
    "# C -> K\n",
    "original = \"C\"\n",
    "nuevo = \"K\"\n",
    "print(f\"{temp}°{original} = {conversion(temp,original,nuevo)}°{nuevo}.\")\n",
    "# C -> F\n",
    "original = \"C\"\n",
    "nuevo = \"F\"\n",
    "print(f\"{temp}°{original} = {conversion(temp,original,nuevo)}°{nuevo}.\")\n",
    "# F -> C\n",
    "original = \"F\"\n",
    "nuevo = \"C\"\n",
    "print(f\"{temp}°{original} = {conversion(temp,original,nuevo)}°{nuevo}.\")\n",
    "# F -> K\n",
    "original = \"F\"\n",
    "nuevo = \"K\"\n",
    "print(f\"{temp}°{original} = {conversion(temp,original,nuevo)}°{nuevo}.\")\n",
    "# K -> C\n",
    "original = \"K\"\n",
    "nuevo = \"C\"\n",
    "print(f\"{temp}°{original} = {conversion(temp,original,nuevo)}°{nuevo}.\")\n",
    "# K -> F\n",
    "original = \"K\"\n",
    "nuevo = \"F\"\n",
    "print(f\"{temp}°{original} = {conversion(temp,original,nuevo)}°{nuevo}.\")"
   ]
  }
 ],
 "metadata": {
  "kernelspec": {
   "display_name": "Python 3",
   "language": "python",
   "name": "python3"
  },
  "language_info": {
   "codemirror_mode": {
    "name": "ipython",
    "version": 3
   },
   "file_extension": ".py",
   "mimetype": "text/x-python",
   "name": "python",
   "nbconvert_exporter": "python",
   "pygments_lexer": "ipython3",
   "version": "3.11.8"
  }
 },
 "nbformat": 4,
 "nbformat_minor": 2
}
