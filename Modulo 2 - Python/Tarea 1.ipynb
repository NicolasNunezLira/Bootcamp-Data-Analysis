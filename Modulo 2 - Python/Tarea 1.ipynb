{
 "cells": [
  {
   "cell_type": "markdown",
   "metadata": {},
   "source": [
    "# Actividad 1.d) \n",
    "Imprimir primer \"Hola Mundo\","
   ]
  },
  {
   "cell_type": "code",
   "execution_count": 3,
   "metadata": {},
   "outputs": [
    {
     "name": "stdout",
     "output_type": "stream",
     "text": [
      "Hola Mundo.\n"
     ]
    }
   ],
   "source": [
    "print(\"Hola Mundo.\")"
   ]
  },
  {
   "cell_type": "markdown",
   "metadata": {},
   "source": [
    "# Actividad 2\n",
    "\n",
    "a) ¿Qué significa que Python sea un lenguaje de propósito general?\n",
    "    R) Por proposito general se entiende que el lenguaje es versatil y no esta orientado a un fin en particular.\n",
    "\n",
    "b) ¿Qué significa que Python sea un lenguaje interpretado?\n",
    "    R) Por lenguaje interpretado se entiende que los archivos no se compilan, y se ejecutan interpretando directamente el script.\n",
    "\n",
    "c) ¿Qué es el tipado dinámico?\n",
    "    R) Por tipado dinamico se entiende que no es necesario inicializar las variables, las cuales pueden ir variando en formato y valor a traves del script."
   ]
  },
  {
   "cell_type": "markdown",
   "metadata": {},
   "source": [
    "# Actividad 3\n",
    "\n",
    "Dado el siguiente código, identifique el tipo de variable de cada expresión."
   ]
  },
  {
   "cell_type": "code",
   "execution_count": null,
   "metadata": {},
   "outputs": [],
   "source": [
    "edad : str = \"10\"                                                   \n",
    "costo : int = 10                                                    \n",
    "dias : list = [\"lunes\", \"martes\", \"miercoles\", \"jueves\", \"viernes\"]"
   ]
  },
  {
   "cell_type": "markdown",
   "metadata": {},
   "source": [
    "Las variable $edad$ es tipo string, ie, de caracteres, con valor \"10\".\n",
    "\n",
    "La variable $costo$ es numérica, particularmente un valor entero igual a 10.\n",
    "\n",
    "La variable $dias$ es una lista, con 5 elementos tipo string con los valores \"lunes\", \"martes\", \"miercoles\", \"jueves\" y \"viernes\"."
   ]
  },
  {
   "cell_type": "markdown",
   "metadata": {},
   "source": [
    "# Actividad 4\n",
    "\n",
    "Crear un programa que defina expresamente una variable de tipo texto\n",
    "llamada “varTexto” y asignarle el valor “Hola que tal”, muéstrela en\n",
    "pantalla a través de un print que diga “El valor de la variable es:”. Hacer\n",
    "lo mismo con una variable de tipo numérica llamada “varNumero”, Cuál\n",
    "es la diferencia?\n"
   ]
  },
  {
   "cell_type": "code",
   "execution_count": 4,
   "metadata": {},
   "outputs": [
    {
     "name": "stdout",
     "output_type": "stream",
     "text": [
      "El valor de la variable varTexto es: Hola que tal.\n",
      "\n",
      "El valor de la variable varNumero es: 1.0.\n"
     ]
    }
   ],
   "source": [
    "varTexto = \"Hola que tal\"\n",
    "print(f\"El valor de la variable varTexto es: {varTexto}.\\n\")\n",
    "varNumero = 1.0\n",
    "print(f\"El valor de la variable varNumero es: {varNumero}.\")"
   ]
  },
  {
   "cell_type": "markdown",
   "metadata": {},
   "source": [
    "La diferencia en sí no es ninguna, pues en cada caso se despliega el valor corrrespondiente a cada variable, se puede destacar que las varibles tipo $float$ es posible cambiar el formato a imprimir."
   ]
  },
  {
   "cell_type": "markdown",
   "metadata": {},
   "source": [
    "# Actividad 5\n",
    "Crear un programa que lea el nombre, el apellido y el año de nacimiento\n",
    "de una persona, y entregue el mensaje: “Hey nombre apellido, tu edad es\n",
    "XX años!”. "
   ]
  },
  {
   "cell_type": "code",
   "execution_count": 5,
   "metadata": {},
   "outputs": [
    {
     "name": "stdout",
     "output_type": "stream",
     "text": [
      "Hey Nicolas Nuñez, tu edad es 29 años!.\n",
      "\n"
     ]
    }
   ],
   "source": [
    "nombre : str = input(\"Ingresa tu nombre:\\n\")\n",
    "apellido : str = input(\"Ingresa tu apellido:\\n\")\n",
    "ano_nacimiento = int(input(\"Ingresa el año de tu nacimiento:\\n\"))\n",
    "edad = 2024 - ano_nacimiento\n",
    "\n",
    "print(f\"Hey {nombre} {apellido}, tu edad es {edad} años!.\\n\")"
   ]
  }
 ],
 "metadata": {
  "kernelspec": {
   "display_name": "Python 3",
   "language": "python",
   "name": "python3"
  },
  "language_info": {
   "codemirror_mode": {
    "name": "ipython",
    "version": 3
   },
   "file_extension": ".py",
   "mimetype": "text/x-python",
   "name": "python",
   "nbconvert_exporter": "python",
   "pygments_lexer": "ipython3",
   "version": "3.11.7"
  }
 },
 "nbformat": 4,
 "nbformat_minor": 2
}
