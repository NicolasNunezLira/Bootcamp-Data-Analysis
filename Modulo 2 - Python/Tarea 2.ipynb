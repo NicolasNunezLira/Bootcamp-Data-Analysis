{
 "cells": [
  {
   "cell_type": "markdown",
   "metadata": {},
   "source": [
    "# Actividad 1\n",
    "Crear un programa que ingrese un número entero positivo, y el sistema\n",
    "le responda si ese número es par o impar."
   ]
  },
  {
   "cell_type": "code",
   "execution_count": 98,
   "metadata": {},
   "outputs": [
    {
     "name": "stdout",
     "output_type": "stream",
     "text": [
      "El número 4 es par.\n"
     ]
    }
   ],
   "source": [
    "num = int(input(\"Ingrese un número entero positivo:\"))\n",
    "if num <=0:\n",
    "    print(f\"El número ingresado {num} no es positivo.\")\n",
    "else :\n",
    "    if num%2 == 0 :\n",
    "        print(f\"El número {num} es par.\")\n",
    "    else :\n",
    "        print(f\"El número {num} es impar.\")"
   ]
  },
  {
   "cell_type": "markdown",
   "metadata": {},
   "source": [
    "# Actividad 2\n",
    "Crear un algoritmo que ingrese dos números y una operación\n",
    "matemática (básica), y el sistema le responda el resultado de esa\n",
    "operación."
   ]
  },
  {
   "cell_type": "code",
   "execution_count": 99,
   "metadata": {},
   "outputs": [
    {
     "name": "stdout",
     "output_type": "stream",
     "text": [
      "El resultado de 1.0 + 2.0 es 3.0\n"
     ]
    }
   ],
   "source": [
    "op = str(input(\"Ingrese el operador(+,-,*,/):\"))\n",
    "if op == \"+\":\n",
    "    a = float(input(f\"Ingrese el primer sumando:\"))\n",
    "    b = float(input(f\"Ingrese el segundo sumando:\"))\n",
    "    print(f\"El resultado de {a} {op} {b} es {a+b}\")\n",
    "elif op == \"-\":\n",
    "    a = float(input(f\"Ingrese el minuendo:\"))\n",
    "    b = float(input(f\"Ingrese el sustraendo:\"))\n",
    "    print(f\"El resultado de {a} {op} {b} es {a-b}\")\n",
    "elif op == \"*\":\n",
    "    a = float(input(f\"Ingrese el primer factor:\"))\n",
    "    b = float(input(f\"Ingrese el segundo factor:\"))\n",
    "    print(f\"El resultado de {a} {op} {b} es {a*b}\")\n",
    "elif op == \"/\":\n",
    "    a = float(input(f\"Ingrese el dividendo:\"))\n",
    "    b = float(input(f\"Ingrese el divisor:\"))\n",
    "    print(f\"El resultado de {a} {op} {b} es {a/b}\")\n",
    "else :\n",
    "    print(f\"El operador ingresado {op} no es válido. Intente nuevamente.\")"
   ]
  },
  {
   "cell_type": "markdown",
   "metadata": {},
   "source": [
    "# Actividad 3\n",
    "Crear un programa que lea un número entero positivo mayor a 1 y se\n",
    "muestren todos los enteros desde 1 hasta el número ingresado."
   ]
  },
  {
   "cell_type": "code",
   "execution_count": 100,
   "metadata": {},
   "outputs": [
    {
     "name": "stdout",
     "output_type": "stream",
     "text": [
      "1\n",
      "\n",
      "2\n",
      "\n",
      "3\n",
      "\n"
     ]
    }
   ],
   "source": [
    "num = int(input(f\"Ingrese un número entero positivo mayor a 1:\"))\n",
    "if num <= 1:\n",
    "    print(f\"El número {num} ingresado no es mayor que 1.\")\n",
    "else :\n",
    "    for i in range(1,num+1) :\n",
    "        print(f\"{i}\\n\")"
   ]
  },
  {
   "cell_type": "markdown",
   "metadata": {},
   "source": [
    "# Actividad 4\n",
    "Crear un algoritmo que lea un número entero positivo, y responda si\n",
    "ese número es primo o no."
   ]
  },
  {
   "cell_type": "code",
   "execution_count": 101,
   "metadata": {},
   "outputs": [
    {
     "name": "stdout",
     "output_type": "stream",
     "text": [
      "El número 89 es primo.\n"
     ]
    }
   ],
   "source": [
    "def isPrime(n):\n",
    "    for i in range(2,int(n**0.5)+1):\n",
    "        if n%i==0:\n",
    "            return False    \n",
    "    return True\n",
    "\n",
    "num = int(input(f\"Ingrese un número entero positivo:\"))\n",
    "if num <=0 :\n",
    "    print(f\"El número ingresado {num} no es positivo. Intentelo nuevamente.\")\n",
    "elif num == 1:\n",
    "    print(f\"El número {num} no es primo.\")\n",
    "elif isPrime(num):\n",
    "    print(f\"El número {num} es primo.\")\n",
    "else:\n",
    "    print(f\"El número {num} no es primo.\")"
   ]
  },
  {
   "cell_type": "markdown",
   "metadata": {},
   "source": [
    "# Actividad 5\n",
    "Modifique el algoritmo anterior, para mostrar los divisores del número\n",
    "en caso de que NO sea primo."
   ]
  },
  {
   "cell_type": "code",
   "execution_count": 104,
   "metadata": {},
   "outputs": [
    {
     "name": "stdout",
     "output_type": "stream",
     "text": [
      "Los divisores de 80 son [1, 2, 4, 5, 8, 10, 16, 20, 40, 80]\n"
     ]
    }
   ],
   "source": [
    "def divisores(n):\n",
    "    l = [1]\n",
    "    for i in range(2,n+1):\n",
    "        if n%i == 0:\n",
    "            l.append(i)\n",
    "    return l\n",
    "\n",
    "num = int(input(f\"Ingrese un número entero positivo:\"))\n",
    "if num <=0 :\n",
    "    print(f\"El número ingresado {num} no es positivo. Intentelo nuevamente.\")\n",
    "elif num == 1:\n",
    "    print(f\"El divisor de {num} es {num}.\")\n",
    "elif isPrime(num):\n",
    "    print(f\"El número {num} es primo.\")\n",
    "else :\n",
    "    print(f\"Los divisores de {num} son {divisores(num)}\")"
   ]
  },
  {
   "cell_type": "markdown",
   "metadata": {},
   "source": [
    "# Actividad 6\n",
    "Modifique el algoritmo de la pregunta 1 para que la lectura del número\n",
    "sea indefinida, hasta que el usuario ingrese un 0."
   ]
  },
  {
   "cell_type": "code",
   "execution_count": 106,
   "metadata": {},
   "outputs": [
    {
     "name": "stdout",
     "output_type": "stream",
     "text": [
      "El número ingresado -1 es negativo. Intentelo nuevamente.\n",
      "El número 2 es par.\n",
      "El número 3 es impar.\n",
      "El número 4 es par.\n",
      "El número 1 es impar.\n",
      "El número ingresado -1 es negativo. Intentelo nuevamente.\n"
     ]
    }
   ],
   "source": [
    "cond : bool = True\n",
    "while cond:\n",
    "    num = int(input(\"Ingrese un número entero positivo:\"))\n",
    "    if num <0:\n",
    "        print(f\"El número ingresado {num} es negativo. Intentelo nuevamente.\")\n",
    "    elif num >0 :\n",
    "        if num%2 == 0 :\n",
    "            print(f\"El número {num} es par.\")\n",
    "        else :\n",
    "            print(f\"El número {num} es impar.\")\n",
    "    \n",
    "    if num==0:\n",
    "        cond : bool = False"
   ]
  },
  {
   "cell_type": "markdown",
   "metadata": {},
   "source": [
    "# Actividad 7\n",
    "Crear un algoritmo que lea 10 número, y entregue el promedio de estos\n",
    "números.\n"
   ]
  },
  {
   "cell_type": "code",
   "execution_count": 107,
   "metadata": {},
   "outputs": [
    {
     "name": "stdout",
     "output_type": "stream",
     "text": [
      "Por favor ingrese 10 números.\n",
      "El promedio de los números ingresados [4.0, 5.0, 6.0, 12.0, 3.0, 4.0, 5.0, 6.0, 7.0, 8.0] es 6.0.\n",
      "\n"
     ]
    }
   ],
   "source": [
    "print(f\"Por favor ingrese 10 números.\")\n",
    "\n",
    "ordinales = [\"primer\", \"segundo\", \"tercer\", \"cuarto\", \"quinto\", \"sexto\", \"séptimo\", \"octavo\", \"noveno\", \"décimo\"]\n",
    "nums = []\n",
    "avg = 0\n",
    "\n",
    "for i in range(0,10):\n",
    "    aux = float(input(f\"Ingrese el {ordinales[i]}:\"))\n",
    "    nums.append(aux)\n",
    "    avg = avg + aux/10\n",
    "\n",
    "print(f\"El promedio de los números ingresados {nums} es {avg}.\")"
   ]
  },
  {
   "cell_type": "markdown",
   "metadata": {},
   "source": [
    "# Actividad 8\n",
    "Modificar el algoritmo anterior para que la cantidad de números sea\n",
    "indefinida, y se termine la lectura cuando el usuario ingrese un 0."
   ]
  },
  {
   "cell_type": "code",
   "execution_count": 73,
   "metadata": {},
   "outputs": [
    {
     "name": "stdout",
     "output_type": "stream",
     "text": [
      "Por favor ingrese los números necesarios para el calculo del promedio. Termine el ingreso de datos con un 0.\n",
      "\n",
      "El promedio de los 11 números ingresados es 12.0\n"
     ]
    }
   ],
   "source": [
    "print(f\"Por favor ingrese los números necesarios para el calculo del promedio. Termine el ingreso de datos con un 0.\\n\")\n",
    "\n",
    "sum = 0\n",
    "cont = 0\n",
    "cond = True\n",
    "\n",
    "while cond:\n",
    "    aux = float(input(f\"Ingrese el siguiente número:\"))\n",
    "    \n",
    "    if aux == 0:\n",
    "        cond = False\n",
    "    else:\n",
    "        sum += aux\n",
    "        cont += 1\n",
    "    \n",
    "if cont == 0:\n",
    "    printf(f\"Ningún número distinto de 0 ingresado. Intentelo nuevamente.\")\n",
    "else :\n",
    "    print(f\"El promedio de los {cont} números ingresados es {sum/cont}\")"
   ]
  },
  {
   "cell_type": "markdown",
   "metadata": {},
   "source": [
    "# Actividad 9\n",
    "Crear un programa dibuje un rectángulo con el símbolo “*”. La anchura\n",
    "y altura deben ser indicadas por el usuario."
   ]
  },
  {
   "cell_type": "code",
   "execution_count": 91,
   "metadata": {},
   "outputs": [
    {
     "name": "stdout",
     "output_type": "stream",
     "text": [
      "El rectángulo de ancho 6 y alto 8 queda dado por:\n",
      "******\n",
      "*    *\n",
      "*    *\n",
      "*    *\n",
      "*    *\n",
      "*    *\n",
      "*    *\n",
      "******\n"
     ]
    }
   ],
   "source": [
    "ancho = int(input(f\"Ingrese el ancho deseado del rectángulo:\"))\n",
    "alto = int(input(f\"Ingrese el alto deseado del rectángulo:\"))\n",
    "\n",
    "if ancho <=0 or alto <=0:\n",
    "    print(f\"Ambos valores ingresados deben ser enteros positivos. Intentalo nuevamente.\\n\")\n",
    "else:\n",
    "    print(f\"El rectángulo de ancho {ancho} y alto {alto} queda dado por:\")\n",
    "    if ancho == 1:\n",
    "        if alto == 1:\n",
    "            print(\"*\")\n",
    "        else:\n",
    "            for i in range(0,alto):\n",
    "                print(\"*\")\n",
    "    else:\n",
    "        if alto == 1:\n",
    "            print(ancho*\"*\")\n",
    "        else:\n",
    "            print(ancho*\"*\")\n",
    "            for i in range(0,alto-2):\n",
    "                print(\"*\"+(ancho-2)*\" \" + \"*\")\n",
    "            print(ancho*\"*\")"
   ]
  },
  {
   "cell_type": "markdown",
   "metadata": {},
   "source": [
    "# Actividad 10\n",
    "Un número factorial se define por:\n",
    "$$n! = n*(n-1)*(n-2)*(n-3)……3*2*1$$\n",
    "por ejemplo:\n",
    "$$5! = 5*4*3*2*1 = 120$$\n",
    "Crear un programa que lea la entrada de un número entero positivo y\n",
    "devuelva el valor del número factorial.\n"
   ]
  },
  {
   "cell_type": "code",
   "execution_count": 96,
   "metadata": {},
   "outputs": [
    {
     "name": "stdout",
     "output_type": "stream",
     "text": [
      "El factorial de 5 es 120.\n"
     ]
    }
   ],
   "source": [
    "num = int(input(f\"Ingrese un valor entero positivo:\"))\n",
    "\n",
    "fact = 1\n",
    "if num < 0:\n",
    "    print(f\"El número ingresado es negativo. Intentalo nuevamente.\")\n",
    "elif num == 0:\n",
    "    print(f\"Por convención 0! es igual a 1.\")\n",
    "else:\n",
    "    for i in range(2,num+1):\n",
    "        fact *= i\n",
    "    print(f\"El factorial de {num} es {fact}.\")"
   ]
  },
  {
   "cell_type": "markdown",
   "metadata": {},
   "source": [
    "# Actividad 11\n",
    "Crea un programa que muestre la tabla de multiplicar de un número\n",
    "específico (por ejemplo, el 7)."
   ]
  },
  {
   "cell_type": "code",
   "execution_count": 97,
   "metadata": {},
   "outputs": [
    {
     "name": "stdout",
     "output_type": "stream",
     "text": [
      "La tabla de multiplicar de 7 queda dada por:\n",
      "7 x 1 = 7\n",
      "7 x 2 = 14\n",
      "7 x 3 = 21\n",
      "7 x 4 = 28\n",
      "7 x 5 = 35\n",
      "7 x 6 = 42\n",
      "7 x 7 = 49\n",
      "7 x 8 = 56\n",
      "7 x 9 = 63\n",
      "7 x 10 = 70\n"
     ]
    }
   ],
   "source": [
    "num = int(input(\"Ingrese un número:\"))\n",
    "\n",
    "print(f\"La tabla de multiplicar de {num} queda dada por:\")\n",
    "for i in range(1,11):\n",
    "    print(f\"{num} x {i} = {num*i}\")"
   ]
  }
 ],
 "metadata": {
  "kernelspec": {
   "display_name": "Python 3",
   "language": "python",
   "name": "python3"
  },
  "language_info": {
   "codemirror_mode": {
    "name": "ipython",
    "version": 3
   },
   "file_extension": ".py",
   "mimetype": "text/x-python",
   "name": "python",
   "nbconvert_exporter": "python",
   "pygments_lexer": "ipython3",
   "version": "3.11.8"
  }
 },
 "nbformat": 4,
 "nbformat_minor": 2
}
