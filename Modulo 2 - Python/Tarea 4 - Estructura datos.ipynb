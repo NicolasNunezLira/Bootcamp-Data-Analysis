{
 "cells": [
  {
   "cell_type": "markdown",
   "metadata": {},
   "source": [
    "# Actividad 4 Módulo 2"
   ]
  },
  {
   "cell_type": "markdown",
   "metadata": {},
   "source": [
    "## Ejercicio 1\n",
    "Crea una función **invertir_palabra** que tome una palabra como\n",
    "argumento y devuelva la palabra invertida."
   ]
  },
  {
   "cell_type": "code",
   "execution_count": 9,
   "metadata": {},
   "outputs": [],
   "source": [
    "def invertir_palabra(palabra):\n",
    "    \"\"\"\n",
    "    Función que dado un input string palabra lo retorna a la inversa.\n",
    "    \"\"\"\n",
    "    return palabra[-1::-1]"
   ]
  },
  {
   "cell_type": "code",
   "execution_count": 10,
   "metadata": {},
   "outputs": [
    {
     "name": "stdout",
     "output_type": "stream",
     "text": [
      "Al invertir \"Hola Mundo!\" se obtiene \"!odnuM aloH\".\n"
     ]
    }
   ],
   "source": [
    "# Test Ejercicio 1\n",
    "palabra = \"Hola Mundo!\"\n",
    "print(f\"Al invertir \\\"{palabra}\\\" se obtiene \\\"{invertir_palabra(palabra)}\\\".\")"
   ]
  },
  {
   "cell_type": "markdown",
   "metadata": {},
   "source": [
    "## Ejercicio 2\n",
    "Usando la función anterior, escribir un programa que pida al usuario\n",
    "una palabra y muestre por pantalla si es un palíndromo."
   ]
  },
  {
   "cell_type": "code",
   "execution_count": 11,
   "metadata": {},
   "outputs": [],
   "source": [
    "def es_palindromo(palabra):\n",
    "    \"\"\"\n",
    "    Dado un input string palabra retorna:\n",
    "        True si palabra es un palíndromo\n",
    "        False si palabra no es un palíndromo.\n",
    "    Palíndromo son las palabras que se escriben igual al reves y al derecho.\n",
    "    \"\"\"\n",
    "    if palabra.lower() == invertir_palabra(palabra).lower():\n",
    "        return True\n",
    "    else:\n",
    "        return False"
   ]
  },
  {
   "cell_type": "code",
   "execution_count": 12,
   "metadata": {},
   "outputs": [
    {
     "name": "stdout",
     "output_type": "stream",
     "text": [
      "Girafarig si es un palíndromo.\n"
     ]
    }
   ],
   "source": [
    "# Test Ejercicio 2\n",
    "palabra = \"Girafarig\"\n",
    "if es_palindromo(palabra):\n",
    "    print(f\"{palabra.capitalize()} si es un palíndromo.\")\n",
    "else:\n",
    "    print(f\"{palabra.capitalize()} no es un palíndromo.\")"
   ]
  },
  {
   "cell_type": "markdown",
   "metadata": {},
   "source": [
    "## Ejercicio 3\n",
    "Escriba una función que reciba un texto, y cuente cuantas palabras\n",
    "tiene.\n"
   ]
  },
  {
   "cell_type": "code",
   "execution_count": 13,
   "metadata": {},
   "outputs": [],
   "source": [
    "def contar_palabras(frase):\n",
    "    \"\"\"\n",
    "    Dado un string frase la función contar_palabras(frase) retorna la cantidad de palabras que contiene.\n",
    "    \"\"\"\n",
    "    return len(frase.split(\" \"))"
   ]
  },
  {
   "cell_type": "code",
   "execution_count": 14,
   "metadata": {},
   "outputs": [
    {
     "name": "stdout",
     "output_type": "stream",
     "text": [
      "\"Lorem ipsum dolor sit amet\" contiene 5 palabras.\n"
     ]
    }
   ],
   "source": [
    "# Test Ejercicio 3\n",
    "frase = \"Lorem ipsum dolor sit amet\"\n",
    "print(f\"\\\"{frase}\\\" contiene {contar_palabras(frase)} palabras.\")"
   ]
  },
  {
   "cell_type": "markdown",
   "metadata": {},
   "source": [
    "## Ejercicio 4\n",
    "Escribe un código que genere una lista de los cuadrados de los\n",
    "números del 1 al 10. (usar listas por comprensión)."
   ]
  },
  {
   "cell_type": "code",
   "execution_count": 15,
   "metadata": {},
   "outputs": [
    {
     "name": "stdout",
     "output_type": "stream",
     "text": [
      "[1, 4, 9, 16, 25, 36, 49, 64, 81, 100]\n"
     ]
    }
   ],
   "source": [
    "cuadrados = [x**2 for x in range(1, 11)]\n",
    "print(cuadrados)"
   ]
  },
  {
   "cell_type": "markdown",
   "metadata": {},
   "source": [
    "## Ejercicio 5\n",
    "Crear una función, que revise, con expresiones regulares que un\n",
    "texto contenga sólo caracteres alfanuméricos.\n"
   ]
  },
  {
   "cell_type": "code",
   "execution_count": 16,
   "metadata": {},
   "outputs": [],
   "source": [
    "import re"
   ]
  },
  {
   "cell_type": "code",
   "execution_count": 17,
   "metadata": {},
   "outputs": [],
   "source": [
    "def es_alfanumerica(texto):\n",
    "    \"\"\"\n",
    "    Funcion que dado un input string texto retorna:\n",
    "        True si texto sólo contiene caracteres alfanuméricos\n",
    "        False si texto no sólo contiene caracteres alfanuméricos\n",
    "    \"\"\"\n",
    "    patron = re.compile(r\"^\\w+\")\n",
    "    return bool(patron.match(texto))"
   ]
  },
  {
   "cell_type": "code",
   "execution_count": 18,
   "metadata": {},
   "outputs": [
    {
     "name": "stdout",
     "output_type": "stream",
     "text": [
      "\"¡lorem ipsum dolor sit amet!\" no sólo contiene caracteres alfanuméricos.\n"
     ]
    }
   ],
   "source": [
    "# Test Ejercicio 5\n",
    "texto = \"¡Lorem ipsum dolor sit amet!\"\n",
    "if es_alfanumerica(texto):\n",
    "    print(f\"\\\"{texto.capitalize()}\\\" sólo contiene caracteres alfanuméricos.\")\n",
    "else:\n",
    "    print(f\"\\\"{texto.capitalize()}\\\" no sólo contiene caracteres alfanuméricos.\")"
   ]
  },
  {
   "cell_type": "markdown",
   "metadata": {},
   "source": [
    "## Ejercicio 6\n",
    "Crear una función que revise, con expresiones regulares, que un\n",
    "texto tenga el formato de email."
   ]
  },
  {
   "cell_type": "code",
   "execution_count": 19,
   "metadata": {},
   "outputs": [],
   "source": [
    "def es_email(email):\n",
    "    \"\"\"\n",
    "    Función que dado un input string email retorna:\n",
    "        True si email tiene el formato correspondiente\n",
    "        False si texto no tiene el formato correspondiente.\n",
    "    Donde el formato correspondiente esta dado por:\n",
    "        sample@domain.extension\n",
    "    \"\"\"\n",
    "    patron = re.compile(r\"\\w+\\@\\w+\\.\\w+\")\n",
    "    return bool(patron.match(email))"
   ]
  },
  {
   "cell_type": "code",
   "execution_count": 20,
   "metadata": {},
   "outputs": [
    {
     "name": "stdout",
     "output_type": "stream",
     "text": [
      "\"sample@domainextension\" no tiene el formato de email.\n"
     ]
    }
   ],
   "source": [
    "# Test Ejercicio 6\n",
    "email = \"sample@domainextension\"\n",
    "if es_email(email):\n",
    "    print(f\"\\\"{email}\\\" tiene el formato de email.\")\n",
    "else:\n",
    "    print(f\"\\\"{email}\\\" no tiene el formato de email.\")"
   ]
  },
  {
   "cell_type": "markdown",
   "metadata": {},
   "source": [
    "## Ejercicio 7\n",
    "Escribe un programa que obtenga la fecha actual y la imprima en\n",
    "formato dd/mm/aaaa.\n"
   ]
  },
  {
   "cell_type": "code",
   "execution_count": 21,
   "metadata": {},
   "outputs": [
    {
     "name": "stdout",
     "output_type": "stream",
     "text": [
      "La fecha de hoy es 15-02-2024.\n"
     ]
    }
   ],
   "source": [
    "from datetime import datetime\n",
    "\n",
    "hoy = datetime.now()\n",
    "hoy_formateada = hoy.strftime(\"%d-%m-%Y.\")\n",
    "print(f\"La fecha de hoy es {hoy_formateada}\")"
   ]
  },
  {
   "cell_type": "markdown",
   "metadata": {},
   "source": [
    "## Ejercicio 8\n",
    "Escribir un programa que reciba un texto, y cuente cuantas\n",
    "veces cada letra aparece en el texto (un contador de letras). Debe\n",
    "indicar la cantidad de veces que cada una de las letras se repite."
   ]
  },
  {
   "cell_type": "code",
   "execution_count": 22,
   "metadata": {},
   "outputs": [],
   "source": [
    "def contar_letras(texto):\n",
    "    \"\"\"\n",
    "    Función que dado un input string texto retorna la cantidad de veces que cada letra se repite en él.\n",
    "    \"\"\"\n",
    "    texto = texto.lower() # Texto en minusculas\n",
    "    abecedario = (\"a\", \"b\", \"c\", \"d\", \"e\", \"f\", \"g\", \"h\", \"i\", \"j\", \"k\", \"l\", \"m\", \"n\", \"ñ\", \"o\", \"p\", \n",
    "                  \"q\", \"r\", \"s\", \"t\", \"u\", \"v\", \"w\", \"x\", \"y\", \"z\")\n",
    "    cuenta = []\n",
    "    for letra in abecedario:\n",
    "        cuenta.append(texto.count(letra))\n",
    "    return abecedario, cuenta"
   ]
  },
  {
   "cell_type": "code",
   "execution_count": 23,
   "metadata": {},
   "outputs": [
    {
     "name": "stdout",
     "output_type": "stream",
     "text": [
      "La letra \"a\" aparece 1 veces en el texto.\n",
      "La letra \"b\" no aparece en el texto.\n",
      "La letra \"c\" no aparece en el texto.\n",
      "La letra \"d\" aparece 1 veces en el texto.\n",
      "La letra \"e\" aparece 2 veces en el texto.\n",
      "La letra \"f\" no aparece en el texto.\n",
      "La letra \"g\" no aparece en el texto.\n",
      "La letra \"h\" no aparece en el texto.\n",
      "La letra \"i\" aparece 2 veces en el texto.\n",
      "La letra \"j\" no aparece en el texto.\n",
      "La letra \"k\" no aparece en el texto.\n",
      "La letra \"l\" aparece 2 veces en el texto.\n",
      "La letra \"m\" aparece 3 veces en el texto.\n",
      "La letra \"n\" no aparece en el texto.\n",
      "La letra \"ñ\" no aparece en el texto.\n",
      "La letra \"o\" aparece 3 veces en el texto.\n",
      "La letra \"p\" aparece 1 veces en el texto.\n",
      "La letra \"q\" no aparece en el texto.\n",
      "La letra \"r\" aparece 2 veces en el texto.\n",
      "La letra \"s\" aparece 2 veces en el texto.\n",
      "La letra \"t\" aparece 2 veces en el texto.\n",
      "La letra \"u\" aparece 1 veces en el texto.\n",
      "La letra \"v\" no aparece en el texto.\n",
      "La letra \"w\" no aparece en el texto.\n",
      "La letra \"x\" no aparece en el texto.\n",
      "La letra \"y\" no aparece en el texto.\n",
      "La letra \"z\" no aparece en el texto.\n"
     ]
    }
   ],
   "source": [
    "# Test Ejercicio 8\n",
    "texto = \"¡Lorem ipsum dolor sit amet!\"\n",
    "abecedario, cuenta = contar_letras(texto)\n",
    "\n",
    "for i in range(len(abecedario)):\n",
    "    if cuenta[i] == 0:\n",
    "        print(f\"La letra \\\"{abecedario[i]}\\\" no aparece en el texto.\")\n",
    "    else:\n",
    "        print(f\"La letra \\\"{abecedario[i]}\\\" aparece {cuenta[i]} veces en el texto.\")"
   ]
  },
  {
   "cell_type": "markdown",
   "metadata": {},
   "source": [
    "## Ejercicio 9\n",
    "Para el mismo ejercicio anterior, mejorar el algoritmo, para que\n",
    "cuente sólo letras, sin importar si son mayúsculas o minúsculas, los\n",
    "números los agrupe en un solo contador, no tome en cuenta los\n",
    "espacios y para cualquier otro carácter, lo agrupe en el contador de “otros”. Dejar los contadores de “números” y “otros” al final y\n",
    "ordenar la lista por orden alfabético descendente"
   ]
  },
  {
   "cell_type": "code",
   "execution_count": 24,
   "metadata": {},
   "outputs": [],
   "source": [
    "def contar_texto(texto):\n",
    "    \"\"\"\n",
    "    Función que dado un input string texto retorna la cantidad de veces que cada letra se repite en él, y cuantos números y signos contiene.\n",
    "    \"\"\"\n",
    "    texto = texto.lower() # Texto en minusculas\n",
    "    texto = texto.replace(\" \",\"\") # Texto sin espacios\n",
    "    abecedario = [\"a\", \"b\", \"c\", \"d\", \"e\", \"f\", \"g\", \"h\", \"i\", \"j\", \"k\", \"l\", \"m\", \"n\", \"ñ\", \"o\", \"p\", \n",
    "                  \"q\", \"r\", \"s\", \"t\", \"u\", \"v\", \"w\", \"x\", \"y\", \"z\"]\n",
    "    abecedario = abecedario[-1::-1]\n",
    "    numeros = (\"0\", \"1\", \"2\", \"3\", \"4\", \"5\", \"6\", \"7\", \"8\", \"9\")\n",
    "\n",
    "    # Contador por letras\n",
    "    cuenta = []\n",
    "    for letra in abecedario:\n",
    "        cuenta.append(texto.count(letra))\n",
    "    \n",
    "    \n",
    "    # Contador de números\n",
    "    cuenta_numeros = 0\n",
    "    for numero in numeros:\n",
    "        cuenta_numeros += texto.count(numero)\n",
    "    abecedario.append(\"numeros\")\n",
    "    cuenta.append(cuenta_numeros)\n",
    "    \n",
    "    # Contador de signos\n",
    "    abecedario.append(\"otros\")\n",
    "    cuenta.append(len(texto)-sum(cuenta))\n",
    "    \n",
    "    return abecedario, cuenta"
   ]
  },
  {
   "cell_type": "code",
   "execution_count": 25,
   "metadata": {},
   "outputs": [
    {
     "name": "stdout",
     "output_type": "stream",
     "text": [
      "La letra \"z\" no aparece en el texto.\n",
      "La letra \"y\" no aparece en el texto.\n",
      "La letra \"x\" no aparece en el texto.\n",
      "La letra \"w\" no aparece en el texto.\n",
      "La letra \"v\" no aparece en el texto.\n",
      "La letra \"u\" aparece 1 veces en el texto.\n",
      "La letra \"t\" aparece 2 veces en el texto.\n",
      "La letra \"s\" aparece 2 veces en el texto.\n",
      "La letra \"r\" aparece 2 veces en el texto.\n",
      "La letra \"q\" no aparece en el texto.\n",
      "La letra \"p\" aparece 1 veces en el texto.\n",
      "La letra \"o\" aparece 3 veces en el texto.\n",
      "La letra \"ñ\" no aparece en el texto.\n",
      "La letra \"n\" no aparece en el texto.\n",
      "La letra \"m\" aparece 3 veces en el texto.\n",
      "La letra \"l\" aparece 2 veces en el texto.\n",
      "La letra \"k\" no aparece en el texto.\n",
      "La letra \"j\" no aparece en el texto.\n",
      "La letra \"i\" aparece 2 veces en el texto.\n",
      "La letra \"h\" no aparece en el texto.\n",
      "La letra \"g\" no aparece en el texto.\n",
      "La letra \"f\" no aparece en el texto.\n",
      "La letra \"e\" aparece 2 veces en el texto.\n",
      "La letra \"d\" aparece 1 veces en el texto.\n",
      "La letra \"c\" no aparece en el texto.\n",
      "La letra \"b\" no aparece en el texto.\n",
      "La letra \"a\" aparece 1 veces en el texto.\n",
      "Hay 2 números y 3 signos en el texto.\n"
     ]
    }
   ],
   "source": [
    "# Test Ejercicio 9\n",
    "texto = \"¡Lorem ipsum dolor sit amet! :42\"\n",
    "abecedario, cuenta = contar_texto(texto)\n",
    "\n",
    "for i in range(len(abecedario)-2):\n",
    "    if cuenta[i] == 0:\n",
    "        print(f\"La letra \\\"{abecedario[i]}\\\" no aparece en el texto.\")\n",
    "    else:\n",
    "        print(f\"La letra \\\"{abecedario[i]}\\\" aparece {cuenta[i]} veces en el texto.\")\n",
    "print(f\"Hay {cuenta[-2]} números y {cuenta[-1]} signos en el texto.\")"
   ]
  },
  {
   "cell_type": "markdown",
   "metadata": {},
   "source": [
    "## Ejercicio 10\n",
    "Escribir un programa que guarde en una variable el diccionario\n",
    "{'Euro':'€', 'Dollar':'$', 'Yen':'¥'}, pregunte al usuario por una divisa y\n",
    "muestre su símbolo o un mensaje de aviso si la divisa no está en el\n",
    "diccionario."
   ]
  },
  {
   "cell_type": "code",
   "execution_count": 26,
   "metadata": {},
   "outputs": [
    {
     "name": "stdout",
     "output_type": "stream",
     "text": [
      "El simbolo de la divisa Dollar es $.\n"
     ]
    }
   ],
   "source": [
    "divisas = {'Euro':'€', 'Dollar':'$', 'Yen':'¥'}\n",
    "moneda = str(input(\"Ingrese el nombre de la divisa de la que desea obtener el simbolo:\"))\n",
    "if moneda in divisas:\n",
    "    print(f\"El simbolo de la divisa {moneda} es {divisas[moneda]}.\")\n",
    "else:\n",
    "    print(f\"Lo sentimos pero no tenemos el simbolo de la divisa ingresada.\")"
   ]
  },
  {
   "cell_type": "markdown",
   "metadata": {},
   "source": [
    "## Ejercicio 11\n",
    "Crear un programa que le pida al usuario ingresar dos textos, y\n",
    "calcule el tiempo trascurrido entre ambos, con formato minutos,\n",
    "segundos milisegundos.\n"
   ]
  },
  {
   "cell_type": "code",
   "execution_count": 27,
   "metadata": {},
   "outputs": [
    {
     "name": "stdout",
     "output_type": "stream",
     "text": [
      "El tiempo calculado entre el ingreso de ambos textos es 0 minutos, 2 segundos y 385 milisegundos.\n"
     ]
    }
   ],
   "source": [
    "from datetime import datetime, timedelta\n",
    "\n",
    "text1 = input(\"Ingrese el primer texto:\")\n",
    "time1 = datetime.now()\n",
    "\n",
    "text2 = input(\"Ingrese el segundo texto:\")\n",
    "time2 =  datetime.now()\n",
    "\n",
    "# Calculo diferencia de tiempo\n",
    "delta = time2 - time1\n",
    "minutos, segundos = divmod(delta.seconds, 60)\n",
    "milisegundos = delta.microseconds//1000\n",
    "\n",
    "\n",
    "print(f\"El tiempo calculado entre el ingreso de ambos textos es {minutos} minutos, {segundos} segundos y {milisegundos} milisegundos.\")"
   ]
  },
  {
   "cell_type": "markdown",
   "metadata": {},
   "source": [
    "## Actividad 12\n",
    "Crear un programa donde el usuario ingrese números,\n",
    "constantemente, hasta que ingrese un 0. Cuando esto ocurra, el\n",
    "sistema debe devolver la moda del conjunto de números (moda: el\n",
    "número que más se repite)."
   ]
  },
  {
   "cell_type": "code",
   "execution_count": 28,
   "metadata": {},
   "outputs": [],
   "source": [
    "def moda(numeros):\n",
    "    \"\"\"\n",
    "    Función que dado un input list numeros retorna la moda de dicha lista.\n",
    "    \"\"\"\n",
    "    sin_repetir = list(set(numeros))\n",
    "    cuenta = []\n",
    "    for numero in sin_repetir:\n",
    "        cuenta.append(numeros.count(numero))\n",
    "    indices = [i for i, valor in enumerate(cuenta) if valor == max(cuenta)]\n",
    "    return [sin_repetir[i] for i in indices]"
   ]
  },
  {
   "cell_type": "code",
   "execution_count": 29,
   "metadata": {},
   "outputs": [
    {
     "name": "stdout",
     "output_type": "stream",
     "text": [
      "Ingrese la lista de números de la cual desea calcular la moda, para terminar el proceso ingrese un 0.\n",
      "La moda de los números de la lista [1.0, 2.0, 2.0, 2.0, 3.0, 3.0, 3.0, 4.0, 4.0] es [2.0, 3.0].\n"
     ]
    }
   ],
   "source": [
    "cond = True\n",
    "print('Ingrese la lista de números de la cual desea calcular la moda, para terminar el proceso ingrese un 0.')\n",
    "numeros = []\n",
    "while cond:\n",
    "    aux = float(input(\"Ingrese el siguiente número:\"))\n",
    "    if aux != 0:\n",
    "        numeros.append(aux)\n",
    "    else:\n",
    "        cond = False\n",
    "\n",
    "print(f\"La moda de los números de la lista {numeros} es {moda(numeros)}.\")"
   ]
  },
  {
   "cell_type": "markdown",
   "metadata": {},
   "source": [
    "## Ejercicio 13\n",
    "Pedir al usuario que ingrese una lista de números, positivos y\n",
    "negativos separados por “,” (coma). Guardarlos en una lista, y pedir\n",
    "al usuario si quiere ver sólo los valores positivos o sólo los\n",
    "negativos.\n"
   ]
  },
  {
   "cell_type": "code",
   "execution_count": 31,
   "metadata": {},
   "outputs": [
    {
     "name": "stdout",
     "output_type": "stream",
     "text": [
      "Los números positivos de la lista ingresada [1.0, 0.0, -1.0] son [1.0]\n"
     ]
    }
   ],
   "source": [
    "numeros = input(\"Ingrese una lista de números separados por comas(\\\",\\\"):\")\n",
    "signo = input(\"Ingrese \\\"+\\\" si desea ver sólo los positivos o \\\"-\\\" si desea ver sólo los negativos:\")\n",
    "\n",
    "lista = [float(n) for n in numeros.split(\",\")]\n",
    "\n",
    "# Separación de números por signo\n",
    "pos = []\n",
    "neg = []\n",
    "\n",
    "for n in lista:\n",
    "    if n>0:\n",
    "        pos.append(n)\n",
    "    elif n<0:\n",
    "        neg.append(n)\n",
    "\n",
    "# Desplegar los números pedidos\n",
    "if signo == \"+\":\n",
    "    print(f\"Los números positivos de la lista ingresada {lista} son {pos}\")\n",
    "elif signo == \"-\":\n",
    "    print(f\"Los números negativos de la lista ingresada {lista} son {neg}\")\n",
    "else:\n",
    "    print(\"Error en el ingreso de los valores deseados.\")"
   ]
  },
  {
   "cell_type": "markdown",
   "metadata": {},
   "source": [
    "## Ejercicio 14\n",
    "Crear un sistema de agenda semanal. El usuario tiene las\n",
    "siguientes opciones:\n",
    "1. Ingresar un nuevo evento, para lo que se le pide el día y el\n",
    "evento.\n",
    "2. Revisar la agenda, para lo que se le pide el día.\n",
    "3. Eliminar un evento, para lo que se le pide el día. Se le muestra\n",
    "un menú con los eventos, y debe ingresar el número de evento a\n",
    "eliminar.\n",
    "4. Vaciar un día, debe ingresar qué día eliminar.\n",
    "5. Eliminar la agenda. Vacía todo.\n",
    "    \n",
    "El día debe ser ingresado mediante las letras: LMXJVSD (X es\n",
    "miércoles), Para salir, ingresar un 0."
   ]
  },
  {
   "cell_type": "code",
   "execution_count": 36,
   "metadata": {},
   "outputs": [],
   "source": [
    "class AgendaSemanal():\n",
    "    def __init__(self):\n",
    "        # Inicializar la clase como un diccionario\n",
    "        self.agenda = {\"L\" : [], \"M\" : [], \"X\" : [], \"J\" : [], \"V\" : [], \"S\" : [], \"D\" : []}\n",
    "\n",
    "    def agregar_evento(self, dia, evento):\n",
    "        # Agregar un evento a un día específico\n",
    "        nombre_dias = {\"L\" : \"Lunes\", \"M\" : \"Martes\", \"X\" : \"Miércoles\", \"J\" : \"Jueves\", \"V\" : \"Viernes\", \"S\" : \"Sábado\", \"D\" : \"Domingo\"}\n",
    "        dia = dia.upper()\n",
    "        if dia in self.agenda:\n",
    "            self.agenda[dia].append(evento)\n",
    "            print(f\"Evento {evento} registrado con éxito el día {nombre_dias[dia]}.\")\n",
    "        else:\n",
    "            print(\"Día no valido.\")\n",
    "\n",
    "    def revisar(self,dia):\n",
    "        # Revisar los eventos del día de interes\n",
    "        nombre_dias = {\"L\" : \"Lunes\", \"M\" : \"Martes\", \"X\" : \"Miércoles\", \"J\" : \"Jueves\", \"V\" : \"Viernes\", \"S\" : \"Sábado\", \"D\" : \"Domingo\"}\n",
    "        dia = dia.upper()\n",
    "        if dia in self.agenda:\n",
    "            if len(self.agenda[dia])!=0:\n",
    "                print(f\"Los eventos del día {nombre_dias[dia]} son {self.agenda[dia]}.\")\n",
    "            else:\n",
    "                print(f\"No hay eventos el día {nombre_dias[dia]}\")\n",
    "        else:\n",
    "            print(\"Día no valido.\")\n",
    "\n",
    "    def eliminar_evento(self,dia):\n",
    "        # Eliminar un evento del día correspondiente\n",
    "        nombre_dias = {\"L\" : \"Lunes\", \"M\" : \"Martes\", \"X\" : \"Miércoles\", \"J\" : \"Jueves\", \"V\" : \"Viernes\", \"S\" : \"Sábado\", \"D\" : \"Domingo\"}\n",
    "        dia = dia.upper()\n",
    "        if dia in self.agenda:\n",
    "            print(f\"Los eventos del día {nombre_dias[dia]} son:\")\n",
    "            for i in range(len(self.agenda[dia])):\n",
    "                print(f\"{i}. {self.agenda[dia][i]}.\")\n",
    "            num = int(input(\"Ingrese el número de la posición del evento que desea eliminar:\"))\n",
    "            if num in range(len(self.agenda[dia])):\n",
    "                evento = self.agenda[dia].pop(num)\n",
    "                print(f\"Evento {evento} del día {nombre_dias[dia]} eliminado satisfactoriamente.\")\n",
    "            else:\n",
    "                print(\"Posición no valida.\")\n",
    "        else:\n",
    "            print(\"Día no valido.\")\n",
    "\n",
    "    def vaciar_dia(self,dia):\n",
    "        # Vaciar eventos de un día de la semana\n",
    "        nombre_dias = {\"L\" : \"Lunes\", \"M\" : \"Martes\", \"X\" : \"Miércoles\", \"J\" : \"Jueves\", \"V\" : \"Viernes\", \"S\" : \"Sábado\", \"D\" : \"Domingo\"}\n",
    "        dia = dia.upper()\n",
    "        if dia in self.agenda:\n",
    "            self.agenda[dia].clear()\n",
    "            print(f\"Eventos del día {nombre_dias[dia]} eliminado satisfactoriamente.\")\n",
    "        else:\n",
    "            print(\"Día no valido.\")\n",
    "\n",
    "    def vaciar_agenda(self):\n",
    "        # Vacia todos los días de la agenda semanal\n",
    "        for dia in self.agenda.keys():\n",
    "            self.agenda[dia].clear()\n",
    "        print(f\"Agenda vaciada con éxito.\")"
   ]
  },
  {
   "cell_type": "code",
   "execution_count": 38,
   "metadata": {},
   "outputs": [],
   "source": [
    "agenda = AgendaSemanal()\n",
    "dias = (\"L\",\"M\",\"X\",\"J\",\"V\",\"S\",\"D\")"
   ]
  },
  {
   "cell_type": "code",
   "execution_count": 39,
   "metadata": {},
   "outputs": [
    {
     "name": "stdout",
     "output_type": "stream",
     "text": [
      "Las opciones para la agenda semanal son:\n",
      "\t 0. Terminar la operación.\n",
      "\t 1. Ingresar un nuevo evento.\n",
      "\t 2. Revisar la agenda.\n",
      "\t 3. Eliminar un evento.\n",
      "\t 4. Vaciar un día.\n",
      "\t 5. Vaciar la agenda.\n",
      "Evento Clases registrado con éxito el día Lunes.\n",
      "Evento Reunión registrado con éxito el día Lunes.\n",
      "Los eventos del día Lunes son ['Clases', 'Reunión'].\n",
      "Los eventos del día Lunes son:\n",
      "0. Clases.\n",
      "1. Reunión.\n",
      "Evento Clases del día Lunes eliminado satisfactoriamente.\n",
      "Eventos del día Lunes eliminado satisfactoriamente.\n",
      "Agenda vaciada con éxito.\n",
      "Operaciones finalizadas.\n"
     ]
    }
   ],
   "source": [
    "cond = True\n",
    "print(\"Las opciones para la agenda semanal son:\")\n",
    "print(\"\\t 0. Terminar la operación.\")\n",
    "print(\"\\t 1. Ingresar un nuevo evento.\")\n",
    "print(\"\\t 2. Revisar la agenda.\")\n",
    "print(\"\\t 3. Eliminar un evento.\")\n",
    "print(\"\\t 4. Vaciar un día.\")\n",
    "print(\"\\t 5. Vaciar la agenda.\")\n",
    "while cond:\n",
    "    n = int(input(\"Ingrese la opción a realizar\"))\n",
    "\n",
    "    if n==1:\n",
    "        dia = input(\"Ingrese el día del evento que quiere registrar:\")\n",
    "        evento = input(\"Ingrese el evento a registrar:\")\n",
    "        agenda.agregar_evento(dia, evento)\n",
    "    elif n == 2:\n",
    "        dia = input(\"Ingrese el día que desea revisar:\")\n",
    "        agenda.revisar(dia)\n",
    "    elif n==3:\n",
    "        dia = input(\"Ingrese el día en el cual desea eliminar un evento:\")\n",
    "        agenda.eliminar_evento(dia)\n",
    "    elif n== 4:\n",
    "        dia = input(\"Ingrese el día que desee vaciar:\")\n",
    "        agenda.vaciar_dia(dia)\n",
    "    elif n==5:\n",
    "        agenda.vaciar_agenda()\n",
    "    elif n==0:\n",
    "        print(\"Operaciones finalizadas.\")\n",
    "        cond = False\n",
    "    else:\n",
    "        print(\"Opcion ingresada no valida. Intentelo nuevamente.\")"
   ]
  },
  {
   "cell_type": "markdown",
   "metadata": {},
   "source": [
    "## Ejercicio 15\n",
    "Escribir un programa que almacene las notas de un curso en una\n",
    "lista, para esto, debe pedir la lista de asignaturas separadas por “,”\n",
    "(coma). Luego para cada una de las asignaturas ingresadas, debe\n",
    "pedir las notas, en una lista separadas por “;” (punto y coma). Al\n",
    "terminar el ingreso, debe mostrar un reporte con las notas de cada\n",
    "curso y el promedio.\n"
   ]
  },
  {
   "cell_type": "code",
   "execution_count": 40,
   "metadata": {},
   "outputs": [
    {
     "name": "stdout",
     "output_type": "stream",
     "text": [
      "Asignaturas ['Matemáticas', 'Lenguaje y comunicación'] ingresadas correctamente.\n",
      "Notas de la asignatura Matemáticas ingresadas correctamente\n",
      "Notas de la asignatura Lenguaje y comunicación ingresadas correctamente\n",
      "\n",
      " Reporte:\n",
      "\n",
      "Las notas de la asignatura Matemáticas son [1.0, 1.0, 1.0, 4.0, 4.0, 5.2, 3.0, 3.2, 4.0], con promedio 2.933333333333333\n",
      "Las notas de la asignatura Lenguaje y comunicación son [3.0, 3.0, 3.0, 4.5, 6.0, 7.0, 3.0, 4.8, 5.6], con promedio 4.433333333333334\n"
     ]
    }
   ],
   "source": [
    "condensado = {}\n",
    "\n",
    "# Ingreso de asignaturas\n",
    "asignaturas = input(\"Ingrese la lista de asignaturas separadas por una coma (\\\",\\\"):\")\n",
    "asignaturas = [ramo.strip().capitalize() for ramo in asignaturas.split(\",\")]\n",
    "print(f\"Asignaturas {asignaturas} ingresadas correctamente.\")\n",
    "\n",
    "# Ingreso notas\n",
    "for ramo in asignaturas:\n",
    "    notas = input(f\"Ingrese las notas de la asignatura {ramo} separadas por un punto y coma (\\\";\\\"):\")\n",
    "    notas = [float(nota.strip()) for nota in notas.split(\";\")]\n",
    "    condensado[ramo] = notas\n",
    "    print(f\"Notas de la asignatura {ramo} ingresadas correctamente\")\n",
    "\n",
    "# Calculo reporte\n",
    "print(\"\\n Reporte:\\n\")\n",
    "for ramo in asignaturas:\n",
    "    avg = sum(condensado[ramo])/len(condensado[ramo])\n",
    "    print(f\"Las notas de la asignatura {ramo} son {condensado[ramo]}, con promedio {avg}\")"
   ]
  },
  {
   "cell_type": "markdown",
   "metadata": {},
   "source": [
    "## Ejercicio 16\n",
    "A partir de un diccionario de datos, crear un programa que permita\n",
    "al usuario buscar la información de un usuario o la lista de usuarios\n",
    "pertenecientes a una ciudad. "
   ]
  },
  {
   "cell_type": "code",
   "execution_count": 41,
   "metadata": {},
   "outputs": [],
   "source": [
    "# Datos\n",
    "informacion_personas = {\n",
    "    'Juan Pérez': {'edad': 25,'ciudad': 'Santiago'},\n",
    "    'María González': {'edad': 30,'ciudad': 'Concepción'},\n",
    "    'Pedro García': {'edad': 28,'ciudad': 'Viña del Mar'},\n",
    "    'Ana Torres': {'edad': 22,'ciudad': 'Antofagasta'},\n",
    "    'Luis Rodríguez': {'edad': 35,'ciudad': 'Santiago'},\n",
    "    'Carolina Muñoz': {'edad': 29,'ciudad': 'Valparaíso'},\n",
    "    'Diego López': {'edad': 29,'ciudad': 'Concepción'},\n",
    "    'Laura Díaz': {'edad': 26,'ciudad': 'La Serena'},\n",
    "    'Gabriel Silva': {'edad': 31,'ciudad': 'Santiago'},\n",
    "    'Valentina Morales': {'edad': 33,'ciudad': 'Valdivia'}\n",
    "}"
   ]
  },
  {
   "cell_type": "code",
   "execution_count": 42,
   "metadata": {},
   "outputs": [
    {
     "name": "stdout",
     "output_type": "stream",
     "text": [
      "Las operaciones realizables son:\n",
      "\t 1. Buscar información usuario.\n",
      "\t 2. Desplegar usuarios de una ciudad.\n",
      "\n",
      "Los usuarios que residen en Concepción son ['María González', 'Diego López'].\n"
     ]
    }
   ],
   "source": [
    "print(\"Las operaciones realizables son:\\n\\t 1. Buscar información usuario.\\n\\t 2. Desplegar usuarios de una ciudad.\\n\")\n",
    "opcion = int(input(\"Ingrese la opción a realizar\"))\n",
    "\n",
    "if opcion == 1:\n",
    "    nombre = input(\"Ingrese el nombre del usuario a consular:\")\n",
    "    if nombre in informacion_personas:\n",
    "        print(f\"{nombre} tiene {informacion_personas[nombre]['edad']} años y reside en {informacion_personas[nombre]['ciudad']}.\")\n",
    "    else:\n",
    "        print(\"Usuario no registrado.\")\n",
    "elif opcion == 2:\n",
    "    ciudad = input(\"Ingrese la ciudad de la que se desea conocer los usuarios:\")\n",
    "    residentes = []\n",
    "    for usuario, informacion in informacion_personas.items():\n",
    "        if ciudad == informacion['ciudad']:\n",
    "            residentes.append(usuario)\n",
    "    if len(residentes) == 0:\n",
    "        print(\"No hay usuarios registrados en la ciudad ingresada o dicha ciudad no es válida.\")\n",
    "    else:\n",
    "        print(f\"Los usuarios que residen en {ciudad} son {residentes}.\")\n",
    "else:\n",
    "    print(\"Opción ingresada no valida.\")"
   ]
  }
 ],
 "metadata": {
  "kernelspec": {
   "display_name": "Python 3",
   "language": "python",
   "name": "python3"
  },
  "language_info": {
   "codemirror_mode": {
    "name": "ipython",
    "version": 3
   },
   "file_extension": ".py",
   "mimetype": "text/x-python",
   "name": "python",
   "nbconvert_exporter": "python",
   "pygments_lexer": "ipython3",
   "version": "3.11.8"
  }
 },
 "nbformat": 4,
 "nbformat_minor": 2
}
