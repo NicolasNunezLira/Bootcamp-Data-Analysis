{
 "cells": [
  {
   "cell_type": "markdown",
   "metadata": {},
   "source": [
    "# Activida 3 - Módulo 5 - Inferencia Estadística\n",
    "### MUESTRAS Y MUESTREO\n",
    "#### Autor: Nicolás Núñez"
   ]
  },
  {
   "cell_type": "markdown",
   "metadata": {},
   "source": [
    "### Ejercicio 1: Muestreo estratificado con afijación proporcional"
   ]
  },
  {
   "cell_type": "markdown",
   "metadata": {},
   "source": [
    "Se desea tomar una muestra aleatoria estratificada de las personas mayores\n",
    "de edad de un municipio, cuyos estratos son los siguientes intervalos de\n",
    "edades, en años: de 18 a 30, de 31 a 45, de 46 a 60 y mayores de 60. En el\n",
    "primer intervalo hay 7500 personas, en el segundo hay 8400, en el tercero\n",
    "5700 y en el cuarto 3000.\n",
    "\n",
    "Calcule el tamaño de la muestra total y su composición, sabiendo que el\n",
    "muestreo se hace con afijación proporcional y se han elegido al azar 375\n",
    "personas del primer estrato."
   ]
  },
  {
   "cell_type": "markdown",
   "metadata": {},
   "source": [
    "**Respuesta**: Considerando que la población a considerar son \n",
    "$$N = 7500+8400+5700+3000=24600$$\n",
    "y que para el primer estrato se han elegido $n_1 = 375$ personas de las $N_1=7500$, podemos encontrar el valor total de la muestra, esto es\n",
    "$$n_T = \\dfrac{n_1 N}{N_1} = \\dfrac{375*24600}{7500}\\approx 1230$$\n",
    "De esta forma, para el resto de los estratos deben ser elegidas\n",
    "$$n_2 = \\dfrac{N_2}{N}n_T = \\dfrac{8400}{24600}1230 = 420,$$\n",
    "$$n_3 = \\dfrac{N_3}{N}n_T = \\dfrac{5700}{24600}1230 =  285,$$\n",
    "$$n_4 = \\dfrac{N_4}{N}n_T = \\dfrac{3000}{24600}1230 =  150,$$\n",
    "personas."
   ]
  },
  {
   "cell_type": "markdown",
   "metadata": {},
   "source": [
    "### Ejercicio 2"
   ]
  },
  {
   "cell_type": "markdown",
   "metadata": {},
   "source": [
    "En un instituto hay 110 alumnos de 1º ESO, 99 de 2º ESO, 77 de 3º ESO y\n",
    "66 de 4º ESO. Se toma una muestra para hacer una encuesta, usando\n",
    "muestreo estratificado con afijación proporcional. Se sabe que en la muestra\n",
    "había 20 alumnos de 1º ESO. ¿Cuántos alumnos hay en la muestra de los\n",
    "demás cursos y cuál es el tamaño de la muestra?"
   ]
  },
  {
   "cell_type": "markdown",
   "metadata": {},
   "source": [
    "**Respuesta**: Como en el ejercicio anterior, primero dado que para el primer estrato se han elegido $n_1=20$ alumnos, entonces dentro de la población de $N=110+99+77+66=352$ estudiantes el tamaño de la muestra es\n",
    "$$n_T = \\dfrac{n_1N}{N_1}=\\dfrac{20*352}{110}=64 [\\text{alumnos}].$$\n",
    "Luego, por el tipo de muestreo podemos calcular la cantidad de alumnos del resto de los estratos, cantidades que quedan dadas por:\n",
    "$$n_2 = \\dfrac{N_2}{N}n_T=\\dfrac{99}{352}64\\approx 18,$$\n",
    "$$n_3 = \\dfrac{N_3}{N}n_T=\\dfrac{77}{352}64\\approx 14,$$\n",
    "$$n_4 = \\dfrac{N_4}{N}n_T=\\dfrac{66}{352}64\\approx 12.$$"
   ]
  },
  {
   "cell_type": "markdown",
   "metadata": {},
   "source": [
    "### Ejercicio 3"
   ]
  },
  {
   "cell_type": "markdown",
   "metadata": {},
   "source": [
    "Si el contenido en gr. de un determinado medicamento X sigue una\n",
    "distribución $N(7.5,0.3)$, calcular la probabilidad de que para una muestra de\n",
    "tamaño $n=5$, se obtenga que la media es menor que 7."
   ]
  },
  {
   "cell_type": "markdown",
   "metadata": {},
   "source": [
    "**Respuesta**: Si denotamos por $\\bar{X}$ la media de la muestra, entonces dadas las propiedades mencionadas en el enunciado sabemos que $\\displaystyle\\bar{X} \\sim N\\left(7.5,\\dfrac{0.3}{5^2}\\right)=N(7.5,0.012)$, y por lo tanto se sigue que\n",
    "$$\\begin{align*}\n",
    "P(\\bar{X}\\leq 7) =  & P(Z\\leq \\dfrac{7-7.5}{\\sqrt{0.012}})\\\\\n",
    "= & P(Z\\leq -4.56)\\\\\n",
    "\\approx & 2.558e-06\n",
    "\\end{align*}$$\n",
    "es decir, la probabilidad de que la media de la muestra sea menor que 7 es de 2.07% aprox."
   ]
  },
  {
   "cell_type": "code",
   "execution_count": 4,
   "metadata": {},
   "outputs": [
    {
     "name": "stdout",
     "output_type": "stream",
     "text": [
      "P(z<=7) = 2.5576810394515232e-06\n"
     ]
    }
   ],
   "source": [
    "import scipy.stats as stats\n",
    "print(f\"P(z<=7) = {stats.norm.cdf(-4.56)}\")"
   ]
  },
  {
   "cell_type": "markdown",
   "metadata": {},
   "source": [
    "### Ejercicio 4"
   ]
  },
  {
   "cell_type": "markdown",
   "metadata": {},
   "source": [
    "Estamos estudiando el tiempo promedio que los estudiantes de una escuela\n",
    "pasan en el transporte para llegar a la escuela. Sabemos por datos previos\n",
    "que el tiempo promedio que un estudiante pasa en el transporte sigue una\n",
    "distribución sesgada a la derecha con una media de 35 minutos y una\n",
    "desviación estándar de 10 minutos.\n",
    "\n",
    "Queremos estudiar la distribución del tiempo promedio que pasan en el\n",
    "transporte para grupos de estudiantes, donde cada grupo está formado por\n",
    "50 estudiantes.\n"
   ]
  },
  {
   "cell_type": "markdown",
   "metadata": {},
   "source": [
    "1. Utilizando el Teorema del Límite Central, ¿cuál es la media y la desviación\n",
    "estándar de la distribución de la media muestral del tiempo que pasan en el\n",
    "transporte para estos grupos de 50 estudiantes?"
   ]
  },
  {
   "cell_type": "markdown",
   "metadata": {},
   "source": [
    "**Respuesta**: Por Teorema del límite central se sabe que la media muestral $\\bar{X}$ se distribuye normal con media y desviación estandar dadas por:\n",
    "$$\\mu_{\\bar{X}} = \\mu = 35\\quad \\text{y}\\quad \\sigma_{\\bar{X}}= \\dfrac{\\sigma}{\\sqrt{n}} = \\dfrac{10}{\\sqrt{50}}\\approx 1.4142.$$"
   ]
  },
  {
   "cell_type": "markdown",
   "metadata": {},
   "source": [
    "2. Si tomamos muestras de 50 estudiantes y calculamos la media del tiempo\n",
    "que pasan en el transporte para cada muestra, ¿cuál es la probabilidad de\n",
    "que la media muestral esté por debajo de 33 minutos?"
   ]
  },
  {
   "cell_type": "markdown",
   "metadata": {},
   "source": [
    "**Respuesta**: Por lo anterio, se tiene que\n",
    "$$\n",
    "\\begin{align*}\n",
    "P(\\bar{X}\\leq 33) = & P(Z\\leq \\dfrac{33-35}{1.4142})\\\\\n",
    "= & P(Z\\leq -1.414)\\\\\n",
    "= & 0.5 - P(0\\leq Z \\leq 1.414)\\\\\n",
    "= & 0.5 - 0.3729\\\\\n",
    "= & 0.1271\n",
    "\\end{align*}\n",
    "$$\n",
    "es decir, la probabilidad pedida es de 12.71%."
   ]
  },
  {
   "cell_type": "markdown",
   "metadata": {},
   "source": [
    "### Ejercicio 5"
   ]
  },
  {
   "cell_type": "markdown",
   "metadata": {},
   "source": [
    "Supongamos que se quiere comparar el rendimiento promedio en\n",
    "matemáticas entre dos grupos de estudiantes: uno de una escuela A y otro\n",
    "de una escuela B. Se toma una muestra aleatoria de 30 estudiantes de la\n",
    "escuela A y otra muestra aleatoria de 35 estudiantes de la escuela B.\n",
    "\n",
    "Los resultados obtenidos son:\n",
    "\n",
    "- Para la muestra de la escuela A: la media del rendimiento en matemáticas\n",
    "es de 75 con una desviación estándar de 8.\n",
    "- Para la muestra de la escuela B: la media del rendimiento en matemáticas\n",
    "es de 72 con una desviación estándar de 6."
   ]
  },
  {
   "cell_type": "markdown",
   "metadata": {},
   "source": [
    "1. Calcula la diferencia de medias muestrales entre ambos grupos."
   ]
  },
  {
   "cell_type": "markdown",
   "metadata": {},
   "source": [
    "**Respuesta**: La diferencia de las medias muestrales es:\n",
    "$$m_A-m_B = 75-72 = 2.$$"
   ]
  },
  {
   "cell_type": "markdown",
   "metadata": {},
   "source": [
    "2. Determina la media y la desviación estándar de la distribución muestral\n",
    "de la diferencia entre las medias muestrales de estos dos grupos."
   ]
  },
  {
   "cell_type": "markdown",
   "metadata": {},
   "source": [
    "**Respuesta**: Dados los rendimientos de la escuela A y B, distribuidos como $N(\\mu_A, \\sigma_A^2)=N(75,8^2)$ y $N(\\mu_B, \\sigma_B^2)=N(72,6^2)$, respectivamente, entonces la diferencia de las medias muestrales se distribuye normal, y como sigue:\n",
    "$$m_A-m_B\\sim N\\left(\\mu_A-\\mu_B, \\dfrac{\\sigma_A^2}{n_A}+\\dfrac{\\sigma_B^2}{n_B}\\right)= N(3, 1.778^2).$$\n",
    "Entonces, la media y la desviacion estandar de la diferencia de las medias muestrales son 3 y 1.778, respectivamente."
   ]
  },
  {
   "cell_type": "markdown",
   "metadata": {},
   "source": [
    "3. ¿Cuál es la probabilidad de que la diferencia entre las medias muestrales\n",
    "sea mayor a 2?\n"
   ]
  },
  {
   "cell_type": "markdown",
   "metadata": {},
   "source": [
    "**Respuesta**: Realizando los cálculos, tenemos:\n",
    "$$\\begin{align*}\n",
    "P(m_A-m_B\\geq 2) = & P(Z\\geq \\dfrac{2-3}{1.1778})\\\\\n",
    "\\approx & 0.713.\n",
    "\\end{align*}$$\n",
    "es decir, la probabilidad de que la diferencia entre las medias muestrales sea mayor que 2 es de 71.3%."
   ]
  },
  {
   "cell_type": "code",
   "execution_count": 6,
   "metadata": {},
   "outputs": [
    {
     "name": "stdout",
     "output_type": "stream",
     "text": [
      "P(m_A - m_B>2) = 0.7130883545441422\n"
     ]
    }
   ],
   "source": [
    "print(f\"P(m_A - m_B>2) = {1-stats.norm.cdf((2-3)/1.778)}\")"
   ]
  },
  {
   "cell_type": "markdown",
   "metadata": {},
   "source": [
    "### Ejercicio 6"
   ]
  },
  {
   "cell_type": "markdown",
   "metadata": {},
   "source": [
    "Una empresa de mensajería que opera en la ciudad tarda una media de 35\n",
    "minutos en llevar un paquete, con una desviación típica de 8 minutos.\n",
    "Supongamos que durante el día de hoy han repartido 200 paquetes."
   ]
  },
  {
   "cell_type": "markdown",
   "metadata": {},
   "source": [
    "1.  ¿Cuál es la probabilidad de que la media de los tiempos de entrega de\n",
    "hoy esté entre 30 y 35 minutos? "
   ]
  },
  {
   "cell_type": "markdown",
   "metadata": {},
   "source": [
    "**Respuesta**: Dado que el tiempo de reparto se rige por $T\\sim N(35,8^2)$, entonces en la media de los tiempos de 200 paquetes sigue la distribución $t\\sim N(35,\\frac{8^2}{200})$, y por lo tanto, la probabilidad de que dicha media se encuentre entre 30 y 35 minutos es tal que:\n",
    "$$\\begin{align*}\n",
    "P(30\\leq t\\leq 35) = & P\\left( \\dfrac{30-35}{\\dfrac{8}{\\sqrt{200}}} \\leq Z\\leq 0\\right)\\\\\n",
    "= & P(-8.8388\\leq Z\\leq 0)\\\\\n",
    "= & 0.5 - P(Z \\geq -8.8388)\\\\\n",
    "\\approx & 0.5\n",
    "\\end{align*}$$\n",
    "es decir, el 50%."
   ]
  },
  {
   "cell_type": "code",
   "execution_count": 20,
   "metadata": {},
   "outputs": [
    {
     "data": {
      "text/plain": [
       "0.5"
      ]
     },
     "execution_count": 20,
     "metadata": {},
     "output_type": "execute_result"
    }
   ],
   "source": [
    "0.5-stats.norm.cdf((30-35)/(8/(200**.5)))"
   ]
  },
  {
   "cell_type": "markdown",
   "metadata": {},
   "source": [
    "2. ¿Cuál es la probabilidad de que, en total, para los doscientos paquetes\n",
    "hayan estado más de 115 horas?"
   ]
  },
  {
   "cell_type": "markdown",
   "metadata": {},
   "source": [
    "**Respuesta**: Considerando la variable $S$ como la suma del tiempo de cada uno de los 200 repartos, por propiedad de la distribución normal sabemos que \n",
    "$$S \\sim N\\left(200*35, 200*8^2\\right)=N(7000, 200*8^2),$$\n",
    "así, considerando que 115 [horas]=6900 [minutos], es posible calcular lo pedido como:\n",
    "$$\n",
    "\\begin{align*}\n",
    "P(S\\geq 6900)= & P\\left(Z\\geq \\dfrac{6900-7000}{\\sqrt{200}*8}\\right)\\\\\n",
    "= & P(Z\\geq -0.8839)\\\\\n",
    "= & 0.5 + 0.3106\\\\\n",
    "= & 0.8106,\n",
    "\\end{align*}\n",
    "$$\n",
    "es decir, hay un 81.06% de probabilidad de que hayan estado más de 115 horas repartiendo los 200 paquetes."
   ]
  }
 ],
 "metadata": {
  "kernelspec": {
   "display_name": "Python 3",
   "language": "python",
   "name": "python3"
  },
  "language_info": {
   "codemirror_mode": {
    "name": "ipython",
    "version": 3
   },
   "file_extension": ".py",
   "mimetype": "text/x-python",
   "name": "python",
   "nbconvert_exporter": "python",
   "pygments_lexer": "ipython3",
   "version": "3.11.8"
  }
 },
 "nbformat": 4,
 "nbformat_minor": 2
}
