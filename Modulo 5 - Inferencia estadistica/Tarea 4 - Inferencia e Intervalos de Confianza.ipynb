{
 "cells": [
  {
   "cell_type": "markdown",
   "metadata": {},
   "source": [
    "# Activida 4 - Módulo 5 - Inferencia Estadística\n",
    "### INFERENCIA E INTERVALOS DE CONFIANZA PARA LA MEDIA INFERENCIA ESTADÍSTICA.\n",
    "#### Autor: Nicolás Núñez"
   ]
  },
  {
   "cell_type": "code",
   "execution_count": 109,
   "metadata": {},
   "outputs": [],
   "source": [
    "# Librerias requeridas\n",
    "import scipy.stats as stats\n",
    "import numpy as np\n",
    "from statistics import variance\n",
    "import math"
   ]
  },
  {
   "cell_type": "markdown",
   "metadata": {},
   "source": [
    "### Ejercicio 1"
   ]
  },
  {
   "cell_type": "markdown",
   "metadata": {},
   "source": [
    "Para estimar la proporción de habitantes de una ciudad que poseen\n",
    "ordenador personal se toma una muestra de tamaño $n$. Calcula el valor\n",
    "mínimo de n para garantizar, con un nivel de confianza del 95 %, que el error\n",
    "de estimación no supera el 2 %. (Como se desconoce la proporción, se hará\n",
    "a partir del caso más desfavorable, que será 0,5)."
   ]
  },
  {
   "cell_type": "markdown",
   "metadata": {},
   "source": [
    "**Respuesta**: Considerando el intervalo de confianza para una proporción dado por la expresión:\n",
    "$$\\hat{p} \\pm 1.96\\sqrt{\\dfrac{\\hat{p}(1-\\hat{p})}{n}}$$\n",
    "donde $\\hat{p}$ es la proporción muestral y $n$ es el tamaño de la muestra. En nuestro caso queremos que el error no supere el 2% considerando que $\\hat{p}=0.5$, esto es\n",
    "$$1.96\\sqrt{\\dfrac{0.5(1-0.5)}{n}}\\leq0.02$$\n",
    "de donde, despejando el tamaño de la muestra obtenemos\n",
    "$$ n = \\dfrac{1.96^2*0.5*(1-0.5)}{0.02^2}\\leq 2401,$$\n",
    "con lo que se concluye que el valor mínimo para garantizar lo pedido es de 2401 habitantes."
   ]
  },
  {
   "cell_type": "code",
   "execution_count": 1,
   "metadata": {},
   "outputs": [
    {
     "data": {
      "text/plain": [
       "2400.9999999999995"
      ]
     },
     "execution_count": 1,
     "metadata": {},
     "output_type": "execute_result"
    }
   ],
   "source": [
    "# Calculos\n",
    "1.96**2*.5*.5/.02**2"
   ]
  },
  {
   "cell_type": "markdown",
   "metadata": {},
   "source": [
    "### Ejercicio 2"
   ]
  },
  {
   "cell_type": "markdown",
   "metadata": {},
   "source": [
    "Un fabricante de electrodomésticos sabe que la vida media de estos sigue\n",
    "una distribución normal con media 100 meses y desviación típica 12 meses.\n",
    "Determina el mínimo tamaño muestral que garantiza, con una probabilidad\n",
    "de 0,98, que la vida media de los electrodomésticos en dicha muestra se\n",
    "encuentre entre 90 y 100 meses."
   ]
  },
  {
   "cell_type": "markdown",
   "metadata": {},
   "source": [
    "**Respuesta**: Primero vemos que se pide un nivel de confianza de 98% = ($1-\\alpha$)*100%, es decir, $\\alpha/2 = 0.01$, valor el cual posee valor crítico $z_{0.01}\\approx2.33$. De esta forma, considerando que error para nuestro caso es de $2E = 100-90 = 10$ meses, entonces la muestra debe cumplir\n",
    "$$n = \\left( z_{0.01}\\dfrac{\\sigma}{E}\\right)^2 = \\left(2.33*\\dfrac{12}{5}\\right)^2\\approx 31.172$$\n",
    "es decir, la muestra es compuesta al menos por 32 electrodomésticos.\n"
   ]
  },
  {
   "cell_type": "code",
   "execution_count": 5,
   "metadata": {},
   "outputs": [
    {
     "data": {
      "text/plain": [
       "31.172511922873"
      ]
     },
     "execution_count": 5,
     "metadata": {},
     "output_type": "execute_result"
    }
   ],
   "source": [
    "(stats.norm.ppf(.01)*12/5)**2"
   ]
  },
  {
   "cell_type": "markdown",
   "metadata": {},
   "source": [
    "### Ejercicio 3"
   ]
  },
  {
   "cell_type": "markdown",
   "metadata": {},
   "source": [
    "Se desea obtener la media de una variable aleatoria que se distribuye\n",
    "normalmente con una desviación típica de 3,2. Para ello se toma una\n",
    "muestra de 64 individuos obteniéndose una media de 32,5"
   ]
  },
  {
   "cell_type": "markdown",
   "metadata": {},
   "source": [
    "1. ¿Con qué nivel de confianza se puede afirmar que la media de la\n",
    "población está entre 31,5 y 33,5?"
   ]
  },
  {
   "cell_type": "markdown",
   "metadata": {},
   "source": [
    "**Respuesta**: Considerando los datos como en el enunciado\n",
    "$$m=32.5,\\quad \\sigma=3.2,\\quad n=64$$\n",
    "y notando que el error máximo admisible es de $E=1$ para la media poblacional, entonces el valor crítico queda dado por\n",
    "$$z_{\\alpha/2} = \\dfrac{E\\sqrt{n}}{\\sigma}=\\dfrac{1*\\sqrt{64}}{3.2} \\approx 2.5,$$\n",
    "así, apoyados en la tabla de valores para la distribución normal estandarizada, obtenemos que $(1-\\alpha)=0.9876$, con lo que concluimos que el nivel de confianza para la aseveración del enunciado es de 98.76%."
   ]
  },
  {
   "cell_type": "markdown",
   "metadata": {},
   "source": [
    "2. Si la desviación típica de la población fuera 3, ¿qué tamaño mínimo\n",
    "debería tener la muestra con la cual estimamos la media poblacional\n",
    "si queremos que el nivel de confianza sea del 99 %, y el error admisible\n",
    "no supere el valor de 0,75?"
   ]
  },
  {
   "cell_type": "markdown",
   "metadata": {},
   "source": [
    "**Respuesta**: Considerando el mismo procedimiento que en los ejercicios anteriores, es posible realizar los cálculos a través del siguiente script:"
   ]
  },
  {
   "cell_type": "code",
   "execution_count": 110,
   "metadata": {},
   "outputs": [
    {
     "name": "stdout",
     "output_type": "stream",
     "text": [
      "El tamaño mínimo de la muestra para tener un nivel de confianza de 99.0% es de 107 individuos.\n"
     ]
    }
   ],
   "source": [
    "# Datos\n",
    "sigma = 3\n",
    "ema = .75 # error maximo admisible\n",
    "conf = .99 # nivel de confianza\n",
    "\n",
    "# Valor crítico\n",
    "vc = stats.norm.ppf((1+conf)/2)\n",
    "\n",
    "# Tamaño de la muestra\n",
    "n = ((vc*sigma)/ema)**2\n",
    "\n",
    "print(f\"El tamaño mínimo de la muestra para tener un nivel de confianza de {conf*100}% es de {math.ceil(n)} individuos.\")"
   ]
  },
  {
   "cell_type": "markdown",
   "metadata": {},
   "source": [
    "### Ejercicio 4"
   ]
  },
  {
   "cell_type": "markdown",
   "metadata": {},
   "source": [
    "La duración de un cierto tipo de cuenta de crédito en un banco se describe\n",
    "por una distribución Normal con desviación típica 1500 horas"
   ]
  },
  {
   "cell_type": "markdown",
   "metadata": {},
   "source": [
    "1. Si en una muestra de clientes de tamaño 100, tomada al azar, se ha\n",
    "observado que la duración media es de 9900 horas, determine un intervalo,\n",
    "con el 95 % de confianza, para la duración media de esta clase de cuentas\n",
    "de crédito."
   ]
  },
  {
   "cell_type": "markdown",
   "metadata": {},
   "source": [
    "**Respuesta**: Considerando que el valor crítico para una confiabilidad de 95% es $z_{0.025}=1.96$, entonces el intervalo de confianza para la duración media de la clase es\n",
    "$$\\left[9900-1.96*\\dfrac{1500}{\\sqrt{100}},9900+1.96*\\dfrac{1500}{\\sqrt{100}}\\right]=[9606,10194].$$"
   ]
  },
  {
   "cell_type": "markdown",
   "metadata": {},
   "source": [
    "2. Con un nivel de confianza del 99 % se ha construido un intervalo para la\n",
    "media con un error máximo de 772.5 horas, ¿Cuál es el tamaño de la muestra\n",
    "que se ha tomado en este caso?"
   ]
  },
  {
   "cell_type": "markdown",
   "metadata": {},
   "source": [
    "**Respuesta**: Cómo ya se ha realizado en ejercicios anteriores, sabemos que con una confiabilidad de 99% el tamaño mínimo de la muestra queda expresado por\n",
    "$$n = \\left(z_{0.005}\\dfrac{\\sigma}{E}\\right)^2$$\n",
    "lo cual, haciendo uso de la librería scipy, se calcula a continuación:"
   ]
  },
  {
   "cell_type": "code",
   "execution_count": 111,
   "metadata": {},
   "outputs": [
    {
     "name": "stdout",
     "output_type": "stream",
     "text": [
      "El tamaño mínimo de la muestra para tener un nivel de confianza de 99.0% es de 26 clientes.\n"
     ]
    }
   ],
   "source": [
    "# Datos\n",
    "sigma = 1500\n",
    "ema = 772.5  # error maximo admisible\n",
    "conf = .99  # nivel de confianza\n",
    "\n",
    "# Valor crítico\n",
    "vc = stats.norm.ppf((1+conf)/2)\n",
    "\n",
    "# Tamaño de la muestra\n",
    "n = ((vc*sigma)/ema)**2\n",
    "\n",
    "print(\n",
    "    f\"El tamaño mínimo de la muestra para tener un nivel de confianza de {conf*100}% es de {math.ceil(n)} clientes.\")"
   ]
  },
  {
   "cell_type": "markdown",
   "metadata": {},
   "source": [
    "### Ejercicio 5"
   ]
  },
  {
   "cell_type": "markdown",
   "metadata": {},
   "source": [
    "El precio de un determinado producto, en los comercios de alimentación de\n",
    "una ciudad, sigue una distribución normal. Se toma una muestra aleatoria\n",
    "de 8 comercios y se observa el precio de ese producto, obteniendo las\n",
    "siguientes observaciones:\n",
    "$$\\begin{array}{|c|c|c|c|c|c|c|c|}\n",
    "\\hline\n",
    "132&125&130&139&126&138&124&140\\\\\n",
    "\\hline\n",
    "\\end{array}$$"
   ]
  },
  {
   "cell_type": "markdown",
   "metadata": {},
   "source": [
    "1. Determine un intervalo de confianza del 95 % para la varianza\n",
    "poblacional.\n"
   ]
  },
  {
   "cell_type": "markdown",
   "metadata": {},
   "source": [
    "**Respuesta**: El intervalo de confianza para la varianza poblacional es:\n",
    "$$\n",
    "\\left(\n",
    "\\dfrac{(n-1)S^2}{\\chi_{n-1,\\alpha/2}^2},\n",
    "\\dfrac{(n-1)S^2}{\\chi_{n-1,1-\\alpha/2}^2}\n",
    "\\right)\n",
    "$$\n",
    "lo cual en Python queda implementado como sigue:"
   ]
  },
  {
   "cell_type": "code",
   "execution_count": 121,
   "metadata": {},
   "outputs": [
    {
     "name": "stdout",
     "output_type": "stream",
     "text": [
      "El intervalo de confianza al 95.0% para la varianza poblacional es:\n",
      "(18.8287,178.4162)\n"
     ]
    }
   ],
   "source": [
    "# Datos\n",
    "muestra=[132,125,130,139,126,138,124,140]\n",
    "n = len(muestra)\n",
    "S = variance(muestra)\n",
    "\n",
    "# Confiabilidad\n",
    "conf = .95\n",
    "alfa = 1-conf\n",
    "\n",
    "# Intervalo de confianza\n",
    "a = stats.chi2.ppf(alfa/2, n-1)\n",
    "b = stats.chi2.ppf(1-alfa/2, n-1)\n",
    "inf = (n-1)*S/b\n",
    "sup = (n-1)*S/a\n",
    "\n",
    "print(f\"El intervalo de confianza al {conf*100}% para la varianza poblacional es:\")\n",
    "print(f\"({inf:.4f},{sup:.4f})\")"
   ]
  },
  {
   "cell_type": "markdown",
   "metadata": {},
   "source": [
    "2. Determine un intervalo de confianza del 95 % para la proporción de\n",
    "productos con precios menores o iguales a 130"
   ]
  },
  {
   "cell_type": "markdown",
   "metadata": {},
   "source": [
    "**Respuesta**: Primero consideremos que la proporción en los datos de las precios menores o iguales a 130 es $\\hat{p} = \\frac{4}{8} = 0.5$, considerando además que el intervalo de confianza para la proporción queda dado por \n",
    "$$\\left(\n",
    "\\hat{p} - z_{\\alpha/2}\\sqrt{\\dfrac{\\hat{p}(1-\\hat{p})}{n}},\n",
    "\\hat{p} + z_{\\alpha/2}\\sqrt{\\dfrac{\\hat{p}(1-\\hat{p})}{n}}\n",
    "\\right)$$\n",
    "entonces es posible implementarlo como sigue:"
   ]
  },
  {
   "cell_type": "code",
   "execution_count": 113,
   "metadata": {},
   "outputs": [
    {
     "name": "stdout",
     "output_type": "stream",
     "text": [
      "El intervalo de confianza al 95.0% para la proporcion de los precios menores o iguales a 130 es\n",
      "(0.1535,0.8465)\n"
     ]
    }
   ],
   "source": [
    "# Proporcion\n",
    "p = sum(valor<=130 for valor in muestra)/len(muestra)\n",
    "\n",
    "# confiabilidad\n",
    "conf = .95\n",
    "\n",
    "# Valor critico\n",
    "vc = stats.norm.ppf((1+conf)/2)\n",
    "\n",
    "# Extremos intervalo de confianza\n",
    "inf = p-vc*(p*(1-p)/n)**.5\n",
    "sup = p+vc*(p*(1-p)/n)**.5\n",
    "\n",
    "print(f\"El intervalo de confianza al {conf*100}% para la proporcion de los precios menores o iguales a 130 es\")\n",
    "print(f\"({inf:.4f},{sup:.4f})\")"
   ]
  },
  {
   "cell_type": "markdown",
   "metadata": {},
   "source": [
    "### Ejercicio 6"
   ]
  },
  {
   "cell_type": "markdown",
   "metadata": {},
   "source": [
    "Se desea estudiar si es que hay diferencias en las probabilidades de\n",
    "ocurrencia de accidentes automovilísticos dependiendo del color de los\n",
    "autos. A 100 propietarios de vehículos de color rojo y a 200 de color blanco,\n",
    "se les consultó si habían tenido algún accidente durante el tiempo que han\n",
    "sido dueños de los autos. Se obtuvo como resultado que 45 de los dueños\n",
    "de autos rojos y 70 de los autos blancos habían tenido al menos un accidente\n",
    "automovilístico. Construya un intervalo de confianza de 90% para la\n",
    "diferencia de las probabilidades de que ocurra al menos un accidente\n",
    "automovilístico."
   ]
  },
  {
   "cell_type": "markdown",
   "metadata": {},
   "source": [
    "**Respuesta**: Se realizará el intervalo de confianza para la diferencia de proporciones, la cual posee un error estándar dado por\n",
    "$$\\sqrt{\\left(\\dfrac{\\hat{p}_1(1-\\hat{p}_1)}{n_1} + \\dfrac{\\hat{p}_2(1-\\hat{p}_2)}{n_2}\\right)}$$\n",
    "Así, implementando lo anterior con una confiabilidad del 90% tenemos:"
   ]
  },
  {
   "cell_type": "code",
   "execution_count": 114,
   "metadata": {},
   "outputs": [
    {
     "name": "stdout",
     "output_type": "stream",
     "text": [
      "El intervalo de confianza al 90.0% para la diferencia de de las probabilidades es\n",
      "(0.0011,0.1989)\n"
     ]
    }
   ],
   "source": [
    "# Datos\n",
    "n_1 = 100 # autos rojos\n",
    "n_2 = 200 # autos blancos\n",
    "p_1 = 45/n_1 # proporcion autos rojos\n",
    "p_2 = 70/n_2 # proporcion autos blancos\n",
    "\n",
    "# Confiabilidad\n",
    "conf = .9\n",
    "\n",
    "# Valor crítico\n",
    "z = stats.norm.ppf((1+conf)/2)\n",
    "\n",
    "# Error estandar\n",
    "se = ((p_1*(1-p_1)/n_1+p_2*(1-p_2)/n_2))**.5\n",
    "\n",
    "# Extremos intervalos de confianza\n",
    "inf = p_1-p_2 - z*se\n",
    "sup = p_1-p_2 + z*se\n",
    "\n",
    "print(f\"El intervalo de confianza al {conf*100}% para la diferencia de de las probabilidades es\")\n",
    "print(f\"({inf:.4f},{sup:.4f})\")"
   ]
  },
  {
   "cell_type": "markdown",
   "metadata": {},
   "source": [
    "De lo anterior, dado que $p_1-p_2$ se estima dentro de un rango contenido en los números positivos, podemos estimar con el 90% de confianza que los autos rojos tienen más accidentes que los blancos."
   ]
  }
 ],
 "metadata": {
  "kernelspec": {
   "display_name": "Python 3",
   "language": "python",
   "name": "python3"
  },
  "language_info": {
   "codemirror_mode": {
    "name": "ipython",
    "version": 3
   },
   "file_extension": ".py",
   "mimetype": "text/x-python",
   "name": "python",
   "nbconvert_exporter": "python",
   "pygments_lexer": "ipython3",
   "version": "3.11.8"
  }
 },
 "nbformat": 4,
 "nbformat_minor": 2
}
