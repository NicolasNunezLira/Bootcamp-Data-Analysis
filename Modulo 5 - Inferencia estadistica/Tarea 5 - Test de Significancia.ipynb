{
 "cells": [
  {
   "cell_type": "markdown",
   "metadata": {},
   "source": [
    "# Activida 5 - Módulo 5 - Inferencia Estadística\n",
    "### TEST DE SIGNIFICANCIA\n",
    "#### Autor: Nicolás Núñez"
   ]
  },
  {
   "cell_type": "code",
   "execution_count": 7,
   "metadata": {},
   "outputs": [],
   "source": [
    "# Librerias requeridas\n",
    "import pandas as pd\n",
    "import numpy as np\n",
    "import pingouin as pg\n",
    "import scipy.stats as stats\n",
    "import statistics as st"
   ]
  },
  {
   "cell_type": "markdown",
   "metadata": {},
   "source": [
    "### Ejericio 1"
   ]
  },
  {
   "cell_type": "markdown",
   "metadata": {},
   "source": [
    "Se sabe que la media del consumo de energía eléctrica en cierta provincia\n",
    "es de 721 kwh.\n",
    "\n",
    "Una empresa tecnológica de la región cree que sus empleados consumen\n",
    "más que el promedio provincial. Recoge información sobre los consumos de\n",
    "20 empleados escogidos al azar, y obtiene los siguientes datos:\n",
    "$$\\begin{array}{|ccccc|}\n",
    "\\hline\n",
    "710 & 774 & 814 & 768 & 823\\\\\n",
    "\\hline\n",
    "732 & 675 & 755 & 770 & 660\\\\\n",
    "\\hline\n",
    "654 & 757 & 736 & 677 & 797\\\\\n",
    "\\hline\n",
    "760 & 718 & 774 & 747 & 796\\\\\n",
    "\\hline\n",
    "\\end{array}$$\n",
    "Si la distribución del consumo mensual de energía eléctrica es normal:\n"
   ]
  },
  {
   "cell_type": "markdown",
   "metadata": {},
   "source": [
    "1. ¿Hay evidencias para afirmar que el promedio del consumo de energía\n",
    "eléctrica hogareño de los empleados de la empresa es superior a la\n",
    "media del consumo a nivel provincial? Usar un nivel de significación\n",
    "del 10%."
   ]
  },
  {
   "cell_type": "markdown",
   "metadata": {},
   "source": [
    "**Respuesta**: Al no conocer la desviación estándar de los datos, procederemos con prueba de hipótesis con el estadístico T-student, para ello sean:\n",
    "- $H_0$: $\\mu\\leq 721$\n",
    "- $H_1$: $\\mu>721$\n",
    "\n",
    "es decir, una prueba de una cola. Bajo un nivel de significación del 10% se sigue lo siguiente:"
   ]
  },
  {
   "cell_type": "code",
   "execution_count": 48,
   "metadata": {},
   "outputs": [
    {
     "name": "stdout",
     "output_type": "stream",
     "text": [
      "Prueba de normalidad de los datos:\n"
     ]
    },
    {
     "data": {
      "text/html": [
       "<div>\n",
       "<style scoped>\n",
       "    .dataframe tbody tr th:only-of-type {\n",
       "        vertical-align: middle;\n",
       "    }\n",
       "\n",
       "    .dataframe tbody tr th {\n",
       "        vertical-align: top;\n",
       "    }\n",
       "\n",
       "    .dataframe thead th {\n",
       "        text-align: right;\n",
       "    }\n",
       "</style>\n",
       "<table border=\"1\" class=\"dataframe\">\n",
       "  <thead>\n",
       "    <tr style=\"text-align: right;\">\n",
       "      <th></th>\n",
       "      <th>W</th>\n",
       "      <th>pval</th>\n",
       "      <th>normal</th>\n",
       "    </tr>\n",
       "  </thead>\n",
       "  <tbody>\n",
       "    <tr>\n",
       "      <th>0</th>\n",
       "      <td>0.949116</td>\n",
       "      <td>0.353874</td>\n",
       "      <td>True</td>\n",
       "    </tr>\n",
       "  </tbody>\n",
       "</table>\n",
       "</div>"
      ],
      "text/plain": [
       "          W      pval  normal\n",
       "0  0.949116  0.353874    True"
      ]
     },
     "metadata": {},
     "output_type": "display_data"
    },
    {
     "name": "stdout",
     "output_type": "stream",
     "text": [
      "Rechazamos la hipótesis nula.\n"
     ]
    }
   ],
   "source": [
    "# Datos\n",
    "muestra = [710,774,814,768,823,\n",
    "           732,675,755,770,660,\n",
    "           654,757,736,677,797,\n",
    "           760,718,774,747,796]\n",
    "n = len(muestra)\n",
    "S = st.stdev(muestra)\n",
    "mu=721\n",
    "\n",
    "# Nivel de significancia\n",
    "alpha = .1\n",
    "\n",
    "# Prueba de normalidad\n",
    "print(\"Prueba de normalidad de los datos:\")\n",
    "display(pg.normality(data=muestra))\n",
    "\n",
    "# Prueba T unilateral\n",
    "t, p = stats.ttest_1samp(muestra, 721, alternative='greater')\n",
    "\n",
    "# Evaluación hipótesis nula\n",
    "if t>=stats.t.ppf(1-alpha,n-1):\n",
    "    print(\"Rechazamos la hipótesis nula.\")\n",
    "else:\n",
    "    print(\"No hay suficiente evidencia para rechazar la hipótesis nula.\")"
   ]
  },
  {
   "cell_type": "markdown",
   "metadata": {},
   "source": [
    "Dado que la hipótesis nula es rechazada, se acepta con un 10% de significancia la hipótesis alternativa, es decir, el promedio del consumo de energía\n",
    "eléctrica hogareño de los empleados de la empresa es superior a la\n",
    "media del consumo a nivel provincial."
   ]
  },
  {
   "cell_type": "markdown",
   "metadata": {},
   "source": [
    "2. ¿Cuál es el valor pp de la decisión?"
   ]
  },
  {
   "cell_type": "code",
   "execution_count": 25,
   "metadata": {},
   "outputs": [
    {
     "name": "stdout",
     "output_type": "stream",
     "text": [
      "El valor p de la prueba de hipótesis es 0.0223.\n"
     ]
    }
   ],
   "source": [
    "print(f\"El valor p de la prueba de hipótesis es {p:.4f}.\")"
   ]
  },
  {
   "cell_type": "markdown",
   "metadata": {},
   "source": [
    "### Ejericio 2"
   ]
  },
  {
   "cell_type": "markdown",
   "metadata": {},
   "source": [
    "Se quiere probar si la altura promedio de una muestra de estudiantes de una\n",
    "universidad es significativamente diferente de la altura promedio general de\n",
    "la población, que se sabe que es de 170 cm con una desviación estándar de\n",
    "5 cm."
   ]
  },
  {
   "cell_type": "markdown",
   "metadata": {},
   "source": [
    "**Respuesta**: Faltan datos para este ejercicio, pues no está el tamaño muestral."
   ]
  },
  {
   "cell_type": "markdown",
   "metadata": {},
   "source": [
    "### Ejericio 3"
   ]
  },
  {
   "cell_type": "markdown",
   "metadata": {},
   "source": [
    "Queremos evaluar si la proporción de estudiantes universitarios que\n",
    "prefieren el aprendizaje en línea es diferente de 0.60, que es la proporción\n",
    "declarada en un estudio anterior. Tomamos una muestra aleatoria de 200\n",
    "estudiantes y encontramos que 120 de ellos prefieren el aprendizaje en\n",
    "línea."
   ]
  },
  {
   "cell_type": "markdown",
   "metadata": {},
   "source": [
    "**Respuesta**: Se realizará una prueba de hipótesis para la proporción, para esto consideramos\n",
    "- $H_0$: $p = 0.6$.\n",
    "- $H_1$: $p \\not= 0.6$.\n",
    "\n",
    "De esta forma, a continuación se realiza la prueba con dos colas:"
   ]
  },
  {
   "cell_type": "code",
   "execution_count": 49,
   "metadata": {},
   "outputs": [
    {
     "name": "stdout",
     "output_type": "stream",
     "text": [
      "No hay suficiente evidencia para rechazar la hipótesis nula.\n"
     ]
    }
   ],
   "source": [
    "# Datos\n",
    "n = 200\n",
    "p = 120/200\n",
    "q = 1-p\n",
    "p0 = .6\n",
    "q0 = 1-p0\n",
    "\n",
    "# Nivel de significación\n",
    "alpha = 0.05\n",
    "\n",
    "# Estadistico z\n",
    "z = (p-p0)/np.sqrt(p0*q0/n)\n",
    "\n",
    "# Valores críticos\n",
    "vc = stats.norm.ppf(alpha/2)\n",
    "\n",
    "# Evaluación hipótesis nula\n",
    "if abs(z)>=abs(vc):\n",
    "    print(\"Rechazamos la hipótesis nula.\")\n",
    "else:\n",
    "    print(\"No hay suficiente evidencia para rechazar la hipótesis nula.\")"
   ]
  },
  {
   "cell_type": "markdown",
   "metadata": {},
   "source": [
    "Con lo anterior, no podemos rechazar que la proporción de estudiantes quer prefieren el aprendizaje online sea 0.6 con un nivel de significación de 5%."
   ]
  },
  {
   "cell_type": "markdown",
   "metadata": {},
   "source": [
    "### Ejericio 4"
   ]
  },
  {
   "cell_type": "markdown",
   "metadata": {},
   "source": [
    "Queremos determinar si la duración media de la batería de un tipo particular\n",
    "de teléfono celular es diferente de 50 horas. Se toma una muestra aleatoria\n",
    "de 25 teléfonos y se encuentra que la duración media de la batería es de 48\n",
    "horas, con una desviación estándar muestral de 5 horas."
   ]
  },
  {
   "cell_type": "markdown",
   "metadata": {},
   "source": [
    "**Respuesta**: Dado que contamos con la desviación estándar muestral, haremos una prueba de hipótesis con el estadístico T-student de dos colas, para la cual se considerá:\n",
    "- $H_0$: $\\mu = 50$\n",
    "- $H_1$: $\\mu \\not= 50$.\n",
    "\n",
    "Lo anterior queda plasmado en el siguiente script:"
   ]
  },
  {
   "cell_type": "code",
   "execution_count": 37,
   "metadata": {},
   "outputs": [
    {
     "name": "stdout",
     "output_type": "stream",
     "text": [
      "No hay suficiente evidencia para rechazar la hipótesis nula.\n"
     ]
    }
   ],
   "source": [
    "# Datos\n",
    "mu = 50\n",
    "m = 48\n",
    "s = 5\n",
    "n = 25\n",
    "\n",
    "# Estadístico T-student\n",
    "t = (m-mu)/(s/np.sqrt(n))\n",
    "\n",
    "# Nivel de significación\n",
    "alpha = 0.05\n",
    "\n",
    "# Valores críticos\n",
    "vc1 = stats.t.ppf(alpha/2,n-1)\n",
    "vc2 = stats.t.ppf(1-alpha/2,n-1)\n",
    "\n",
    "# Evaluación hipótesis nula\n",
    "if t>=vc2 or t<=vc1:\n",
    "    print(\"Rechazamos la hipótesis nula.\")\n",
    "else:\n",
    "    print(\"No hay suficiente evidencia para rechazar la hipótesis nula.\")"
   ]
  },
  {
   "cell_type": "markdown",
   "metadata": {},
   "source": [
    "### Ejericio 5"
   ]
  },
  {
   "cell_type": "markdown",
   "metadata": {},
   "source": [
    "Supongamos que se quiere verificar si el peso promedio de los paquetes\n",
    "entregados por una empresa de mensajería es diferente de 2.5 kg. Se toma\n",
    "una muestra aleatoria de 50 paquetes y se encuentra que el peso promedio\n",
    "es de 2.6 kg, con una desviación estándar poblacional conocida de 0.4 kg."
   ]
  },
  {
   "cell_type": "markdown",
   "metadata": {},
   "source": [
    "**Respuesta**: Dado que la desviación estándar poblacional es conocida se realizará una prueba de hipótesis bajo el estadístico normal. Para esto primero consideramos\n",
    "- $H_0$: $\\mu = 2.5$\n",
    "- $H_1$: $\\mu \\not= 2.5$\n",
    "\n",
    "El cálculo del estadístico correspondiente, y la comparación respecto al nivel de significación, el cuál será considerado igual a 5%, se implementa a continuación:"
   ]
  },
  {
   "cell_type": "code",
   "execution_count": 40,
   "metadata": {},
   "outputs": [
    {
     "name": "stdout",
     "output_type": "stream",
     "text": [
      "Rechazamos la hipótesis nula.\n"
     ]
    }
   ],
   "source": [
    "# Datos\n",
    "mu = 2.5\n",
    "n = 50\n",
    "m = 2.6\n",
    "sigma = 0.4\n",
    "\n",
    "# Estadístico normal\n",
    "z = (m-mu)/(sigma/np.sqrt(n))\n",
    "\n",
    "# Valores críticos\n",
    "alpha = 0.05\n",
    "vc = stats.norm.ppf(alpha/2)\n",
    "\n",
    "# Evaluación hipótesis nula\n",
    "if abs(t)>=abs(vc):\n",
    "    print(\"Rechazamos la hipótesis nula.\")\n",
    "else:\n",
    "    print(\"No hay suficiente evidencia para rechazar la hipótesis nula.\")"
   ]
  },
  {
   "cell_type": "markdown",
   "metadata": {},
   "source": [
    "Dado que se rechaza la hipótesis nula con un nivel de significancia del 5%, entonces es posible afirmar que el peso promedio de los paquetes entregados es distinto a 2.5 [kg]."
   ]
  }
 ],
 "metadata": {
  "kernelspec": {
   "display_name": "Python 3",
   "language": "python",
   "name": "python3"
  },
  "language_info": {
   "codemirror_mode": {
    "name": "ipython",
    "version": 3
   },
   "file_extension": ".py",
   "mimetype": "text/x-python",
   "name": "python",
   "nbconvert_exporter": "python",
   "pygments_lexer": "ipython3",
   "version": "3.11.8"
  }
 },
 "nbformat": 4,
 "nbformat_minor": 2
}
