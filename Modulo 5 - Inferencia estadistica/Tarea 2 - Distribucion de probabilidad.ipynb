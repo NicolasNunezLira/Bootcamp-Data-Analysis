{
 "cells": [
  {
   "cell_type": "markdown",
   "metadata": {},
   "source": [
    "# Activida 2 - Módulo 5 - Inferencia Estadística\n",
    "### DISTRIBUCIÓN DE PROBABILIDAD"
   ]
  },
  {
   "cell_type": "markdown",
   "metadata": {},
   "source": [
    "### Ejercicio 1: Variable Aleatoria en Distribución normal.\n",
    "Si $X$ es una variable aleatoria de una distribución $N(\\mu,\\sigma)$, hallar \n",
    "$$P(\\mu-3\\sigma\\leq X\\leq \\mu+3\\sigma)$$"
   ]
  },
  {
   "cell_type": "markdown",
   "metadata": {},
   "source": [
    "**Respuesta**: Siguiendo la tabla de distribución Normal, el porcentaje desde la media a 3 desviaciones estandar en cualquier dirección es de 49.87% apróximadamente, por lo cual la probabilidad pedida es\n",
    "$$\n",
    "P(\\mu-3\\sigma\\leq X\\leq \\mu+3\\sigma) \\approx 99.74\\%\n",
    "$$"
   ]
  },
  {
   "cell_type": "markdown",
   "metadata": {},
   "source": [
    "### Ejercicio 2: Distribución normal, media y desviación típica\n",
    "En una distribución normal de media 4 y desviación típica 2, calcular el valor\n",
    "de a para que:\n",
    "$$P(4-a\\leq x\\leq 4+a)=0.5934$$"
   ]
  },
  {
   "cell_type": "markdown",
   "metadata": {},
   "source": [
    "**Respuesta**: Notando que la probabilidad se busca en un intervalo simetrico respecto a la media, nos interesa encontrar el z-score para la probabilidad 0.5934/2 = 0.2967, para la cual según la tabla de distribución normal obtenemos:\n",
    "$$z = \\dfrac{(4+a)-4}{2}= 0.83$$\n",
    "Así, se tiene que \n",
    "$$a = 2*0.83 = 1.66$$"
   ]
  },
  {
   "cell_type": "markdown",
   "metadata": {},
   "source": [
    "### Ejercicio 3 : Distribución Normal\n"
   ]
  },
  {
   "cell_type": "markdown",
   "metadata": {},
   "source": [
    "Dada una variable aleatoria continua Z, con distribución normal estándar, es\n",
    "decir, $N(0;1)$, encuentre las siguientes probabilidades, usando la tabla.\n",
    "1. $P(0 \\leq Z \\leq 1.25)$ = 0.3944.\n",
    "2. $P(Z\\geq 1.25) = 1-P(Z\\leq 1.25) = 1 - 0.3944 - 0.5 \\approx 0.1056.$\n",
    "3. $P(Z\\leq-1.25) = P(Z\\geq1.25) \\approx 0.1056$.\n",
    "4. $P(0 \\leq Z \\leq 1.33) = 0.4082.$\n",
    "5. $P(Z\\geq 1.33) = 0.5-P(0 \\leq Z \\leq 1.33) \\approx 0.0918$.\n",
    "6. $P(-1.33\\leq Z\\leq 0) = P(0 \\leq Z \\leq 1.33) = 0.4082$"
   ]
  },
  {
   "cell_type": "markdown",
   "metadata": {},
   "source": [
    "### Ejericio 4 :  Distribución Normal para la aplicación de exámenes\n",
    "Se supone que los resultados de un examen siguen una distribución normal\n",
    "con media 78 y desviación típica 36.\n",
    "Se pide:\n"
   ]
  },
  {
   "cell_type": "markdown",
   "metadata": {},
   "source": [
    "1. ¿Cuál es la probabilidad de que una persona que se presenta el\n",
    "examen obtenga una calificación superior a 72?\n",
    "\n",
    "**Respuesta**: Calulando el Z-score se tiene\n",
    "$$Z = \\dfrac{72-78}{36} \\approx -0.17$$\n",
    "con lo cual se sigue que:\n",
    "$$P(x\\geq 72) = P(x\\geq 76) + P(72 \\leq x \\leq 76) = 0.5 + 0.0675 = 0.5675$$"
   ]
  },
  {
   "cell_type": "markdown",
   "metadata": {},
   "source": [
    "2. Calcular la proporción de estudiantes que tienen puntuaciones que\n",
    "exceden por lo menos en cinco puntos de la puntuación que marca la\n",
    "frontera entre el Apto y el No-Apto (son declarados No-Aptos el 25%\n",
    "de los estudiantes que obtuvieron las puntuaciones más bajas)."
   ]
  },
  {
   "cell_type": "markdown",
   "metadata": {},
   "source": [
    "**Respuesta**: Consideramos el Z-score del primer cuartil, es decir, $Z_{25} = -0.6745$. con lo cual dado que el puntaje $\\sim N(78;35^2)$, entonces el corte de puntaje entre Apto y No-Apto es\n",
    "$$ x = Z_{25}*36 + 78 \\approx 53.718 $$\n",
    "con cual encontrando el Z-score para 58.718, esto es\n",
    "$$Z = \\dfrac{58.718-78}{36}\\approx -0.536$$\n",
    "y calculando la probabilidad \n",
    "$$P(\\text{puntaje}\\geq 58.718) = P(Z \\geq -0.536) = 0.5 + P(0\\leq Z \\leq 0.536) = 0.5 + 0.2054 = 0.7054$$\n",
    "es decir, poco más del 70% de los estudiantes tienen puntuaciones mayores a la frontera de Apto y No-Apto más cinco puntos."
   ]
  },
  {
   "cell_type": "markdown",
   "metadata": {},
   "source": [
    "3. Si se sabe que la calificación de un estudiante es mayor que 72, ¿cuál\n",
    "es la probabilidad de que su calificación sea, de hecho, superior a 84?"
   ]
  },
  {
   "cell_type": "markdown",
   "metadata": {},
   "source": [
    "**Respuesta**: Considerando la probabilidad condicional, sabemos que\n",
    "$$P(A|B) = \\dfrac{P(A\\cap B)}{P(B)}$$\n",
    "es decir, \n",
    "$$P(\\text{puntaje}\\geq 84 | \\text{puntaje}\\geq 72) = \\dfrac{P(\\text{puntaje}\\geq 84)}{P(\\text{puntaje}\\geq 72)}$$\n",
    "Así, considerando los Z-scores correspondientes:\n",
    "$$Z_{84} = \\dfrac{84-78}{37} = 0.1622\\quad \\text{y}\\quad Z_{72} = \\dfrac{72-78}{37} = -0.1622$$\n",
    "entonces, se sigue\n",
    "$$P(\\text{puntaje}\\geq 84 | \\text{puntaje}\\geq 72) = \\dfrac{P(Z\\geq 0.1622)}{P(Z\\geq -0.1622)}=\\dfrac{0.5 - 0.0636}{0.5 + 0.0636}\\approx 0.7743$$"
   ]
  },
  {
   "cell_type": "markdown",
   "metadata": {},
   "source": [
    "### Ejercicio 5 : Distribución Binomial\n",
    "Uno de los ítems de una prueba sorpresa consta de 12 preguntas de\n",
    "verdadero o falso. Suponiendo que los estudiantes no saben contestar a\n",
    "ninguna de ellas y, contestan al azar, hallar la probabilidad de obtener seis\n",
    "aciertos.\n"
   ]
  },
  {
   "cell_type": "markdown",
   "metadata": {},
   "source": [
    "**Respuesta**: Considerando una probabilidad binomial con probabilidad de acierto de un 50%, entonces la probabilidad de tener 6 aciertos en 12 preguntas quedad dado por\n",
    "$$p(X = 6) = \\left(\\begin{array}{c}12 \\\\ 6\\end{array}\\right) 0.5^6*(1-0.5)^{12-6}$$\n",
    "ejecutado en python queda:"
   ]
  },
  {
   "cell_type": "code",
   "execution_count": 35,
   "metadata": {},
   "outputs": [
    {
     "name": "stdout",
     "output_type": "stream",
     "text": [
      "La probabilidad de tener 6 aciertos en 12 preguntas es 22.56%.\n"
     ]
    }
   ],
   "source": [
    "import math\n",
    "\n",
    "n = 12\n",
    "k = 6\n",
    "p = .5\n",
    "prob = math.comb(n,k)*(p**k)*((1-p)**(n-k))\n",
    "print(f'La probabilidad de tener 6 aciertos en 12 preguntas es {prob*100:.2f}%.')"
   ]
  },
  {
   "cell_type": "markdown",
   "metadata": {},
   "source": [
    "### Ejercicio 6\n",
    "Un quiosco de revistas ordena 4 ejemplares de una nueva revista. Sea $X$ la\n",
    "variable aleatoria que denota la demanda semanal, por parte de los clientes\n",
    "de este quiosco, de esta revista. Se encontró que la distribución de\n",
    "probabilidades para $X$ es:\n",
    "$$\n",
    "\\begin{array}{|c|cccccc|}\n",
    "\\hline\n",
    "x & 1 & 2 & 3 & 4 & 5 & 6\\\\\n",
    "\\hline\n",
    "p(x) & 6/21 & 5/21 & 4/21 & 3/21 & 2/21 & 1/21\\\\\n",
    "\\hline\n",
    "\\end{array}\n",
    "$$\n",
    "que podemos escribir como:\n",
    "$$p_X(x) = \\dfrac{7-x}{21}\\quad\\quad\\forall x\\in\\{1,2,3,4,5,6\\}.$$\n",
    "Suponga que el ingreso de este kiosco está relacionado con la demanda\n",
    "por la nueva revista mediante la función\n",
    "$$ Y = 200X + 300000$$\n",
    "Determine la esperanza y la varianza del ingreso que obtiene el dueño del\n",
    "quiosco."
   ]
  },
  {
   "cell_type": "markdown",
   "metadata": {},
   "source": [
    "**Respuesta**: Sabiendo que la esperanza de $Y$ estaría dada por:\n",
    "$$E[Y] = \\sum_{x = 1}^6 Y(x)p_X(X=x)$$"
   ]
  },
  {
   "cell_type": "code",
   "execution_count": 19,
   "metadata": {},
   "outputs": [
    {
     "name": "stdout",
     "output_type": "stream",
     "text": [
      "La esperanza del ingreso es 300533.33.\n"
     ]
    }
   ],
   "source": [
    "px = lambda x: (7-x)/21\n",
    "Y = lambda x: 200*x + 300000\n",
    "x = range(1,7)\n",
    "E = 0\n",
    "for i in x:\n",
    "    E += Y(i)*px(i)\n",
    "print(f'La esperanza del ingreso es {E:.2f}.')\n"
   ]
  },
  {
   "cell_type": "markdown",
   "metadata": {},
   "source": [
    "Por otro lado, la varianza para nuestro caso está definida por:\n",
    "$$VAR[Y] = \\sum_{x=1}^6 \\left(Y(x) - E[Y]\\right)^2 p_X(X=x)$$"
   ]
  },
  {
   "cell_type": "code",
   "execution_count": 20,
   "metadata": {},
   "outputs": [
    {
     "name": "stdout",
     "output_type": "stream",
     "text": [
      "La varianza del ingreso es 88888.89\n"
     ]
    }
   ],
   "source": [
    "var = 0\n",
    "for i in x:\n",
    "    var += (Y(i)-E)**2*px(i)\n",
    "print(f\"La varianza del ingreso es {var:.2f}\")"
   ]
  },
  {
   "cell_type": "markdown",
   "metadata": {},
   "source": [
    "### Ejercicio 7\n",
    "Las especificaciones con la que se fabrican los tornillos de acero de sección\n",
    "transversal circular requieren que sus longitudes se encuentren entre 8.45 y\n",
    "8.65 cm y sus diámetros entre 1.55 y 1.60cm. Los tornillos producidos por\n",
    "una maquina tienen longitudes que siguen una distribución normal con\n",
    "media de 8.55 cm y con desviación estándar de 0.05cm y diámetros que siguen otra distribución normal independiente con media igual a 1.58 cm y\n",
    "desviación estándar de 0.01 cm. \n",
    "1. Suponiendo que las medidas de longitud y diámetro son independientes.\n",
    "¿Cuál es la probabilidad de que las medidas de longitud y diámetro, en\n",
    "conjunto, cumplan con las especificaciones requeridas?"
   ]
  },
  {
   "cell_type": "markdown",
   "metadata": {},
   "source": [
    "**Respuesta**: Dado que las probabilidades son independientes entonces\n",
    "$$P(A\\cap B) = P(A)P(B)$$\n",
    "De esta forma, primero consideramos la distribucion normal estandarizada para la longitud $L$, se sigue que \n",
    "$$ Z = \\left| \\dfrac{8.45 - 8.55}{0.05}\\right| = \\left| \\dfrac{8.65 - 8.55}{0.05}\\right| = 2$$\n",
    "es decir\n",
    "$$P_L(-2\\leq Z\\leq 2) = 2P(0\\leq Z\\leq 2) = 2*0.4772 = 0.9544$$"
   ]
  },
  {
   "cell_type": "markdown",
   "metadata": {},
   "source": [
    "Luego, para el ancho $A$, notemos que \n",
    "$$Z = \\left|\\dfrac{1.55-1.58}{0.01}\\right|=3\\quad \\text{y}\\quad \\left|\\dfrac{1.60-1.58}{0.01}\\right|=2$$\n",
    "con lo cual \n",
    "$$P_A(-3\\leq Z\\leq 2) = 0.4987 + 0.4772 = 0.9759$$"
   ]
  },
  {
   "cell_type": "markdown",
   "metadata": {},
   "source": [
    "Con lo cual, la probabilidad de que ambas medidas esten dentro de los parametros requeridos es\n",
    "$$P = P_L(-2\\leq Z\\leq 2)*P_A(-3\\leq Z\\leq 2)=0.9544*0.9759\\approx 0.9314$$"
   ]
  },
  {
   "cell_type": "markdown",
   "metadata": {},
   "source": [
    "2.  Se seleccionan 6 tornillos al azar producidos por esta máquina. ¿Cuál es\n",
    "la probabilidad que a lo más 2 de ellos cumplan con especificaciones\n",
    "requeridas de longitud? "
   ]
  },
  {
   "cell_type": "markdown",
   "metadata": {},
   "source": [
    "**Respuesta**: Dado 6 tornillos al azar, la cantidad de tornillos que cumplen las especificaciones  de longitud es tal que $n\\sim bin(6, 0.9544)$, y por lo tanto\n",
    "$$P(n\\leq 2) = \\sum_{k=0}^2 \\begin{pmatrix}6\\\\ k\\end{pmatrix} 0.9544^k * (1-0.9544)^{6-k}$$\n",
    "calculando lo anterior se tiene"
   ]
  },
  {
   "cell_type": "code",
   "execution_count": 19,
   "metadata": {},
   "outputs": [
    {
     "name": "stdout",
     "output_type": "stream",
     "text": [
      "La probabilidad de que dados 6 tornillos a lo más 2 de ellos cumplan las especificaciones de largo es de un 6.02e-03%.\n"
     ]
    }
   ],
   "source": [
    "import math\n",
    "P = 0\n",
    "p = .9544\n",
    "for k in range(3):\n",
    "    P += math.comb(6,k)*(p**k)*((1-p)**(6-k))\n",
    "print(f\"La probabilidad de que dados 6 tornillos a lo más 2 de ellos cumplan las especificaciones de largo es de un {P*100:.2e}%.\")"
   ]
  },
  {
   "cell_type": "markdown",
   "metadata": {},
   "source": [
    "3. ¿Cuantos tornillos esperaría seleccionar para encontrar el primer tornillo\n",
    "que no cumple con las especificaciones de diámetro señaladas?"
   ]
  },
  {
   "cell_type": "markdown",
   "metadata": {},
   "source": [
    "**Respuesta**: Considerando que la probabilidad de que un tornillo no cumpla con las especificaciones de diámetro señaladas es de 1-0.9759=0.0241, entonces uno esperaría que la primera falla ocurriese en el tornillo número $n$, con $n$ dado por\n",
    "$$n = \\dfrac{1}{0.0241} \\approx 41.49$$"
   ]
  },
  {
   "cell_type": "markdown",
   "metadata": {},
   "source": [
    "### Ejercicio 8\n",
    "La duración de un láser semiconductor a potencia constante tiene una\n",
    "distribución normal con media 7.000 horas y desviación típica de 600 horas.\n",
    "1. ¿Cuál es la probabilidad de que el láser falle antes de 5.000 horas?"
   ]
  },
  {
   "cell_type": "markdown",
   "metadata": {},
   "source": [
    "**Respuesta**: Considerando $t \\sim N(7000, 600^2)$ y calculando el Z-score para $t=5000$ como sigue\n",
    "$$Z = \\dfrac{5000-7000}{600} \\approx -3.33 $$\n",
    "entonces \n",
    "$$P(t\\leq 5000) = P(z\\leq -3.33) = 0.5- 0.4996 \\approx 0.0004$$"
   ]
  },
  {
   "cell_type": "markdown",
   "metadata": {},
   "source": [
    "2. ¿Cuál es la duración en horas que no es excedida por el 95 % de los\n",
    "láseres?"
   ]
  },
  {
   "cell_type": "markdown",
   "metadata": {},
   "source": [
    "**Respuesta**: Guiandonos por la tabla de la distribución normal estandarizada, podemos ver que el 95% de los casos se encuentra en $Z\\leq 1.65$, y por lo tanto, realizando el despeje se tiene\n",
    "$$t \\leq 1.65\\sigma\\, +\\, \\mu = 1.65*600\\,+\\,7000 = 7990 [\\text{horas}]$$"
   ]
  },
  {
   "cell_type": "markdown",
   "metadata": {},
   "source": [
    "3. Si se hace uso de tres láseres en un producto y se supone que fallan de\n",
    "manera independiente. ¿Cuál es la probabilidad de que tres sigan\n",
    "funcionando después de 7.000 horas?"
   ]
  },
  {
   "cell_type": "markdown",
   "metadata": {},
   "source": [
    "**Respuesta**: Como en valor de horas pedidos coincide con la media de la distribución, entonces $P(t\\geq 7000)=0.5$, por lo tanto, gracias a la independencia de las fallas la probabilidad pedida corresponde al cubo del valor anterior, es decir, $0.5^3 = 0.125$."
   ]
  }
 ],
 "metadata": {
  "kernelspec": {
   "display_name": "Python 3",
   "language": "python",
   "name": "python3"
  },
  "language_info": {
   "codemirror_mode": {
    "name": "ipython",
    "version": 3
   },
   "file_extension": ".py",
   "mimetype": "text/x-python",
   "name": "python",
   "nbconvert_exporter": "python",
   "pygments_lexer": "ipython3",
   "version": "3.11.8"
  }
 },
 "nbformat": 4,
 "nbformat_minor": 2
}
