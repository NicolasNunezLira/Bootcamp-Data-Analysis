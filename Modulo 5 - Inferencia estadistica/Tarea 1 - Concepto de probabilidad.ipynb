{
 "cells": [
  {
   "cell_type": "markdown",
   "metadata": {},
   "source": [
    "# Activida 1 - Módulo 5 - Inferencia Estadística\n",
    "### EL CONCEPTO DE PROBABILIDAD\n"
   ]
  },
  {
   "cell_type": "markdown",
   "metadata": {},
   "source": [
    "### Ejercicio 1\n",
    "Un dado está trucado, de forma que las probabilidades de obtener las\n",
    "distintas caras son proporcionales a los números de estas.\n",
    "Hallar:\n",
    "- La probabilidad de obtener el 6 en un lanzamiento.\n",
    "- La probabilidad de conseguir un número impar en un\n",
    "lanzamiento.\n"
   ]
  },
  {
   "cell_type": "markdown",
   "metadata": {},
   "source": [
    "**Respuesta**: Siguiendo el enunciado es posible representar las probabilidades como sigue:\n",
    "$$\\displaystyle P(i) = \\dfrac{i}{\\sum_{j=1}^6 j} = \\dfrac{i}{21} \\quad \\forall i=1,2,3,4,5,6$$\n",
    "De lo anterior, se tiene:\n",
    "- $P(6) = 6/21$.\n",
    "- $P(\\text{impares}) = P(1) + P(3)+P(5) = \\dfrac{1+3+5}{21} = \\dfrac{9}{21}.$"
   ]
  },
  {
   "cell_type": "markdown",
   "metadata": {},
   "source": [
    "### Ejercicio 2\n",
    "Se lanzan dos dados al aire y se anota la suma de los puntos obtenidos.\n",
    "Se pide:\n",
    "1. Probabilidad de que salga el 7.\n"
   ]
  },
  {
   "cell_type": "code",
   "execution_count": 9,
   "metadata": {},
   "outputs": [
    {
     "name": "stdout",
     "output_type": "stream",
     "text": [
      "La probabilidad de que salga un 7 es de 0.17%.\n"
     ]
    }
   ],
   "source": [
    "dado = range(1,7)\n",
    "prob_7 = 0\n",
    "for i in dado:\n",
    "    for j in dado:\n",
    "        if i+j==7:\n",
    "            prob_7+=1/len(dado)**2\n",
    "\n",
    "print(f\"La probabilidad de que salga un 7 es de {prob_7:.2f}%.\")"
   ]
  },
  {
   "cell_type": "markdown",
   "metadata": {},
   "source": [
    "2. La probabilidad de que el número obtenido sea par."
   ]
  },
  {
   "cell_type": "code",
   "execution_count": 10,
   "metadata": {},
   "outputs": [
    {
     "name": "stdout",
     "output_type": "stream",
     "text": [
      "La probabilidad de que el número obtenido sea par es de 0.50.\n"
     ]
    }
   ],
   "source": [
    "prob_par=0\n",
    "for i in dado:\n",
    "    for j in dado:\n",
    "        if (i+j)%2==0:\n",
    "            prob_par+=1/len(dado)**2\n",
    "\n",
    "print(f\"La probabilidad de que el número obtenido sea par es de {prob_par:.2f}.\")"
   ]
  },
  {
   "cell_type": "markdown",
   "metadata": {},
   "source": [
    "3. La probabilidad de que el número obtenido sea múltiplo de 3"
   ]
  },
  {
   "cell_type": "code",
   "execution_count": 11,
   "metadata": {},
   "outputs": [
    {
     "name": "stdout",
     "output_type": "stream",
     "text": [
      "La probabilidad de que el número obtenido sea múltiplo de 3 es de 0.33.\n"
     ]
    }
   ],
   "source": [
    "prob_3 = 0\n",
    "for i in dado:\n",
    "    for j in dado:\n",
    "        if (i+j)%3==0:\n",
    "            prob_3+=1/len(dado)**2\n",
    "\n",
    "print(f\"La probabilidad de que el número obtenido sea múltiplo de 3 es de {prob_3:.2f}.\")"
   ]
  },
  {
   "cell_type": "markdown",
   "metadata": {},
   "source": [
    "### Ejercicio 3\n",
    "Se lanzan al aire 3 monedas iguales. Calcula la probabilidad de que\n",
    "salgan dos caras y una cruz.\n"
   ]
  },
  {
   "cell_type": "code",
   "execution_count": 13,
   "metadata": {},
   "outputs": [
    {
     "name": "stdout",
     "output_type": "stream",
     "text": [
      "La probabilidad de que salgan dos caras y una cruz es 0.38\n"
     ]
    }
   ],
   "source": [
    "import math\n",
    "prob = math.comb(3,2)/2**3\n",
    "\n",
    "print(f\"La probabilidad de que salgan dos caras y una cruz es {prob:.2f}\")"
   ]
  },
  {
   "cell_type": "markdown",
   "metadata": {},
   "source": [
    "### Ejercicio 4\n",
    "Una bolsa contiene 2 bolas negras y 3 bolas blancas. Otra bolsa tiene\n",
    "4 bolas negras y 2 blancas. Se elige una de las bolsas al azar y se\n",
    "extrae una bola. Calcular la probabilidad de:\n",
    "1. La bola es blanca y de la primera bolsa."
   ]
  },
  {
   "cell_type": "markdown",
   "metadata": {},
   "source": [
    "Se sigue que:\n",
    "$$P(Blanca| Bolsa 1) = \\dfrac{P(Blanca \\cap Bolsa1)}{P(Bolsa_1)}=\\dfrac{3/5}{5/11} = \\dfrac{3}{11}\\approx 28\\%$$"
   ]
  },
  {
   "cell_type": "markdown",
   "metadata": {},
   "source": [
    "Con python, podemos verlos a traves del comando *crosstab* de la libreria *pandas*:"
   ]
  },
  {
   "cell_type": "code",
   "execution_count": 24,
   "metadata": {},
   "outputs": [
    {
     "data": {
      "text/html": [
       "<div>\n",
       "<style scoped>\n",
       "    .dataframe tbody tr th:only-of-type {\n",
       "        vertical-align: middle;\n",
       "    }\n",
       "\n",
       "    .dataframe tbody tr th {\n",
       "        vertical-align: top;\n",
       "    }\n",
       "\n",
       "    .dataframe thead th {\n",
       "        text-align: right;\n",
       "    }\n",
       "</style>\n",
       "<table border=\"1\" class=\"dataframe\">\n",
       "  <thead>\n",
       "    <tr style=\"text-align: right;\">\n",
       "      <th>Bolas</th>\n",
       "      <th>Blanca</th>\n",
       "      <th>Negra</th>\n",
       "      <th>Probabilidades</th>\n",
       "    </tr>\n",
       "    <tr>\n",
       "      <th>Bolsa</th>\n",
       "      <th></th>\n",
       "      <th></th>\n",
       "      <th></th>\n",
       "    </tr>\n",
       "  </thead>\n",
       "  <tbody>\n",
       "    <tr>\n",
       "      <th>1</th>\n",
       "      <td>0.272727</td>\n",
       "      <td>0.181818</td>\n",
       "      <td>0.454545</td>\n",
       "    </tr>\n",
       "    <tr>\n",
       "      <th>2</th>\n",
       "      <td>0.181818</td>\n",
       "      <td>0.363636</td>\n",
       "      <td>0.545455</td>\n",
       "    </tr>\n",
       "    <tr>\n",
       "      <th>Probabilidades</th>\n",
       "      <td>0.454545</td>\n",
       "      <td>0.545455</td>\n",
       "      <td>1.000000</td>\n",
       "    </tr>\n",
       "  </tbody>\n",
       "</table>\n",
       "</div>"
      ],
      "text/plain": [
       "Bolas             Blanca     Negra  Probabilidades\n",
       "Bolsa                                             \n",
       "1               0.272727  0.181818        0.454545\n",
       "2               0.181818  0.363636        0.545455\n",
       "Probabilidades  0.454545  0.545455        1.000000"
      ]
     },
     "metadata": {},
     "output_type": "display_data"
    }
   ],
   "source": [
    "# Creamos la tabla cruzada\n",
    "import pandas as pd\n",
    "\n",
    "# Datos \n",
    "datos = pd.DataFrame(\n",
    "    {\n",
    "        'Bolsa' : [1, 1, 1, 1, 1, 2, 2, 2, 2, 2, 2],\n",
    "        'Bolas' : ['Negra','Negra','Blanca','Blanca','Blanca', 'Negra','Negra','Negra','Negra', 'Blanca', 'Blanca'] \n",
    "    }\n",
    ")\n",
    "\n",
    "# Tabla cruzada\n",
    "probabilidades = pd.crosstab(datos[\"Bolsa\"], datos[\"Bolas\"], normalize=True, margins=True, margins_name='Probabilidades')\n",
    "display(probabilidades)"
   ]
  },
  {
   "cell_type": "markdown",
   "metadata": {},
   "source": [
    "2. La bola es blanca."
   ]
  },
  {
   "cell_type": "markdown",
   "metadata": {},
   "source": [
    "**Respuesta**: Siguiendo la misma lógica, y guiado por el dataframe generado se infiere que se saque una bola blanca tiene probabilidad de 46% aproximadamente."
   ]
  },
  {
   "cell_type": "markdown",
   "metadata": {},
   "source": [
    "3. Si la bola es negra, ¿cuál es la probabilidad de que sea de la\n",
    "segunda bolsa?"
   ]
  },
  {
   "cell_type": "markdown",
   "metadata": {},
   "source": [
    "**Respuesta**: Consideremos que\n",
    "$$P(Bolsa_2|Negra) = \\dfrac{P(Negra|Bolsa_2)P(Bolsa_2)}{P(Negra|Bolsa_1)P(Bolsa_1)+P(Negra|Bolsa_2)P(Bolsa_2)} = \\dfrac{\\dfrac{4}{6}*\\dfrac{1}{2}}{\\dfrac{2}{5}*\\dfrac{1}{2}+\\dfrac{4}{6}*\\dfrac{1}{2}}=\\dfrac{5}{8}=0.625$$\n",
    "es decir, si la bola es negra, la probabilidad de que sea de la segunda bolsa es de 62.5%."
   ]
  },
  {
   "cell_type": "markdown",
   "metadata": {},
   "source": [
    "### Ejercicio 5\n",
    "Una fábrica produce tres tipos de productos: Memorias, CPU y Discos.\n",
    "La probabilidad de que un producto sea defectuoso es del 5% para el\n",
    "tipo Memorias, 8% para el tipo CPU y 3% para el tipo Discos. Se sabe\n",
    "que el 20% de la producción es de tipo Memorias, el 30% es de tipo\n",
    "CPU y el 50% es de tipo Discos. Si se selecciona un producto al azar y\n",
    "se encuentra que es defectuoso, ¿cuál es la probabilidad de que sea\n",
    "del tipo CPU?"
   ]
  },
  {
   "cell_type": "markdown",
   "metadata": {},
   "source": [
    "**Respuesta**: Consideremos las variables:\n",
    "- M : Memoria\n",
    "- C : CPU\n",
    "- D : Discos\n",
    "- d : defectuosos\n",
    "Entonces nos interes $P(C|d)$, la cual por teorema de bayes esta dado por:\n",
    "$$\\begin{align*}\n",
    "P(C|d) = & \\dfrac{P(d|C)P(C)}{P(d|M)P(M)\\,+\\,P(d|C)P(C)\\,+\\,P(d|D)P(D)}\\\\\n",
    "= & \\dfrac{0.08*0.3}{0.05*0.2\\,+\\,0.08*0.3\\,+\\,0.03*0.5}\\\\\n",
    "\\approx & 0.49\n",
    "\\end{align*}$$"
   ]
  },
  {
   "cell_type": "code",
   "execution_count": 13,
   "metadata": {},
   "outputs": [
    {
     "data": {
      "text/plain": [
       "0.4897959183673469"
      ]
     },
     "execution_count": 13,
     "metadata": {},
     "output_type": "execute_result"
    }
   ],
   "source": [
    "# Calculos\n",
    "(0.08*0.3)/(.05*.2+.08*.3+.03*.5)"
   ]
  },
  {
   "cell_type": "markdown",
   "metadata": {},
   "source": [
    "### Ejercicio 6\n",
    "En una encuesta realizada a 100 personas, se preguntó si preferían el\n",
    "chocolate blanco, negro o con leche. Los resultados mostraron que 40\n",
    "personas prefieren chocolate blanco, 30 prefieren chocolate negro y\n",
    "50 prefieren chocolate con leche. Además, se observó que 20 personas\n",
    "prefieren tanto el chocolate blanco como el negro, 25 prefieren tanto\n",
    "el chocolate blanco como con leche, y 15 prefieren tanto el chocolate\n",
    "negro como con leche. Además, se observó que 10 personas prefieren\n",
    "los tres chocolates al mismo tiempo.\n",
    "\n",
    "¿Cuál es la probabilidad de que una persona seleccionada al azar\n",
    "prefiera el chocolate blanco? (usar principio de inclusión-exclusión)\n"
   ]
  },
  {
   "cell_type": "markdown",
   "metadata": {},
   "source": [
    "**Respuesta**: Considerando los conjuntos:\n",
    "- $B$: Preferencia chocolate blanco.\n",
    "- $N$: Preferencia chocolate negro.\n",
    "- $L$: Preferencia chocolate con leche.\n",
    "\n",
    "Entonces, por principio de inclusión-exclusión se sigue\n",
    "$$\n",
    "\\begin{align*}\n",
    "P(B\\cap(N\\cup L)^c) = & P(B) - P(B\\cap N) - P(B\\cap L ) + P(B\\cap N\\cap L)\\\\\n",
    "= & \\dfrac{40}{100} - \\dfrac{20}{100} - \\dfrac{25}{100}+ \\dfrac{10}{100}\\\\\n",
    "= & \\dfrac{5}{100}\n",
    "\\end{align*}\n",
    "$$\n",
    "Es decir, la probabilidad de que una persona prefier sólo el chocolate blando es de 5%."
   ]
  },
  {
   "cell_type": "markdown",
   "metadata": {},
   "source": [
    "### Ejercicio 7\n",
    "En una encuesta sobre preferencias de bebidas, se descubre que el 60%\n",
    "de las personas prefiere el té y el 40% prefiere el café. Además, se\n",
    "observa que el 70% de los amantes del té son mujeres y el 60% de los\n",
    "amantes del café son hombres.\n",
    "\n",
    "Si se selecciona una persona al azar y se sabe que es mujer, ¿cuál es\n",
    "la probabilidad de que prefiera el té?"
   ]
  },
  {
   "cell_type": "markdown",
   "metadata": {},
   "source": [
    "**Respuesta**: Por Teorema de Bayes tenemos:\n",
    "$$\n",
    "\\begin{align*}\n",
    "P(t|M) = & \\dfrac{P(M|t)P(t)}{P(M|t)P(t)+P(M|c)P(c)}\\\\\n",
    "= & \\dfrac{0.7*0.6}{0.7*0.6\\,+\\,0.4*0.4}\\\\\n",
    "\\approx & 0.72\n",
    "\\end{align*}\n",
    "$$"
   ]
  },
  {
   "cell_type": "code",
   "execution_count": 5,
   "metadata": {},
   "outputs": [
    {
     "data": {
      "text/plain": [
       "0.7241379310344827"
      ]
     },
     "execution_count": 5,
     "metadata": {},
     "output_type": "execute_result"
    }
   ],
   "source": [
    "# Calculos\n",
    "(0.7*0.6)/(0.7*0.6+0.4*0.4)"
   ]
  },
  {
   "cell_type": "markdown",
   "metadata": {},
   "source": [
    "### Ejercicio 8\n",
    "En una ciudad, se sabe que el 5% de la población tiene una enfermedad\n",
    "particular. Una prueba para detectar esta enfermedad tiene una tasa\n",
    "de verdaderos positivos del 90% y una tasa de falsos positivos del\n",
    "10%. Si una persona es seleccionada al azar y da positivo en la prueba,\n",
    "¿cuál es la probabilidad de que realmente tenga la enfermedad?"
   ]
  },
  {
   "cell_type": "markdown",
   "metadata": {},
   "source": [
    "**Respuesta**: Considerando E: Enfermos, P:Positivos, N: Negativos, por teorema de Bayes se tiene:\n",
    "$$\n",
    "\\begin{align*}\n",
    "P(E|P) = & \\dfrac{P(P|E)P(E)}{P(P|E)P(E) + P(P|S)P(S)}\\\\\n",
    "= & \\dfrac{0.9*0.05}{0.9*0.05+0.1*0.95}\\\\\n",
    "\\approx & 0.32\n",
    "\\end{align*}\n",
    "$$"
   ]
  },
  {
   "cell_type": "code",
   "execution_count": 10,
   "metadata": {},
   "outputs": [
    {
     "data": {
      "text/plain": [
       "0.32142857142857145"
      ]
     },
     "execution_count": 10,
     "metadata": {},
     "output_type": "execute_result"
    }
   ],
   "source": [
    "# Calculos\n",
    "(0.9*0.05)/(0.9*0.05+0.1*0.95)"
   ]
  },
  {
   "cell_type": "markdown",
   "metadata": {},
   "source": [
    "### Ejercicio 9\n",
    "En una tienda de electrónicos, se venden tres marcas de teléfonos: A,\n",
    "B y C. Se sabe que el 30% de los teléfonos vendidos son de la marca\n",
    "A, el 40% son de la marca B y el 30% son de la marca C. Además, se\n",
    "sabe que el 10% de los teléfonos de la marca A son defectuosos, el 5%\n",
    "de los teléfonos de la marca B son defectuosos y el 8% de los teléfonos\n",
    "de la marca C son defectuosos.\n",
    "Si se selecciona un teléfono al azar y se encuentra que es defectuoso,\n",
    "¿cuál es la probabilidad de que sea de la marca A?"
   ]
  },
  {
   "cell_type": "markdown",
   "metadata": {},
   "source": [
    "**Respuesta**: Similar al ejercicio 5, se plantea el ejercicio con Teorema de Bayes, obteniendo:\n",
    "$$\n",
    "\\begin{align*}\n",
    "P(A|d) = & \\dfrac{P(d|A)P(A)}{P(d|A)P(A)+P(d|B)P(B)+P(d|C)P(C)}\\\\\n",
    "= & \\dfrac{0.1*0.3}{0.1*0.3+0.05*0.4+0.08*0.3}\\\\\n",
    "\\approx & 0.4\n",
    "\\end{align*}\n",
    "$$"
   ]
  },
  {
   "cell_type": "code",
   "execution_count": 11,
   "metadata": {},
   "outputs": [
    {
     "data": {
      "text/plain": [
       "0.4054054054054053"
      ]
     },
     "execution_count": 11,
     "metadata": {},
     "output_type": "execute_result"
    }
   ],
   "source": [
    "# Calculos\n",
    "(0.1*0.3)/(0.1*0.3+0.05*0.4+0.08*0.3)"
   ]
  },
  {
   "cell_type": "markdown",
   "metadata": {},
   "source": [
    "### Ejercicio 10\n",
    "Sean A, B y C tres sucesos que pertenecen a un espacio muestral Ω\n",
    "de un cierto de un cierto experimento aleatorio. Considere las\n",
    "siguientes probabilidades:\n",
    "\n",
    "$$P(A) = 0.4 ; P(B) = 0.2 ; P(C) = 0.35 ; P(A ∩ B) = 0.15;\n",
    "P(A ∩ C) = 0.25 ; P(B ∩ C) = 0.1 ; P(A ∩ B ∩ C) = 0.05$$\n",
    "\n",
    "Calcular:\n",
    "1. Ocurra A y no B"
   ]
  },
  {
   "cell_type": "markdown",
   "metadata": {},
   "source": [
    "$$\n",
    "\\begin{align*}\n",
    "P(A \\cap B^c) = & P(A) - P(A\\cap B)\\\\\n",
    "= & 0.4-0.15\\\\\n",
    "= & 0.25\n",
    "\\end{align*}\n",
    "$$"
   ]
  },
  {
   "cell_type": "markdown",
   "metadata": {},
   "source": [
    "2. Sólo ocurra A y B"
   ]
  },
  {
   "cell_type": "markdown",
   "metadata": {},
   "source": [
    "$$\n",
    "\\begin{align*}\n",
    "P((A\\cap B ) \\cap C^c) = & P(A\\cap B) - P(A\\cap B\\cap C)\\\\\n",
    "= & 0.15 - 0.05\\\\\n",
    "= & 0.1\n",
    "\\end{align*}\n",
    "$$"
   ]
  },
  {
   "cell_type": "markdown",
   "metadata": {},
   "source": [
    "3. Sólo ocurra A\n"
   ]
  },
  {
   "cell_type": "markdown",
   "metadata": {},
   "source": [
    "$$\n",
    "\\begin{align*}\n",
    "P(A\\cap (B\\cup C)^c) = & P(A) - P((B\\cup C)^c)\\\\\n",
    "= & P(A) - P(A\\cap B) - P(A\\cap C) + P(A\\cap B\\cap C)\\\\\n",
    "= & 0.4 - 0.15 - 0.25 +0.05\\\\\n",
    "= & 0.05\n",
    "\\end{align*}\n",
    "$$"
   ]
  },
  {
   "cell_type": "markdown",
   "metadata": {},
   "source": [
    "4. Sólo uno de los sucesos ocurra\n"
   ]
  },
  {
   "cell_type": "markdown",
   "metadata": {},
   "source": [
    "$$\n",
    "\\begin{align*}\n",
    "P(A\\cap (B\\cup C)^c) + P(B\\cap (A\\cup C)^c) + P(C\\cap (A\\cup B)^c) = & 0.05 + \\left( P(B) - P(B\\cap A) - P(B\\cap C)+P(A\\cap B\\cap C)\\right)\\\\\n",
    "& \\quad + \\left(P(C) - P(C\\cap A) - P(C\\cap B)+P(A\\cap B\\cap C)\\right)\\\\\n",
    "= & 0.05 +\\left( 0.2 -0.15 -0.1+ 0.05\\right) + \\left( 0.35 - 0.25 -0.1+0.05\\right)\\\\\n",
    "= & 0.05 + 0 + 0.05\\\\\n",
    "= & 0.1\n",
    "\\end{align*}\n",
    "$$"
   ]
  },
  {
   "cell_type": "markdown",
   "metadata": {},
   "source": [
    "5. Al menos un suceso ocurra"
   ]
  },
  {
   "cell_type": "markdown",
   "metadata": {},
   "source": [
    "$$\n",
    "\\begin{align*}\n",
    "P(A\\cup B \\cup C) = & P(A) + P(B\\cup C) - P(A\\cap (B\\cup C))\\\\\n",
    "= & P(A) + P(B) + P(C) -P(B\\cap C) - P(A\\cap (B\\cup C))\\\\\n",
    "= & 0.4 + 0.2 + 0.35 - 0.1 -0.35\\\\\n",
    "= & 0.5\n",
    "\\end{align*}\n",
    "$$"
   ]
  }
 ],
 "metadata": {
  "kernelspec": {
   "display_name": "Python 3",
   "language": "python",
   "name": "python3"
  },
  "language_info": {
   "codemirror_mode": {
    "name": "ipython",
    "version": 3
   },
   "file_extension": ".py",
   "mimetype": "text/x-python",
   "name": "python",
   "nbconvert_exporter": "python",
   "pygments_lexer": "ipython3",
   "version": "3.11.8"
  }
 },
 "nbformat": 4,
 "nbformat_minor": 2
}
