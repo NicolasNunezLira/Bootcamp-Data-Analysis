{
 "cells": [
  {
   "cell_type": "markdown",
   "metadata": {},
   "source": [
    "# Sprint 5 - Inferencia estadística\n",
    "#### Autor: Nicolás Núñez"
   ]
  },
  {
   "cell_type": "code",
   "execution_count": 1,
   "metadata": {},
   "outputs": [],
   "source": [
    "# Librerias requeridas\n",
    "import math\n",
    "import pandas as pd\n",
    "import numpy as np\n",
    "import pingouin as pg\n",
    "import scipy.stats as stats"
   ]
  },
  {
   "cell_type": "markdown",
   "metadata": {},
   "source": [
    "### Ejercicio 1\n"
   ]
  },
  {
   "cell_type": "markdown",
   "metadata": {},
   "source": [
    "Cierta compañía aérea ha requerido de sus servicios profesionales para\n",
    "llevar a cabo un estudio relacionado con la cantidad de pasajeros que llegan\n",
    "al país en vuelos internacionales, dicho estudio tiene relación con la\n",
    "enfermedad de COVID-19. De acuerdo a la información que maneja la\n",
    "compañía, la cantidad de pasajeros que llegan en vuelos internacionales se\n",
    "comporta aproximadamente normal con una media de 120 pasajeros y una\n",
    "varianza de 25."
   ]
  },
  {
   "cell_type": "markdown",
   "metadata": {},
   "source": [
    "1. Asumiendo que cada día llegan a Santiago 16 vuelos internacionales,\n",
    "determine la probabilidad que durante el año (52 semanas) la cantidad\n",
    "total de pasajeros sea de al menos de 699500.\n"
   ]
  },
  {
   "cell_type": "markdown",
   "metadata": {},
   "source": [
    "**Respuesta**: Considerando que la cantidad por vuelo de pasajeros se distribuye $X \\sim N(120,25^2)$, entonces la cantidad anual considerando 16 vuelos diarios y 52 semanas en año queda distribuida por $Y=16*7*52*X \\sim N((16*7*52)*120, (16*7*52)^2*25^2)$, y de esta forma nos interesa calcular:\n",
    "$$P(Y\\geq 699500)$$\n",
    "De esta forma considerando que\n",
    "$$\\mu_Y = (16*7*52)*120 =698880\\quad\\text{y}\\quad \\sigma_Y = (16*7*52)*25 = 145600$$\n",
    "podemos encontrar el $z$-score para $Y=699500$, el cual queda dado por\n",
    "$$z = \\dfrac{699500 - 698880}{145600}\\approx 0.004$$\n",
    "con lo cual, con ayuda de la libreria scipy es posible, se sigue que \n",
    "$$P(Y\\geq 699500) = P(z\\geq 0.004) = 0.4984$$\n",
    "es decir, que la probabilidad de que la cantidad total de pasajeros sea de al menos 699500 personas es de $49.84$% aproximadamente."
   ]
  },
  {
   "cell_type": "code",
   "execution_count": 2,
   "metadata": {},
   "outputs": [
    {
     "name": "stdout",
     "output_type": "stream",
     "text": [
      "P(z>=0.004) = 0.4984042351337684.\n"
     ]
    }
   ],
   "source": [
    "print(f\"P(z>=0.004) = {1-stats.norm.cdf(0.004)}.\")"
   ]
  },
  {
   "cell_type": "markdown",
   "metadata": {},
   "source": [
    "2. De acuerdo con registros históricos se sabe que aproximadamente un\n",
    "7% de los pasajeros son niños. Considerando un potencial de 400\n",
    "pasajeros que llegarían en los próximos días, determine la\n",
    "probabilidad que menos de un 5% sean niños."
   ]
  },
  {
   "cell_type": "markdown",
   "metadata": {},
   "source": [
    "**Respuesta**: Considerando el enunciado, podemos considerar que la cantidad de niños entre los 400 pasajeros se modela a través de una distribución binomial con probabilidad 7%, esto es $C \\sim bin(400, 0.07)$, de esta forma, la probabilidad de que menos el 5% sean niños queda expresada por:\n",
    "$$P(C< 400*0.05 = 20) = \\sum_{k=0}^{19} \\begin{pmatrix} 400\\\\ k\\end{pmatrix}0.07^k(1-0.07)^{400-k}$$\n",
    "Realizamos los cálculos mencionados a continuación:"
   ]
  },
  {
   "cell_type": "code",
   "execution_count": 3,
   "metadata": {},
   "outputs": [
    {
     "name": "stdout",
     "output_type": "stream",
     "text": [
      "La probabilidad de que entre los 400 pasajeros hayan menos de 20 niños es de 4.22%.\n"
     ]
    }
   ],
   "source": [
    "# Datos\n",
    "total = 400\n",
    "n = 19\n",
    "p = 0.07\n",
    "prob = 0\n",
    "\n",
    "# Sumatoria\n",
    "for k in range(n+1):\n",
    "    prob += math.comb(total,k)*(p**k)*((1-p)**(total-k))\n",
    "\n",
    "print(f\"La probabilidad de que entre los {total} pasajeros hayan menos de {n+1} niños es de {prob*100:.2f}%.\")"
   ]
  },
  {
   "cell_type": "markdown",
   "metadata": {},
   "source": [
    "### Ejercicio 2\n"
   ]
  },
  {
   "cell_type": "markdown",
   "metadata": {},
   "source": [
    "Una empresa que se dedica a hacer encuestas se queja de que un agente\n",
    "realiza en promedio 53 encuestas por semana. Se ha introducido una forma\n",
    "más moderna de realizar las encuetas y la empresa quiere evaluar su\n",
    "efectividad. Los números de encuestas realizadas en una semana por una\n",
    "muestra aleatoria de agentes son:\n",
    "$$\\begin{array}{|c|c|c|c|c|c|c|c|c|c|}\n",
    "\\hline\n",
    "53 & 57 & 50 & 55 & 58 & 54 & 60 & 52 & 59 & 62\\\\\n",
    "\\hline\n",
    "60  & 60 & 51 & 59 & & & & & & \\\\\n",
    "\\hline\n",
    "\\end{array}\n",
    "$$\n",
    "En el nivel de significancia 0,05, puede concluirse que la cantidad media de\n",
    "entrevistas realizadas por los agentes es superior a 53 por semana? Evalúe\n",
    "el valor p"
   ]
  },
  {
   "cell_type": "markdown",
   "metadata": {},
   "source": [
    "**Respuesta**: Consideremos las hipótesis\n",
    "$$H_0 : \\mu \\leq 53$$\n",
    "$$H_1 : \\mu > 53$$\n",
    "para la cual se considerará una significancia de $\\alpha=0.05$ la muestra tabulada. Se procederá implementando dicha prueba de hipótesis teniendo en cuenta que no se conoce el valor de $\\sigma$, y por lo tanto el test se realizará con el estadístico T-student:"
   ]
  },
  {
   "cell_type": "code",
   "execution_count": 4,
   "metadata": {},
   "outputs": [
    {
     "name": "stdout",
     "output_type": "stream",
     "text": [
      "Prueba de normalidad de los datos:\n"
     ]
    },
    {
     "data": {
      "text/html": [
       "<div>\n",
       "<style scoped>\n",
       "    .dataframe tbody tr th:only-of-type {\n",
       "        vertical-align: middle;\n",
       "    }\n",
       "\n",
       "    .dataframe tbody tr th {\n",
       "        vertical-align: top;\n",
       "    }\n",
       "\n",
       "    .dataframe thead th {\n",
       "        text-align: right;\n",
       "    }\n",
       "</style>\n",
       "<table border=\"1\" class=\"dataframe\">\n",
       "  <thead>\n",
       "    <tr style=\"text-align: right;\">\n",
       "      <th></th>\n",
       "      <th>W</th>\n",
       "      <th>pval</th>\n",
       "      <th>normal</th>\n",
       "    </tr>\n",
       "  </thead>\n",
       "  <tbody>\n",
       "    <tr>\n",
       "      <th>0</th>\n",
       "      <td>0.925878</td>\n",
       "      <td>0.266872</td>\n",
       "      <td>True</td>\n",
       "    </tr>\n",
       "  </tbody>\n",
       "</table>\n",
       "</div>"
      ],
      "text/plain": [
       "          W      pval  normal\n",
       "0  0.925878  0.266872    True"
      ]
     },
     "metadata": {},
     "output_type": "display_data"
    },
    {
     "name": "stdout",
     "output_type": "stream",
     "text": [
      "Rechazamos la hipótesis nula.\n"
     ]
    }
   ],
   "source": [
    "# Datos\n",
    "muestra = [53,57,50,55,58,54,60,52,59,62,60,60,51,59]\n",
    "mu = 53\n",
    "alpha = 0.05\n",
    "\n",
    "# Prueba de normalidad\n",
    "print(\"Prueba de normalidad de los datos:\")\n",
    "display(pg.normality(data=muestra))\n",
    "\n",
    "# Prueba T unilateral\n",
    "t, p = stats.ttest_1samp(muestra, mu, alternative='greater')\n",
    "\n",
    "# Evaluación hipótesis nula\n",
    "if t>= stats.t.ppf(1-alpha,len(muestra)-1):\n",
    "    print(\"Rechazamos la hipótesis nula.\")\n",
    "else:\n",
    "    print(\"No hay suficiente evidencia para rechazar la hipótesis nula.\")"
   ]
  },
  {
   "cell_type": "markdown",
   "metadata": {},
   "source": [
    "Es decir, rechazamos la hipotesis nula, concluyendo entonces con la significancia pedida que la cantidad media de\n",
    "entrevistas realizadas por los agentes es superior a 53. "
   ]
  },
  {
   "cell_type": "markdown",
   "metadata": {},
   "source": [
    "### Ejercicio 3"
   ]
  },
  {
   "cell_type": "markdown",
   "metadata": {},
   "source": [
    "En el último año, se determinó que el tiempo promedio que los estudiantes\n",
    "pasaron resolviendo un examen fue de 65 minutos, con una desviación\n",
    "estándar de 10 minutos. Este año, se seleccionó una muestra aleatoria de 50\n",
    "estudiantes, y se encontró que el tiempo promedio que tomaron resolviendo\n",
    "el mismo examen fue de 68 minutos.\n",
    "\n",
    "Considerando que el objetivo es evaluar si hay evidencia suficiente para\n",
    "afirmar que el tiempo promedio ha aumentado este año en comparación con\n",
    "el último, se plantea la siguiente prueba de hipótesis con un nivel de\n",
    "significancia del 5%:\n",
    "\n",
    "- **Hipótesis nula($H_0$)**:  El tiempo promedio este año ($\\mu$) es igual al tiempo\n",
    "promedio del año pasado ($\\mu_0$): $\\mu = \\mu_0$.\n",
    "\n",
    "- **Hipótesis alternativa($H_1$)**: El tiempo promedio este año $(\\mu)$ es mayor que el proimedio del año pasado $(\\mu_0)$: $\\mu>\\mu_0$.\n",
    "\n",
    "Se dispone de la desviación estándar poblacional ($\\sigma$) del año pasado, lo que\n",
    "permite utilizar una prueba Z para la media poblacional."
   ]
  },
  {
   "cell_type": "markdown",
   "metadata": {},
   "source": [
    "1. Calcule el estadístico de prueba Z utilizando los datos proporcionados."
   ]
  },
  {
   "cell_type": "markdown",
   "metadata": {},
   "source": [
    "**Respuesta**: Primero calculamos el estadístico $Z$ considerando la expresión que lo defina como\n",
    "$$Z = \\dfrac{\\overline{x}-\\mu}{\\frac{\\sigma}{\\sqrt{n}}}$$\n",
    "con\n",
    "- $\\overline{x}$: Media de la muestra.\n",
    "- $\\mu$: Media poblacional de la hipotesis nula.\n",
    "- $\\sigma$: Desviación estándar poblacional.\n",
    "- $n$: Tamaño de la muestra.\n",
    "Para nuestro caso, \n",
    "$$\\overline{x} = 68,\\quad \\mu = 65,\\quad \\sigma = 10,\\quad n=50$$\n",
    "De esta forma, procedemos a realizar la implementación:"
   ]
  },
  {
   "cell_type": "code",
   "execution_count": 5,
   "metadata": {},
   "outputs": [
    {
     "name": "stdout",
     "output_type": "stream",
     "text": [
      "El estadístico Z utilizando los datos proporcionados queda dado por Z=2.1213.\n"
     ]
    }
   ],
   "source": [
    "# Datos\n",
    "x_bar = 68\n",
    "mu = 65\n",
    "sigma = 10\n",
    "n = 50\n",
    "\n",
    "# Estadístico de prueba Z\n",
    "z = (x_bar - mu)/(sigma/(n**.5))\n",
    "\n",
    "print(f\"El estadístico Z utilizando los datos proporcionados queda dado por Z={z:.4f}.\")\n"
   ]
  },
  {
   "cell_type": "markdown",
   "metadata": {},
   "source": [
    "2. ¿Qué conclusión se puede obtener con respecto a las hipótesis nula y\n",
    "alternativa basándose en el valor calculado de Z y el valor crítico\n",
    "correspondiente para un nivel de significancia del 5%?"
   ]
  },
  {
   "cell_type": "markdown",
   "metadata": {},
   "source": [
    "**Respuesta**: Considerando la prueba de hipótesis con un nivel de significancia de un 5% se tiene lo siguiente:"
   ]
  },
  {
   "cell_type": "code",
   "execution_count": 6,
   "metadata": {},
   "outputs": [
    {
     "name": "stdout",
     "output_type": "stream",
     "text": [
      "Rechazamos la hipótesis nula.\n"
     ]
    }
   ],
   "source": [
    "# Significancia\n",
    "alpha = 0.05\n",
    "\n",
    "# Valor critico para prueba de una cola por derecha\n",
    "vc = stats.norm.ppf(1-alpha)\n",
    "\n",
    "# Evaluar la hipótesis nula\n",
    "if z>vc:\n",
    "    print(\"Rechazamos la hipótesis nula.\")\n",
    "else:\n",
    "    print(\"No hay suficiente evidencia para rechazar la hipótesis nula.\")   \n"
   ]
  },
  {
   "cell_type": "markdown",
   "metadata": {},
   "source": [
    "Es decir, rechazamos la hipotesis nula, concluyendo entonces con la significancia pedida que la media de este año es mayor que la del año anterior. "
   ]
  }
 ],
 "metadata": {
  "kernelspec": {
   "display_name": "Python 3",
   "language": "python",
   "name": "python3"
  },
  "language_info": {
   "codemirror_mode": {
    "name": "ipython",
    "version": 3
   },
   "file_extension": ".py",
   "mimetype": "text/x-python",
   "name": "python",
   "nbconvert_exporter": "python",
   "pygments_lexer": "ipython3",
   "version": "3.11.8"
  }
 },
 "nbformat": 4,
 "nbformat_minor": 2
}
