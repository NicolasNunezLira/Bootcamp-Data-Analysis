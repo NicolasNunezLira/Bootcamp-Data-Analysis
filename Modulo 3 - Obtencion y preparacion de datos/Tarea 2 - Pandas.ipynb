{
 "cells": [
  {
   "cell_type": "markdown",
   "metadata": {},
   "source": [
    "# Actividad 2 - Módulo 3\n",
    "## Obtención y preparación de datos"
   ]
  },
  {
   "cell_type": "markdown",
   "metadata": {},
   "source": [
    "### Ejercicio 1\n",
    "Escribir un programa que pregunte al usuario por las ventas de un\n",
    "rango de años y muestre por pantalla una serie con los datos de las\n",
    "ventas indexada por los años, antes y después de aplicarles un\n",
    "descuento del 10%"
   ]
  },
  {
   "cell_type": "code",
   "execution_count": 248,
   "metadata": {},
   "outputs": [],
   "source": [
    "import pandas as pd"
   ]
  },
  {
   "cell_type": "code",
   "execution_count": 302,
   "metadata": {},
   "outputs": [
    {
     "name": "stdout",
     "output_type": "stream",
     "text": [
      "\n",
      "Datos de ventas sin descuento:\n",
      "Año\n",
      "2023    1000000\n",
      "2024     100000\n",
      "Name: Venta, dtype: int32\n",
      "\n",
      "Datos de ventas con descuento:\n",
      "Año\n",
      "2023    900000\n",
      "2024     90000\n",
      "Name: Venta con descuento, dtype: int32\n"
     ]
    }
   ],
   "source": [
    "# Ingreso de datos\n",
    "datos = {\"Año\": [], \"Venta\": [], \"Venta con descuento\": []}\n",
    "while True:\n",
    "    yn = input(\"¿Desea ingresar nuevos datos?(Y/N):\")\n",
    "    if yn.lower() == \"n\":\n",
    "        break\n",
    "    elif yn.lower() == \"y\":\n",
    "        anio = input(\"Ingrese el año:\")\n",
    "        venta = int(input(f\"Ingrese la venta del {anio}:\"))\n",
    "        datos[\"Año\"].append(anio)\n",
    "        datos[\"Venta\"].append(venta)\n",
    "        datos[\"Venta con descuento\"].append(venta*.9)\n",
    "    else :\n",
    "        print(\"Carácter ingresado no válido. Intentelo nuevamente.\")\n",
    "# Creación de data fram con años como índice\n",
    "df_ventas = pd.DataFrame(datos, dtype = int)\n",
    "df_ventas.set_index(\"Año\", inplace=True)\n",
    "# Despliege por columnas\n",
    "print(\"\\nDatos de ventas sin descuento:\")\n",
    "print(Series(df_ventas[\"Venta\"]))\n",
    "\n",
    "print(\"\\nDatos de ventas con descuento:\")\n",
    "print(Series(df_ventas[\"Venta con descuento\"]))\n"
   ]
  },
  {
   "cell_type": "markdown",
   "metadata": {},
   "source": [
    "### Ejercicio 2\n",
    "Escribir una función que reciba un diccionario con las notas de los\n",
    "alumnos en curso en un examen y devuelva una serie con la nota\n",
    "mínima, la máxima, media y la desviación típica."
   ]
  },
  {
   "cell_type": "code",
   "execution_count": 250,
   "metadata": {},
   "outputs": [],
   "source": [
    "def est_notas(dict):\n",
    "    \"\"\"\n",
    "    Función que dado un input\n",
    "        dict = {\"Nombres\" (str): Nota (float)}\n",
    "    retorna\n",
    "        estadisticos = [nota mínima, máxima, media, desviación estándat] (Serie)\n",
    "    \"\"\"\n",
    "    import pandas as pd\n",
    "    import numpy as np\n",
    "\n",
    "    notas = [round(float(nota),2) for nota in dict.values()]\n",
    "    estadisticos = {\"Mínimo\": min(notas), \"Máximo\" : max(notas), \"Media\" : np.median(notas) , \"Desviación estándar\" : np.std(notas)}\n",
    "\n",
    "    return pd.Series(data = estadisticos.values(), index = estadisticos.keys() )"
   ]
  },
  {
   "cell_type": "code",
   "execution_count": 251,
   "metadata": {},
   "outputs": [
    {
     "name": "stdout",
     "output_type": "stream",
     "text": [
      "Mínimo                 2.000000\n",
      "Máximo                 7.000000\n",
      "Media                  3.500000\n",
      "Desviación estándar    1.870829\n",
      "dtype: float64\n"
     ]
    }
   ],
   "source": [
    "# Test función est_notas\n",
    "notas = {\"Sample 1\": 2.0, \"Sample 2\":3.0, \"Sample 3\": 4.0, \"Sample 4\": 7.0}\n",
    "print(est_notas(notas))"
   ]
  },
  {
   "cell_type": "markdown",
   "metadata": {},
   "source": [
    "### Ejercicio 3\n",
    "Escribir una función que reciba un diccionario con las notas de los\n",
    "alumnos en curso en un examen y devuelva una serie con las notas de\n",
    "los alumnos aprobados ordenadas de mayor a menor."
   ]
  },
  {
   "cell_type": "code",
   "execution_count": 252,
   "metadata": {},
   "outputs": [],
   "source": [
    "def orden_aprobados(dict):\n",
    "    \"\"\"\n",
    "    Función que dado un input\n",
    "        dict = {\"Nombres\" (str): Nota (float)}\n",
    "    retorna\n",
    "        aprobados = [\"Nombres\", Notas] (Serie)\n",
    "    con sólo los alumnos aprobados. (Considerando criterio Aprobado ssi nota >= 4.0)\n",
    "    \"\"\"\n",
    "    import pandas as pd\n",
    "\n",
    "    aprobados = {Nombre:float(Nota) for Nombre, Nota in dict.items() if float(Nota)>=4.0}\n",
    "\n",
    "    return pd.Series(aprobados).sort_values(ascending=False)"
   ]
  },
  {
   "cell_type": "code",
   "execution_count": 253,
   "metadata": {},
   "outputs": [
    {
     "name": "stdout",
     "output_type": "stream",
     "text": [
      "Sample 4    7.0\n",
      "Sample 3    4.0\n",
      "dtype: float64\n"
     ]
    }
   ],
   "source": [
    "# Test función orden_aprobados\n",
    "notas = {\"Sample 1\": 2.0, \"Sample 2\":3.0, \"Sample 3\": 4.0, \"Sample 4\": 7.0}\n",
    "print(orden_aprobados(notas))"
   ]
  },
  {
   "cell_type": "markdown",
   "metadata": {},
   "source": [
    "### Ejercicio 4\n",
    "Escribir programa que genere y muestre por pantalla un DataFrame\n",
    "con los datos de la tabla siguiente:\n",
    "| Mes | Venta | Gastos |\n",
    "| --- |---| --- |\n",
    "| Enero | 30500| 22000 |\n",
    "| Febrero | 35600 | 23400 |\n",
    "| Marzo | 28300 | 18100 |\n",
    "| Abril | 33900 | 20700 |\n"
   ]
  },
  {
   "cell_type": "code",
   "execution_count": 254,
   "metadata": {},
   "outputs": [
    {
     "name": "stdout",
     "output_type": "stream",
     "text": [
      "         Ventas  Gastos\n",
      "Mes                    \n",
      "Enero     30500   22000\n",
      "Febrero   35600   23400\n",
      "Marzo     28300   18100\n",
      "Abril     33900   20700\n"
     ]
    }
   ],
   "source": [
    "import pandas as pd\n",
    "\n",
    "datos = {\"Mes\": [\"Enero\", \"Febrero\", \"Marzo\", \"Abril\"],\n",
    "         \"Ventas\": [30500,35600,28300,33900],\n",
    "         \"Gastos\": [22000,23400,18100,20700]}\n",
    "df = pd.DataFrame(datos)\n",
    "df.set_index(\"Mes\", inplace=True)\n",
    "print(df)\n"
   ]
  },
  {
   "cell_type": "markdown",
   "metadata": {},
   "source": [
    "### Ejercicio 5\n",
    "Convertir un diccionario Python en un objeto Series: \n",
    "$$datos = \\{ \"a\": 10, \"b\":20, \"c\":30, \"d\":40 \\}$$"
   ]
  },
  {
   "cell_type": "code",
   "execution_count": 255,
   "metadata": {},
   "outputs": [
    {
     "name": "stdout",
     "output_type": "stream",
     "text": [
      "a    10\n",
      "b    20\n",
      "c    30\n",
      "d    40\n",
      "dtype: int64\n"
     ]
    }
   ],
   "source": [
    "from pandas import Series\n",
    "\n",
    "datos = { \"a\": 10, \"b\":20, \"c\":30, \"d\":40 }\n",
    "serie = Series(datos)\n",
    "print(serie)"
   ]
  },
  {
   "cell_type": "markdown",
   "metadata": {},
   "source": [
    "### Ejercicio 6\n",
    "Obtener una columna de un objeto DataFrame como un objeto Series.\n",
    "$$datos = \\{\"A\": [1,2,3,4,5], \"B\": [9,8,7,6,5], \"C\":[2,3,5,7,11]\\}$$"
   ]
  },
  {
   "cell_type": "code",
   "execution_count": 303,
   "metadata": {},
   "outputs": [
    {
     "name": "stdout",
     "output_type": "stream",
     "text": [
      "El data Frame de los datos es:\n",
      "   A  B   C\n",
      "0  1  9   2\n",
      "1  2  8   3\n",
      "2  3  7   5\n",
      "3  4  6   7\n",
      "4  5  5  11\n",
      "\n",
      "De donde al extrer la primera columna como serie (columna A) se obtiene\n",
      "0    1\n",
      "1    2\n",
      "2    3\n",
      "3    4\n",
      "4    5\n",
      "dtype: int64\n"
     ]
    }
   ],
   "source": [
    "from pandas import Series, DataFrame\n",
    "\n",
    "datos = {\"A\": [1,2,3,4,5], \"B\": [9,8,7,6,5], \"C\":[2,3,5,7,11]}\n",
    "\n",
    "print(\"El data Frame de los datos es:\")\n",
    "df = DataFrame(datos)\n",
    "print(df)\n",
    "print(\"\\nDe donde al extrer la primera columna como serie (columna A) se obtiene\")\n",
    "serie = Series(datos[\"A\"])\n",
    "print(serie)"
   ]
  },
  {
   "cell_type": "markdown",
   "metadata": {},
   "source": [
    "### Ejercicio 7\n",
    "Ordenar los valores de un objeto Series\n",
    "$$ datos = [\"1.1\", \"Python\", \"0.5\", \"pandas\", \"2.8\"] $$"
   ]
  },
  {
   "cell_type": "code",
   "execution_count": 257,
   "metadata": {},
   "outputs": [
    {
     "name": "stdout",
     "output_type": "stream",
     "text": [
      "2       0.5\n",
      "0       1.1\n",
      "4       2.8\n",
      "1    Python\n",
      "3    pandas\n",
      "dtype: object\n"
     ]
    }
   ],
   "source": [
    "from pandas import Series\n",
    "\n",
    "datos = [\"1.1\", \"Python\", \"0.5\", \"pandas\", \"2.8\"]\n",
    "\n",
    "serie = Series(datos).sort_values()\n",
    "\n",
    "print(serie)"
   ]
  },
  {
   "cell_type": "markdown",
   "metadata": {},
   "source": [
    "### Ejercicio 8\n",
    "Agregar datos a un objeto Series existente\n",
    "$$ datos = [\"Python\", \"C\\sharp\", \"C++\", \"Java\", \"PHP\"] $$\n",
    "Agregar:\n",
    "$$ [\"Javascript\", \"Perl\"] $$\n",
    "Además, redefinir los índices para que estén ordenados del 0 al 6."
   ]
  },
  {
   "cell_type": "code",
   "execution_count": 304,
   "metadata": {},
   "outputs": [
    {
     "name": "stdout",
     "output_type": "stream",
     "text": [
      "Antes de la agregación la serie queda da por:\n",
      "0    Python\n",
      "1        C#\n",
      "2       C++\n",
      "3      Java\n",
      "4       PHP\n",
      "dtype: object\n",
      "\n",
      "Despúes de la agregar ['Javascript', 'Perl'] a la serie se obtiene:\n",
      "0        Python\n",
      "1            C#\n",
      "2           C++\n",
      "3          Java\n",
      "4           PHP\n",
      "5    Javascript\n",
      "6          Perl\n",
      "dtype: object\n"
     ]
    }
   ],
   "source": [
    "import pandas as pd\n",
    "\n",
    "# Serie existente con los datos\n",
    "datos = [\"Python\", \"C#\", \"C++\", \"Java\", \"PHP\"]\n",
    "datos = pd.Series(datos)\n",
    "print(\"Antes de la agregación la serie queda da por:\")\n",
    "print(datos)\n",
    "# Agregación de datos\n",
    "agregar = [\"Javascript\", \"Perl\"]\n",
    "print(f\"\\nDespúes de la agregar {agregar} a la serie se obtiene:\")\n",
    "for i, dato in enumerate(agregar):\n",
    "    datos.loc[len(datos)] = dato\n",
    "print(datos)"
   ]
  },
  {
   "cell_type": "markdown",
   "metadata": {},
   "source": [
    "### Ejercicio 9\n",
    "Teniendo la siguiente serie:\n",
    "$$ [10,None, 20, None, 40, 50,60,70,None,90] $$\n",
    "1. Crear una serie que elimine los datos nulos\n",
    "2. Cambie los valores nulos por el promedio\n",
    "3. Eliminar el último elemento\n"
   ]
  },
  {
   "cell_type": "code",
   "execution_count": 312,
   "metadata": {},
   "outputs": [
    {
     "name": "stdout",
     "output_type": "stream",
     "text": [
      "\n",
      " La serie al eliminar los datos nulos es:\n",
      "0    10.0\n",
      "2    20.0\n",
      "4    40.0\n",
      "5    50.0\n",
      "6    60.0\n",
      "7    70.0\n",
      "9    90.0\n",
      "dtype: float64\n",
      "\n",
      " La serie al reemplazar los datos nulos con el promedio 48.57142857142857 es:\n",
      "0    10.000000\n",
      "1    48.571429\n",
      "2    20.000000\n",
      "3    48.571429\n",
      "4    40.000000\n",
      "5    50.000000\n",
      "6    60.000000\n",
      "7    70.000000\n",
      "8    48.571429\n",
      "9    90.000000\n",
      "dtype: float64\n",
      "\n",
      "Al eliminar el último elemeto de la serie se obtiene:\n",
      "0    10.0\n",
      "1     NaN\n",
      "2    20.0\n",
      "3     NaN\n",
      "4    40.0\n",
      "5    50.0\n",
      "6    60.0\n",
      "7    70.0\n",
      "8     NaN\n",
      "dtype: float64\n"
     ]
    }
   ],
   "source": [
    "from pandas import Series\n",
    "serie = pd.Series([10, None, 20, None, 40, 50, 60, 70, None, 90])\n",
    "\n",
    "# 1. Crea una serie que elimine los datos nulos\n",
    "serie_non_nan = serie.dropna()\n",
    "print(f\"\\n La serie al eliminar los datos nulos es:\")\n",
    "print(serie_non_nan)\n",
    "\n",
    "# Cambie los valores nulos por el promedio\n",
    "serie_promedioxnan = serie.fillna(serie.mean())\n",
    "print(f\"\\n La serie al reemplazar los datos nulos con el promedio {float(serie.mean())} es:\")\n",
    "print(serie_promedioxnan)\n",
    "\n",
    "# Eliminar el último elemento\n",
    "serie = serie.iloc[:-1]\n",
    "print(f\"\\nAl eliminar el último elemeto de la serie se obtiene:\")\n",
    "print(serie)"
   ]
  },
  {
   "cell_type": "markdown",
   "metadata": {},
   "source": [
    "### Ejercicio 10\n",
    "Crear una Serie y un DataFrame:\n",
    "1. Crea una Serie con nombres de frutas.\n",
    "2. Crea un DataFrame con nombres de frutas y su cantidad."
   ]
  },
  {
   "cell_type": "code",
   "execution_count": 260,
   "metadata": {},
   "outputs": [
    {
     "name": "stdout",
     "output_type": "stream",
     "text": [
      "Una serie con nombres de frutas podría ser:\n",
      "0      Manzana\n",
      "1      Durazno\n",
      "2    Frambuesa\n",
      "dtype: object\n",
      "\n",
      "Mientras que un DataFrame con la serie anterior y su cantidad podría ser:\n",
      "       Fruta  Cantidad\n",
      "0    Manzana        25\n",
      "1    Durazno         4\n",
      "2  Frambuesa        57\n"
     ]
    }
   ],
   "source": [
    "from pandas import DataFrame, Series\n",
    "import numpy as np\n",
    "\n",
    "np.random.seed(3)\n",
    "\n",
    "# 1. Crea una serie con nombres de frutas\n",
    "print(\"Una serie con nombres de frutas podría ser:\")\n",
    "frutas = Series([\"Manzana\", \"Durazno\", \"Frambuesa\"])\n",
    "print(frutas)\n",
    "\n",
    "# 2. Crea un DataFrame con nombres de frutas y su cantidad\n",
    "cantidad = np.random.randint(1,100, size = (len(frutas)))\n",
    "print(\"\\nMientras que un DataFrame con la serie anterior y su cantidad podría ser:\")\n",
    "df = DataFrame({\"Fruta\": frutas.values, \"Cantidad\" : cantidad})\n",
    "print(df)"
   ]
  },
  {
   "cell_type": "markdown",
   "metadata": {},
   "source": [
    "Manipulación de DataFrames:\n",
    "\n",
    "3. Agrega una columna con precios a tu DataFrame de frutas.\n",
    "4. Selecciona solo las frutas con una cantidad mayor a 10.\n",
    "5. Encuentra el promedio de los precios de las frutas."
   ]
  },
  {
   "cell_type": "code",
   "execution_count": 261,
   "metadata": {},
   "outputs": [
    {
     "name": "stdout",
     "output_type": "stream",
     "text": [
      "Al agregar la columna precios al DataFrame se obtiene:\n",
      "       Fruta  Cantidad  Precios/kilogramo\n",
      "0    Manzana        25               1863\n",
      "1    Durazno         4               1542\n",
      "2  Frambuesa        57               1558\n",
      "\n",
      "Las frutas con cantidad mayor que 10 son:\n",
      "       Fruta  Cantidad  Precios/kilogramo\n",
      "0    Manzana        25               1863\n",
      "2  Frambuesa        57               1558\n",
      "\n",
      "El promedio de los precios de las frutas es:\n",
      "1654.3333333333333\n"
     ]
    }
   ],
   "source": [
    "np.random.seed(3)\n",
    "\n",
    "# Agrega una columna con precios a tu DataFrame de frutas\n",
    "print(\"Al agregar la columna precios al DataFrame se obtiene:\")\n",
    "df[\"Precios/kilogramo\"] = np.random.randint(590, 1990, size = (len(frutas)))\n",
    "print(df)\n",
    "\n",
    "# Selecciona solo las frutas con una cantidad mayor a 10\n",
    "print(\"\\nLas frutas con cantidad mayor que 10 son:\")\n",
    "print(df[df[\"Cantidad\"]>10])\n",
    "\n",
    "# 5. Encuentra el promedio de los precios de las frutas\n",
    "print(\"\\nEl promedio de los precios de las frutas es:\")\n",
    "print(df[\"Precios/kilogramo\"].mean())"
   ]
  },
  {
   "cell_type": "markdown",
   "metadata": {},
   "source": [
    "### Ejercicio 11\n",
    "**Crear un DataFrame:**\n",
    "1. Crea un DataFrame con información de ventas por día (fecha,\n",
    "producto, cantidad vendida, precio unitario)."
   ]
  },
  {
   "cell_type": "code",
   "execution_count": 262,
   "metadata": {},
   "outputs": [
    {
     "name": "stdout",
     "output_type": "stream",
     "text": [
      "     Fecha  Producto  Cantidad Vendida  Precio unitario\n",
      "2014-02-18 Chocolate                 6             1990\n",
      "2014-02-17 Chocolate                 1             1990\n",
      "2014-02-17     Leche                 2              990\n",
      "2014-02-17      Café                 1             7990\n",
      "2014-02-17    Azúcar                 1              890\n",
      "2014-02-17    Canela                 1              790\n",
      "2014-01-10      Taza                 6             2990\n",
      "2014-01-10   Cuchara                 6              690\n"
     ]
    }
   ],
   "source": [
    "# Importación de módulos y librerias\n",
    "\n",
    "from pandas import DataFrame\n",
    "import numpy as np\n",
    "from datetime import datetime\n",
    "\n",
    "# Creamos un DataFrame\n",
    "ventas = {\n",
    "    \"Fecha\": [datetime(2014,2,18),datetime(2014,2,17),datetime(2014,2,17),datetime(2014,2,17)\n",
    "              ,datetime(2014,2,17),datetime(2014,2,17),datetime(2014,1,10),datetime(2014,1,10)],\n",
    "    \"Producto\": [\"Chocolate\", \"Chocolate\", \"Leche\", \"Café\", \"Azúcar\", \"Canela\", \"Taza\", \"Cuchara\"],\n",
    "    \"Cantidad Vendida\": [6,1,2,1,1,1,6,6],\n",
    "    \"Precio unitario\": [1990,1990,990,7990,890,790,2990,690]\n",
    "}\n",
    "ventas = DataFrame(ventas)\n",
    "print(ventas.to_string(index=False))"
   ]
  },
  {
   "cell_type": "markdown",
   "metadata": {},
   "source": [
    "**Análisis y Manipulación:**\n",
    "\n",
    "2. Calcula el total de ingresos por día (cantidad vendida * precio\n",
    "unitario).\n"
   ]
  },
  {
   "cell_type": "code",
   "execution_count": 290,
   "metadata": {},
   "outputs": [
    {
     "name": "stdout",
     "output_type": "stream",
     "text": [
      "      Días  Total\n",
      "2014-02-18  11940\n",
      "2014-02-17  13640\n",
      "2014-01-10  22080\n"
     ]
    }
   ],
   "source": [
    "dias = ventas[\"Fecha\"].unique()\n",
    "total_diario = {\"Días\": dias, \"Total\" :[]}\n",
    "for dia in dias:\n",
    "    total_diario[\"Total\"].append(np.dot(ventas[ventas[\"Fecha\"] == dia][\"Cantidad Vendida\"],\n",
    "                                        ventas[ventas[\"Fecha\"] == dia][\"Precio unitario\"]))\n",
    "total_diario = DataFrame(total_diario)\n",
    "print(total_diario.to_string(index=False))"
   ]
  },
  {
   "cell_type": "markdown",
   "metadata": {},
   "source": [
    "3. Encuentra el producto más vendido en términos de cantidad y\n",
    "el que generó mayores ingresos.\n"
   ]
  },
  {
   "cell_type": "code",
   "execution_count": 264,
   "metadata": {},
   "outputs": [
    {
     "name": "stdout",
     "output_type": "stream",
     "text": [
      " Producto  Cantidad Total  Total\n",
      "Chocolate               7  13930\n",
      "    Leche               2   1980\n",
      "     Café               1   7990\n",
      "   Azúcar               1    890\n",
      "   Canela               1    790\n",
      "     Taza               6  17940\n",
      "  Cuchara               6   4140\n",
      "\n",
      "El(los) producto más vendido(s) en cantidad es(son):\n",
      "1. Chocolate: 7 items vendidos.\n",
      "\n",
      "El(los) producto(s) que generó(raron) mayor(es) ingresos es(son): \n",
      "1. Taza: Valor vendido $17940.\n"
     ]
    }
   ],
   "source": [
    "# Creacion DataFrame por productos\n",
    "productos = ventas[\"Producto\"].unique()\n",
    "resumen_prod = {\"Producto\": productos, \"Cantidad Total\" : [], \"Total\":[]}\n",
    "for item in productos:\n",
    "    resumen_prod[\"Cantidad Total\"].append(\n",
    "        sum(\n",
    "            ventas[ventas[\"Producto\"] == item][\"Cantidad Vendida\"]\n",
    "        )\n",
    "    )\n",
    "    resumen_prod[\"Total\"].append(\n",
    "        sum(\n",
    "            ventas[ventas[\"Producto\"] == item][\"Precio unitario\"]*ventas[ventas[\"Producto\"] == item][\"Cantidad Vendida\"]\n",
    "        )\n",
    "    )\n",
    "resumen_prod = DataFrame(resumen_prod)\n",
    "print(resumen_prod.to_string(index=False))\n",
    "\n",
    "# Busqueda de los datos pedidos \n",
    "# Mayor cantidad vendida\n",
    "mayor_cantidad = resumen_prod[resumen_prod[\"Cantidad Total\"] == max(resumen_prod[\"Cantidad Total\"])][\"Producto\"]\n",
    "\n",
    "print(f\"\\nEl(los) producto más vendido(s) en cantidad es(son):\")\n",
    "for i, prod in enumerate(list(mayor_cantidad)):\n",
    "    print(f\"{i+1}. {prod}: {max(resumen_prod['Cantidad Total'])} items vendidos.\")\n",
    "\n",
    "# Mayor ingreso\n",
    "m = resumen_prod[resumen_prod[\"Total\"] == max(resumen_prod[\"Total\"])][\"Producto\"]\n",
    "\n",
    "print(f\"\\nEl(los) producto(s) que generó(raron) mayor(es) ingresos es(son): \")\n",
    "for i, prod in enumerate(list(mayor_ingreso)):\n",
    "    print(f\"{i+1}. {prod}: Valor vendido ${max(resumen_prod['Total'])}.\")\n"
   ]
  },
  {
   "cell_type": "markdown",
   "metadata": {},
   "source": [
    "4. Agrega una columna que indique el día de la semana."
   ]
  },
  {
   "cell_type": "code",
   "execution_count": 265,
   "metadata": {},
   "outputs": [
    {
     "name": "stdout",
     "output_type": "stream",
     "text": [
      "     Fecha  Producto  Cantidad Vendida  Precio unitario Día de la semana\n",
      "2014-02-18 Chocolate                 6             1990           martes\n",
      "2014-02-17 Chocolate                 1             1990            lunes\n",
      "2014-02-17     Leche                 2              990            lunes\n",
      "2014-02-17      Café                 1             7990            lunes\n",
      "2014-02-17    Azúcar                 1              890            lunes\n",
      "2014-02-17    Canela                 1              790            lunes\n",
      "2014-01-10      Taza                 6             2990          viernes\n",
      "2014-01-10   Cuchara                 6              690          viernes\n"
     ]
    }
   ],
   "source": [
    "dias_semana = [\"lunes\", \"martes\", \"miércoles\", \"jueves\", \"viernes\", \"sábado\", \"domingo\"]\n",
    "dias = []\n",
    "for fecha in ventas[\"Fecha\"]:\n",
    "    dias.append(dias_semana[fecha.weekday()])\n",
    "ventas[\"Día de la semana\"] = dias\n",
    "print(ventas.to_string(index=False))"
   ]
  },
  {
   "cell_type": "markdown",
   "metadata": {},
   "source": [
    "5. Encuentra el día de la semana con mayores ventas totales."
   ]
  },
  {
   "cell_type": "code",
   "execution_count": 266,
   "metadata": {},
   "outputs": [
    {
     "name": "stdout",
     "output_type": "stream",
     "text": [
      "   Días  Total\n",
      " martes  11940\n",
      "  lunes  13640\n",
      "viernes  22080\n",
      "\n",
      "El(los) día(s) de la semana que registró(registraton) el mayor ingreso ($22080) es(son):\n",
      "1. viernes.\n"
     ]
    }
   ],
   "source": [
    "# Creacion de DataFrame para el total por dia de la semana\n",
    "dias = ventas[\"Día de la semana\"].unique()\n",
    "total_por_dia = {\"Días\": dias, \"Total\": []}\n",
    "for dia in dias:\n",
    "    total_por_dia[\"Total\"].append(np.dot(ventas[ventas[\"Día de la semana\"] == dia][\"Cantidad Vendida\"],\n",
    "                                        ventas[ventas[\"Día de la semana\"] == dia][\"Precio unitario\"]))\n",
    "total_por_dia = DataFrame(total_por_dia)\n",
    "print(total_por_dia.to_string(index=False))\n",
    "\n",
    "# Calculamos el maximo y recuperamos los dias donde se obtiene \n",
    "mayor_por_dia = total_por_dia[total_por_dia[\"Total\"] == max(total_por_dia['Total'])][\"Días\"]\n",
    "\n",
    "print(f\"\\nEl(los) día(s) de la semana que registró(registraton) el mayor ingreso (${max(total_por_dia['Total'])}) es(son):\")\n",
    "for i, dia in enumerate(list(mayor_por_dia)):\n",
    "    print(f\"{i+1}. {dia}.\")\n"
   ]
  },
  {
   "cell_type": "markdown",
   "metadata": {},
   "source": [
    "6. Calcula el promedio de ventas por producto.\n"
   ]
  },
  {
   "cell_type": "code",
   "execution_count": 267,
   "metadata": {},
   "outputs": [
    {
     "name": "stdout",
     "output_type": "stream",
     "text": [
      " Producto  Cantidad Total  Total  Promedio de ventas por día\n",
      "Chocolate               7  13930                    2.333333\n",
      "    Leche               2   1980                    0.666667\n",
      "     Café               1   7990                    0.333333\n",
      "   Azúcar               1    890                    0.333333\n",
      "   Canela               1    790                    0.333333\n",
      "     Taza               6  17940                    2.000000\n",
      "  Cuchara               6   4140                    2.000000\n"
     ]
    }
   ],
   "source": [
    "# Usamos el DataFrame creado en 3, y agregamos la columna promedio de ventas por dia\n",
    "cantidad_dias = len(ventas[\"Fecha\"].unique())\n",
    "resumen_prod[\"Promedio de ventas por día\"] = resumen_prod[\"Cantidad Total\"]/cantidad_dias\n",
    "print(resumen_prod.to_string(index=False))"
   ]
  },
  {
   "cell_type": "markdown",
   "metadata": {},
   "source": [
    "7. Encuentra la fecha con mayores ingresos.\n"
   ]
  },
  {
   "cell_type": "code",
   "execution_count": 268,
   "metadata": {},
   "outputs": [
    {
     "name": "stdout",
     "output_type": "stream",
     "text": [
      "El(los) día(s) que registró(registraton) el mayor ingreso ($22080) es(son):\n",
      "1. 2014-01-10.\n"
     ]
    }
   ],
   "source": [
    "# Usamos el DataFrame creado en 2.\n",
    "mayor_ingreso_diario = total_diario[total_diario[\"Total\"] == max(total_diario[\"Total\"])][\"Días\"]\n",
    "\n",
    "print(f\"El(los) día(s) que registró(registraton) el mayor ingreso (${max(total_diario['Total'])}) es(son):\")\n",
    "for i, dia in enumerate(list(mayor_ingreso_diario)):\n",
    "    print(f\"{i+1}. {dia.strftime('%Y-%m-%d')}.\")"
   ]
  },
  {
   "cell_type": "markdown",
   "metadata": {},
   "source": [
    "8. Agrupa los datos por mes y encuentra el mes con mayores\n",
    "ingresos."
   ]
  },
  {
   "cell_type": "code",
   "execution_count": 317,
   "metadata": {},
   "outputs": [
    {
     "name": "stdout",
     "output_type": "stream",
     "text": [
      "            Mes  Total ingresos\n",
      "Febrero de 2014           25580\n",
      "  Enero de 2014           22080\n",
      "\n",
      "El(los) mes(es) que registró(registraton) el mayor ingreso ($25580) es(son):\n",
      "1. Febrero de 2014.\n"
     ]
    }
   ],
   "source": [
    "# Creacion de un DataFrame por meses\n",
    "import locale\n",
    "locale.setlocale(locale.LC_TIME, 'es_ES.UTF-8')\n",
    "resumen_mensual = {\"Mes\":[] ,\"Total ingresos\": []}\n",
    "for i in range(len(total_diario)):\n",
    "    string = total_diario[\"Días\"][i].strftime(\"%B de %Y\").capitalize()\n",
    "    if string in resumen_mensual[\"Mes\"]:\n",
    "        resumen_mensual[\"Total ingresos\"][resumen_mensual[\"Mes\"].index(string)] += total_diario[\"Total\"][i]\n",
    "    else:\n",
    "        resumen_mensual[\"Mes\"].append(string)\n",
    "        resumen_mensual[\"Total ingresos\"].append(total_diario[\"Total\"][i])\n",
    "resumen_mensual = DataFrame(resumen_mensual)\n",
    "print(resumen_mensual.to_string(index=False))\n",
    "\n",
    "# Buscamos y mostramos el mes con mayores ingresos\n",
    "mayor_ingreso_mensual = resumen_mensual[resumen_mensual[\"Total ingresos\"] == max(resumen_mensual[\"Total ingresos\"])][\"Mes\"]\n",
    "\n",
    "print(f\"\\nEl(los) mes(es) que registró(registraton) el mayor ingreso (${max(resumen_mensual['Total ingresos'])}) es(son):\")\n",
    "for i, mes in enumerate(list(mayor_ingreso_mensual)):\n",
    "    print(f\"{i+1}. {mes}.\")"
   ]
  }
 ],
 "metadata": {
  "kernelspec": {
   "display_name": "Python 3",
   "language": "python",
   "name": "python3"
  },
  "language_info": {
   "codemirror_mode": {
    "name": "ipython",
    "version": 3
   },
   "file_extension": ".py",
   "mimetype": "text/x-python",
   "name": "python",
   "nbconvert_exporter": "python",
   "pygments_lexer": "ipython3",
   "version": "3.11.8"
  }
 },
 "nbformat": 4,
 "nbformat_minor": 2
}
