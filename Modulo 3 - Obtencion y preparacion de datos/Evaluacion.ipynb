{
 "cells": [
  {
   "cell_type": "markdown",
   "metadata": {},
   "source": [
    "# Evaluación Final Módulo 3\n",
    "### OBTENCIÓN Y PREPARACIÓN DE DATOS."
   ]
  },
  {
   "cell_type": "markdown",
   "metadata": {},
   "source": [
    "Autor: Nicolás Núñez"
   ]
  },
  {
   "cell_type": "markdown",
   "metadata": {},
   "source": [
    "Vamos a crear un sistema de facturación y bodega simplificado, el cual\n",
    "tendrá diferentes opciones:\n",
    "1. **Ingresar producto**: debe ingresarse el nombre y el precio del producto.\n",
    "Tendrá un sub menú: nuevo producto, guardar archivo o volver.\n",
    "2. **Ingresar factura**: debe ingresarse el nombre del cliente, luego deberá\n",
    "generar un submenú: ingresar producto, guardar y salir.\n",
    "Los productos se ingresan con nombre y precio. La factura además\n",
    "debe guardar la fecha y hora actual de la venta.\n",
    "3. **Ver resumen**: en esta opción se debe desplegar:\n",
    "Cantidad de ventas y monto total vendido. Opción de guardar\n",
    "resumen (ingresando nombre de archivo).\n",
    "4. **Ver detalle**: se debe tener las opciones desplegar: ventas por usuario,\n",
    "ventas por producto, ventas diarias, guardar vista (ingresando el\n",
    "nombre de archivo).\n",
    "6. **Borrar datos**: elimina los archivos guardados (elegir productos,\n",
    "facturas, todos o volver)\n",
    "7. **Salir**: termina la ejecución del programa"
   ]
  },
  {
   "cell_type": "markdown",
   "metadata": {},
   "source": [
    "### **Funciones**"
   ]
  },
  {
   "cell_type": "markdown",
   "metadata": {},
   "source": [
    "Ingresar nuevo producto a *productos.csv* si es que no hay otro con el mismo nombre ya agregado."
   ]
  },
  {
   "cell_type": "code",
   "execution_count": 126,
   "metadata": {},
   "outputs": [],
   "source": [
    "def ingresarProducto(nombre, precio):\n",
    "    \"\"\"\n",
    "    Dados los input:\n",
    "        nombre (str)\n",
    "        precio (float, str)\n",
    "    Agrega el producto a una nueva línea del archivo producto.csv\n",
    "    \"\"\"\n",
    "    # Librerias requeridas\n",
    "    import pandas as pd\n",
    "\n",
    "    # Creacion nuevo producto\n",
    "    new = pd.DataFrame({'Nombre': [nombre], 'Precio': [float(precio)]})\n",
    "\n",
    "    # Lectura de los datos guardados y corroboracion que no hay uno con el mismo nombre\n",
    "    try:\n",
    "        productos = pd.read_csv('productos.csv', encoding = 'latin-1', header=0)\n",
    "        if new['Nombre'][0] in list(productos['Nombre']):\n",
    "            print('El producto ya existe en la base de datos.')\n",
    "            return False\n",
    "        else :\n",
    "            with open('productos.csv', mode='a', newline='') as file:\n",
    "                new.to_csv(file, header = False, index = False)\n",
    "    except FileNotFoundError:\n",
    "        # Escribimos el producto en el archivo\n",
    "        with open('productos.csv', mode='a', newline='') as file:\n",
    "            new.to_csv(file, header = True, index = False)\n",
    "        print('Archivo producto.csv creado con éxito.')\n",
    "\n",
    "    print(f'Producto {nombre} agregado con éxito.')\n",
    "    return True"
   ]
  },
  {
   "cell_type": "markdown",
   "metadata": {},
   "source": [
    "Ingresar nueva factura a *facturas.csv* a partir del nombre del usuario, producto, cantidad, agregando además subtotal, fecha y hora."
   ]
  },
  {
   "cell_type": "code",
   "execution_count": 127,
   "metadata": {},
   "outputs": [],
   "source": [
    "def ingresarFactura(nombre, producto, cantidad):\n",
    "    \"\"\"\n",
    "    Dados los input:\n",
    "        nombre (str)\n",
    "        producto (str)\n",
    "        precio (float, str)\n",
    "    Agrega la factura a una nueva línea del archivo factura.csv\n",
    "    \"\"\"\n",
    "    # Librerias requeridas\n",
    "    import pandas as pd\n",
    "    from datetime import datetime\n",
    "\n",
    "    # Tratar de abrir el archivo productos.csv\n",
    "    try :\n",
    "        productos = pd.read_csv('productos.csv', sep =',', encoding='latin-1', header=0)\n",
    "    except FileNotFoundError:\n",
    "        print('Cree un archivo de productos antes de ingresar una boleta')\n",
    "        return False\n",
    "    \n",
    "    # Calcular el subtotal si es que el producto ya esta en la base de datos\n",
    "    if producto in list(productos[\"Nombre\"]):\n",
    "        subtotal = list(productos[productos[\"Nombre\"]==producto]['Precio'])[0]*cantidad\n",
    "    else :\n",
    "        print('Producto no ingresado el base de datos, por favor agreguelo e intentelo nuevamente.')\n",
    "        return False\n",
    "\n",
    "    # Creacion nuevo producto\n",
    "    new = pd.DataFrame([{'Nombre': nombre, 'Producto': producto, 'Cantidad': cantidad,'Subtotal' : subtotal, 'Fecha': datetime.now().strftime('%Y-%m-%d'), 'Hora': datetime.now().strftime('%H:%M:%S')}])\n",
    "\n",
    "    try:\n",
    "        pd.read_csv('facturas.csv', encoding = 'latin-1', header=0)\n",
    "        with open('facturas.csv', mode='a', newline='') as file:\n",
    "            new.to_csv(file, header = False, index = False)\n",
    "    except FileNotFoundError:\n",
    "        with open('facturas.csv', mode='a', newline='') as file:\n",
    "            new.to_csv(file, header = True, index = False)\n",
    "        print('Archivo facturas.csv creado.')\n",
    "\n",
    "    print(f'Factura de {nombre} agregado con éxito.')\n",
    "    return True\n"
   ]
  },
  {
   "cell_type": "code",
   "execution_count": 128,
   "metadata": {},
   "outputs": [
    {
     "data": {
      "text/plain": [
       "17940.0"
      ]
     },
     "execution_count": 128,
     "metadata": {},
     "output_type": "execute_result"
    }
   ],
   "source": [
    "productos = pd.read_csv('productos.csv', sep =',', encoding='latin-1', header=0)\n",
    "subtotal = list(productos[productos[\"Nombre\"]=='Taza']['Precio'])[0]*6\n",
    "subtotal"
   ]
  },
  {
   "cell_type": "markdown",
   "metadata": {},
   "source": [
    "Resumen de ventas"
   ]
  },
  {
   "cell_type": "code",
   "execution_count": 129,
   "metadata": {},
   "outputs": [],
   "source": [
    "def resumenVentas():\n",
    "    from pandas import DataFrame, read_csv\n",
    "\n",
    "    # Lectura archivos\n",
    "    facturas = read_csv('facturas.csv', sep = ',', encoding='latin-1', header=0).drop_duplicates()\n",
    "\n",
    "    print(f\"Cantidad de ventas : {len(facturas)}\")\n",
    "    print(f\"Total vendido : {facturas['Subtotal'].sum()}\")\n",
    "\n",
    "    return DataFrame({'Cantidad de ventas' : [len(facturas)], 'Total vendido': [facturas['Subtotal'].sum()]})"
   ]
  },
  {
   "cell_type": "markdown",
   "metadata": {},
   "source": [
    "Detalles de ventas por usuario, día o producto."
   ]
  },
  {
   "cell_type": "code",
   "execution_count": 130,
   "metadata": {},
   "outputs": [],
   "source": [
    "def ventasUsuarios():\n",
    "    from pandas import DataFrame, read_csv\n",
    "\n",
    "    # Lectura archivos\n",
    "    facturas = read_csv('facturas.csv', sep = ',', encoding='latin-1', header=0).drop_duplicates()\n",
    "\n",
    "    # Extraccion de datos\n",
    "    return (facturas.groupby('Nombre')['Subtotal'].sum()).reset_index()"
   ]
  },
  {
   "cell_type": "code",
   "execution_count": 131,
   "metadata": {},
   "outputs": [],
   "source": [
    "def ventasProducto():\n",
    "    from pandas import DataFrame, read_csv\n",
    "\n",
    "    # Lectura archivos\n",
    "    facturas = read_csv('facturas.csv', sep = ',', encoding='latin-1', header=0).drop_duplicates()\n",
    "\n",
    "    # Extraccion de datos\n",
    "    return (facturas.groupby('Producto')['Subtotal'].sum()).reset_index()"
   ]
  },
  {
   "cell_type": "code",
   "execution_count": 132,
   "metadata": {},
   "outputs": [],
   "source": [
    "def ventasDiarias():\n",
    "    from pandas import DataFrame, read_csv\n",
    "\n",
    "    # Lectura archivos\n",
    "    facturas = read_csv('facturas.csv', sep = ',', encoding='latin-1', header=0).drop_duplicates()\n",
    "\n",
    "    # Extraccion de datos\n",
    "    return (facturas.groupby('Fecha')['Subtotal'].sum()).reset_index()"
   ]
  },
  {
   "cell_type": "markdown",
   "metadata": {},
   "source": [
    "Borrar archivo"
   ]
  },
  {
   "cell_type": "code",
   "execution_count": 139,
   "metadata": {},
   "outputs": [],
   "source": [
    "def borrar(archivo):\n",
    "    import os\n",
    "\n",
    "    try :\n",
    "        os.remove(archivo)\n",
    "        print(f\"Archivo {archivo} eliminado con éxito.\")\n",
    "        return True\n",
    "    except FileNotFoundError:\n",
    "        print(f\"El archivo especificado no existe.\")\n",
    "        return False"
   ]
  },
  {
   "cell_type": "markdown",
   "metadata": {},
   "source": [
    "### **Sistema**"
   ]
  },
  {
   "cell_type": "code",
   "execution_count": 151,
   "metadata": {},
   "outputs": [
    {
     "name": "stdout",
     "output_type": "stream",
     "text": [
      "\n",
      "¿Qué desea hacer?\n",
      "1. Ingresar producto.\n",
      "2. Ingresar factura.\n",
      "3. Ver resumen.\n",
      "4. Ver detalle.\n",
      "5. Borrar datos.\n",
      "6. Salir\n",
      "\n",
      "Ingrese el nombre del producto:\n",
      "Ingrese el precio del producto:\n",
      "Producto Huevo agregado con éxito.\n",
      "\n",
      "¿Qué desea hacer?\n",
      "1. Ingresar producto.\n",
      "2. Ingresar factura.\n",
      "3. Ver resumen.\n",
      "4. Ver detalle.\n",
      "5. Borrar datos.\n",
      "6. Salir\n",
      "\n",
      "Ingrese el nombre del cliente:\n",
      "Ingrese el nombre del producto comprado:\n",
      "Ingrese la cantidad del producto:\n",
      "Factura de Nicolas agregado con éxito.\n",
      "\n",
      "¿Qué desea hacer?\n",
      "1. Ingresar otro producto.\n",
      "2. Volver\n",
      "\n",
      "¿Qué desea hacer?\n",
      "1. Ingresar producto.\n",
      "2. Ingresar factura.\n",
      "3. Ver resumen.\n",
      "4. Ver detalle.\n",
      "5. Borrar datos.\n",
      "6. Salir\n",
      "\n",
      "Cantidad de ventas : 2\n",
      "Total vendido : 4980.0\n",
      "\n",
      "Si desea guardar la información vista en formato csv ingrese el nombre del archivo. En caso contrario aprete enter:\n",
      "\n",
      "¿Qué desea hacer?\n",
      "1. Ingresar producto.\n",
      "2. Ingresar factura.\n",
      "3. Ver resumen.\n",
      "4. Ver detalle.\n",
      "5. Borrar datos.\n",
      "6. Salir\n",
      "\n",
      "¿Qué detalles desea ver?\n",
      "1. Ventas por usuarios.\n",
      "2. Ventas por productos.\n",
      "3. Ventas por días.\n",
      "4. Volver.\n"
     ]
    },
    {
     "data": {
      "text/html": [
       "<div>\n",
       "<style scoped>\n",
       "    .dataframe tbody tr th:only-of-type {\n",
       "        vertical-align: middle;\n",
       "    }\n",
       "\n",
       "    .dataframe tbody tr th {\n",
       "        vertical-align: top;\n",
       "    }\n",
       "\n",
       "    .dataframe thead th {\n",
       "        text-align: right;\n",
       "    }\n",
       "</style>\n",
       "<table border=\"1\" class=\"dataframe\">\n",
       "  <thead>\n",
       "    <tr style=\"text-align: right;\">\n",
       "      <th></th>\n",
       "      <th>Producto</th>\n",
       "      <th>Subtotal</th>\n",
       "    </tr>\n",
       "  </thead>\n",
       "  <tbody>\n",
       "    <tr>\n",
       "      <th>0</th>\n",
       "      <td>Huevo</td>\n",
       "      <td>3000.0</td>\n",
       "    </tr>\n",
       "    <tr>\n",
       "      <th>1</th>\n",
       "      <td>Leche</td>\n",
       "      <td>1980.0</td>\n",
       "    </tr>\n",
       "  </tbody>\n",
       "</table>\n",
       "</div>"
      ],
      "text/plain": [
       "  Producto  Subtotal\n",
       "0    Huevo    3000.0\n",
       "1    Leche    1980.0"
      ]
     },
     "metadata": {},
     "output_type": "display_data"
    },
    {
     "name": "stdout",
     "output_type": "stream",
     "text": [
      "Si desea guardar la información vista en formato csv ingrese el nombre del archivo. En caso contrario aprete enter:\n",
      "\n",
      "¿Qué detalles desea ver?\n",
      "1. Ventas por usuarios.\n",
      "2. Ventas por productos.\n",
      "3. Ventas por días.\n",
      "4. Volver.\n",
      "Valor ingresado no válido, reintentelo.\n",
      "\n",
      "¿Qué detalles desea ver?\n",
      "1. Ventas por usuarios.\n",
      "2. Ventas por productos.\n",
      "3. Ventas por días.\n",
      "4. Volver.\n",
      "\n",
      "¿Qué desea hacer?\n",
      "1. Ingresar producto.\n",
      "2. Ingresar factura.\n",
      "3. Ver resumen.\n",
      "4. Ver detalle.\n",
      "5. Borrar datos.\n",
      "6. Salir\n",
      "Proceso terminado.\n"
     ]
    }
   ],
   "source": [
    "while True:\n",
    "    print(\"\\n¿Qué desea hacer?\")\n",
    "    print(\"1. Ingresar producto.\")\n",
    "    print(\"2. Ingresar factura.\")\n",
    "    print(\"3. Ver resumen.\")\n",
    "    print(\"4. Ver detalle.\")\n",
    "    print(\"5. Borrar datos.\")\n",
    "    print(\"6. Salir\")\n",
    "    opcion = int(input(\"Ingrese el número de la acción que desea realizar:\"))\n",
    "\n",
    "    if opcion==1:\n",
    "        print(\"\\nIngrese el nombre del producto:\")\n",
    "        nombre = input(\"Nombre producto:\")\n",
    "        print(\"Ingrese el precio del producto:\")\n",
    "        precio = input(\"Precio del producto:\")\n",
    "        ingresarProducto(nombre, precio)\n",
    "    elif opcion==2:\n",
    "        print(\"\\nIngrese el nombre del cliente:\")\n",
    "        cliente = input(\"Nombre del cliente:\")\n",
    "        while True:\n",
    "            print(\"Ingrese el nombre del producto comprado:\")\n",
    "            nombre = input(\"Nombre producto:\")\n",
    "            print(\"Ingrese la cantidad del producto:\")\n",
    "            cantidad = float(input(\"Cantidad del producto:\"))\n",
    "            ingresarFactura(cliente, nombre, cantidad)\n",
    "            \n",
    "            print(\"\\n¿Qué desea hacer?\")\n",
    "            print(\"1. Ingresar otro producto.\")\n",
    "            print(\"2. Volver\")\n",
    "            opcion2 = int(input(\"Ingrese el número de la acción que desea realizar:\"))\n",
    "            if opcion2 != 1:\n",
    "                break \n",
    "    elif opcion==3:\n",
    "        print()\n",
    "        resumen = resumenVentas()\n",
    "        print()\n",
    "        print(\"Si desea guardar la información vista en formato csv ingrese el nombre del archivo. En caso contrario aprete enter:\")\n",
    "        archivo = input(\"Nombre del archivo csv a crear:\")\n",
    "        if len(archivo) > 0:\n",
    "            if '.' in archivo:\n",
    "                resumen.to_csv(archivo, index=False, header=True)\n",
    "            else:\n",
    "                resumen.to_csv(archivo+'.csv', index=False, header=True)\n",
    "    elif opcion == 4:\n",
    "        while True:\n",
    "            print(\"\\n¿Qué detalles desea ver?\")\n",
    "            print(\"1. Ventas por usuarios.\")\n",
    "            print(\"2. Ventas por productos.\")\n",
    "            print(\"3. Ventas por días.\")\n",
    "            print(\"4. Volver.\")\n",
    "            opcion4 = int(input(\"Ingrese el número de la acción que desea realizar:\"))\n",
    "            if opcion4 == 1:\n",
    "                vista = ventasUsuarios()\n",
    "            elif opcion4 == 2:\n",
    "                vista = ventasProducto()\n",
    "            elif opcion4 == 3:\n",
    "                vista = ventasDiarias()\n",
    "            elif opcion4 == 4:\n",
    "                break\n",
    "            else:\n",
    "                print(\"Valor ingresado no válido, reintentelo.\")\n",
    "\n",
    "            if opcion4 in [1,2,3]:\n",
    "                display(vista)\n",
    "                print(\"Si desea guardar la información vista en formato csv ingrese el nombre del archivo. En caso contrario aprete enter:\")\n",
    "                archivo = input(\"Nombre del archivo csv a crear:\")\n",
    "                if len(archivo) > 0:\n",
    "                    if '.' in archivo:\n",
    "                        vista.to_csv(archivo, index=False, header=True)\n",
    "                    else:\n",
    "                        vista.to_csv(archivo+'.csv', index=False, header=True)\n",
    "    elif opcion == 5:\n",
    "        while True:\n",
    "            print(\"\\n¿Qué archivo desea eliminar?\")\n",
    "            print(\"1. Productos.\")\n",
    "            print(\"2. Facturas\")\n",
    "            print(\"3. Ambas.\")\n",
    "            print(\"4. Volver.\")\n",
    "            opcion5 = int(input(\"Ingrese el número de la acción que desea realizar:\"))\n",
    "            if opcion5==1:\n",
    "                borrar('productos.csv')\n",
    "            elif opcion5==2:\n",
    "                borrar('facturas.csv')\n",
    "            elif opcion5==3:\n",
    "                borrar('productos.csv')\n",
    "                borrar('facturas.csv')\n",
    "            elif opcion5 == 4:\n",
    "                break\n",
    "            else:\n",
    "                print(\"Valor ingresado no válido, reintentelo.\")\n",
    "    elif opcion == 6:\n",
    "        print(\"Proceso terminado.\")\n",
    "        break\n",
    "    else:\n",
    "        print(\"Valor ingresado no válido, reintentelo.\")"
   ]
  }
 ],
 "metadata": {
  "kernelspec": {
   "display_name": "Python 3",
   "language": "python",
   "name": "python3"
  },
  "language_info": {
   "codemirror_mode": {
    "name": "ipython",
    "version": 3
   },
   "file_extension": ".py",
   "mimetype": "text/x-python",
   "name": "python",
   "nbconvert_exporter": "python",
   "pygments_lexer": "ipython3",
   "version": "3.11.8"
  }
 },
 "nbformat": 4,
 "nbformat_minor": 2
}
