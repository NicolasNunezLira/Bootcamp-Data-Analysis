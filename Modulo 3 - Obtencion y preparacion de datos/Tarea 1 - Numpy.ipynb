{
 "cells": [
  {
   "cell_type": "markdown",
   "metadata": {},
   "source": [
    "# Actividad 1 - Módulo 3\n",
    "## Obtención y preparación de datos"
   ]
  },
  {
   "cell_type": "markdown",
   "metadata": {},
   "source": [
    "### Ejercicio 1\n",
    "Crear un vector con valores dentro del rango 10 a 49."
   ]
  },
  {
   "cell_type": "code",
   "execution_count": 1,
   "metadata": {},
   "outputs": [],
   "source": [
    "import numpy as np"
   ]
  },
  {
   "cell_type": "code",
   "execution_count": 33,
   "metadata": {},
   "outputs": [
    {
     "name": "stdout",
     "output_type": "stream",
     "text": [
      "[10 11 12 13 14 15 16 17 18 19 20 21 22 23 24 25 26 27 28 29 30 31 32 33\n",
      " 34 35 36 37 38 39 40 41 42 43 44 45 46 47 48 49]\n"
     ]
    }
   ],
   "source": [
    "vector = np.arange(10,50,1)\n",
    "print(vector)"
   ]
  },
  {
   "cell_type": "markdown",
   "metadata": {},
   "source": [
    "### Ejercicio 2\n",
    "Invertir el vector anterior"
   ]
  },
  {
   "cell_type": "code",
   "execution_count": 34,
   "metadata": {},
   "outputs": [
    {
     "name": "stdout",
     "output_type": "stream",
     "text": [
      "[49 48 47 46 45 44 43 42 41 40 39 38 37 36 35 34 33 32 31 30 29 28 27 26\n",
      " 25 24 23 22 21 20 19 18 17 16 15 14 13 12 11 10]\n"
     ]
    }
   ],
   "source": [
    "vector_inv = vector[-1::-1]\n",
    "print(vector_inv)"
   ]
  },
  {
   "cell_type": "markdown",
   "metadata": {},
   "source": [
    "### Ejercicio 3\n",
    "Crear una matriz con valores de 0 a 8"
   ]
  },
  {
   "cell_type": "code",
   "execution_count": 4,
   "metadata": {},
   "outputs": [
    {
     "name": "stdout",
     "output_type": "stream",
     "text": [
      "[[0 1 2]\n",
      " [3 4 5]\n",
      " [6 7 8]]\n"
     ]
    }
   ],
   "source": [
    "matriz = np.array([[0,1,2],[3,4,5],[6,7,8]])\n",
    "print(matriz)"
   ]
  },
  {
   "cell_type": "markdown",
   "metadata": {},
   "source": [
    "### Ejercicio 4\n",
    "Encontrar los índices que no son 0 en el arreglo [1,2,4,2,4,0,1,0,0,0,12,4,5,6,7,0]"
   ]
  },
  {
   "cell_type": "code",
   "execution_count": 5,
   "metadata": {},
   "outputs": [
    {
     "name": "stdout",
     "output_type": "stream",
     "text": [
      "Los indices de los valores que no son ceros en el vector son [ 0  1  2  3  4  6 10 11 12 13 14]\n"
     ]
    }
   ],
   "source": [
    "vector = np.array([1,2,4,2,4,0,1,0,0,0,12,4,5,6,7,0])\n",
    "nonzeros = np.arange(len(vector))[vector>0]\n",
    "print(f\"Los indices de los valores que no son ceros en el vector son {nonzeros}\")"
   ]
  },
  {
   "cell_type": "markdown",
   "metadata": {},
   "source": [
    "### Ejercicio 5\n",
    "Crear una matriz identidad de 6x6\n"
   ]
  },
  {
   "cell_type": "code",
   "execution_count": 6,
   "metadata": {},
   "outputs": [
    {
     "name": "stdout",
     "output_type": "stream",
     "text": [
      "[[1. 0. 0. 0. 0. 0.]\n",
      " [0. 1. 0. 0. 0. 0.]\n",
      " [0. 0. 1. 0. 0. 0.]\n",
      " [0. 0. 0. 1. 0. 0.]\n",
      " [0. 0. 0. 0. 1. 0.]\n",
      " [0. 0. 0. 0. 0. 1.]]\n"
     ]
    }
   ],
   "source": [
    "id = np.eye(6)\n",
    "print(id)"
   ]
  },
  {
   "cell_type": "markdown",
   "metadata": {},
   "source": [
    "### Ejercicio 6\n",
    "Crear una matriz con valores al azar con forma 3x3x3"
   ]
  },
  {
   "cell_type": "code",
   "execution_count": 7,
   "metadata": {},
   "outputs": [
    {
     "name": "stdout",
     "output_type": "stream",
     "text": [
      "[[[0.68923072 0.32643278 0.03871314]\n",
      "  [0.57619037 0.07180832 0.22560716]\n",
      "  [0.99479136 0.27508012 0.17642685]]\n",
      "\n",
      " [[0.67184353 0.59680121 0.24112655]\n",
      "  [0.43555346 0.92442303 0.91569422]\n",
      "  [0.33079487 0.08775491 0.8568204 ]]\n",
      "\n",
      " [[0.31772883 0.13677495 0.0999311 ]\n",
      "  [0.83844047 0.31177866 0.60718112]\n",
      "  [0.15746789 0.92628804 0.88832888]]]\n"
     ]
    }
   ],
   "source": [
    "hypermatrix = np.random.rand(3,3,3)\n",
    "print(hypermatrix)"
   ]
  },
  {
   "cell_type": "markdown",
   "metadata": {},
   "source": [
    "### Ejercicio 7\n",
    "Crea un arreglo NumPy de tamaño 5x5 lleno de ceros."
   ]
  },
  {
   "cell_type": "code",
   "execution_count": 8,
   "metadata": {},
   "outputs": [
    {
     "name": "stdout",
     "output_type": "stream",
     "text": [
      "[[0. 0. 0. 0. 0.]\n",
      " [0. 0. 0. 0. 0.]\n",
      " [0. 0. 0. 0. 0.]\n",
      " [0. 0. 0. 0. 0.]\n",
      " [0. 0. 0. 0. 0.]]\n"
     ]
    }
   ],
   "source": [
    "ceros = np.zeros((5,5))\n",
    "print(ceros)"
   ]
  },
  {
   "cell_type": "markdown",
   "metadata": {},
   "source": [
    "### Ejercicio 8\n",
    "Crea un arreglo NumPy de tamaño 3x3 lleno de unos."
   ]
  },
  {
   "cell_type": "code",
   "execution_count": 9,
   "metadata": {},
   "outputs": [
    {
     "name": "stdout",
     "output_type": "stream",
     "text": [
      "[[1. 1. 1.]\n",
      " [1. 1. 1.]\n",
      " [1. 1. 1.]]\n"
     ]
    }
   ],
   "source": [
    "unos = np.ones((3,3))\n",
    "print(unos)"
   ]
  },
  {
   "cell_type": "markdown",
   "metadata": {},
   "source": [
    "### Ejercicio 9\n",
    "Crea dos arreglos NumPy de tamaño 2x2 con valores aleatorios. Realiza\n",
    "la suma, resta, multiplicación y división de los arreglos creados."
   ]
  },
  {
   "cell_type": "code",
   "execution_count": 40,
   "metadata": {},
   "outputs": [
    {
     "name": "stdout",
     "output_type": "stream",
     "text": [
      "Suma: [[ 86  79]\n",
      " [156  95]]\n",
      "\n",
      "Resta: [[-60 -43]\n",
      " [-22  53]]\n",
      "\n",
      "Multiplicación: [[ 949 1098]\n",
      " [5963 1554]]\n",
      "\n",
      "División: [[0.17808219 0.29508197]\n",
      " [0.75280899 3.52380952]]\n"
     ]
    }
   ],
   "source": [
    "# Creación de vectores aleatorios(de enteros para facilitar lectura)\n",
    "ran1 = np.random.randint(1,100, size = (2,2))\n",
    "ran2 = np.random.randint(1,100, size = (2,2))\n",
    "\n",
    "# Operaciones pedidas\n",
    "print(f\"Suma: {ran1 + ran2}\\n\")\n",
    "print(f\"Resta: {ran1 - ran2}\\n\")\n",
    "print(f\"Multiplicación: {ran1 * ran2}\\n\")\n",
    "print(f\"División: {ran1 / ran2}\")"
   ]
  },
  {
   "cell_type": "markdown",
   "metadata": {},
   "source": [
    "### Ejercicio 10\n",
    "Crea un vector con valores entre 0 y 10, con intervalos de 0.5."
   ]
  },
  {
   "cell_type": "code",
   "execution_count": 39,
   "metadata": {},
   "outputs": [
    {
     "name": "stdout",
     "output_type": "stream",
     "text": [
      "[ 0.   0.5  1.   1.5  2.   2.5  3.   3.5  4.   4.5  5.   5.5  6.   6.5\n",
      "  7.   7.5  8.   8.5  9.   9.5 10. ]\n"
     ]
    }
   ],
   "source": [
    "vec = np.arange(0,10.1,.5)\n",
    "print(vec)"
   ]
  },
  {
   "cell_type": "markdown",
   "metadata": {},
   "source": [
    "### Ejercicio 11\n",
    "Genera una matriz de tamaño 5x5 con valores aleatorios enteros\n",
    "entre 1 y 100."
   ]
  },
  {
   "cell_type": "code",
   "execution_count": 12,
   "metadata": {},
   "outputs": [
    {
     "name": "stdout",
     "output_type": "stream",
     "text": [
      "[[ 59  99  33  42  39]\n",
      " [  2   6  39  41  31]\n",
      " [ 39  42  51  90  35]\n",
      " [ 13  20  49  54  44]\n",
      " [ 59  46   7 100  45]]\n"
     ]
    }
   ],
   "source": [
    "rand_mat = np.random.randint(1, 101, size=(5,5))\n",
    "print(rand_mat)"
   ]
  },
  {
   "cell_type": "markdown",
   "metadata": {},
   "source": [
    "### Ejercicio 12\n",
    "Crea un arreglo NumPy unidimensional de 10 elementos."
   ]
  },
  {
   "cell_type": "code",
   "execution_count": 41,
   "metadata": {},
   "outputs": [
    {
     "name": "stdout",
     "output_type": "stream",
     "text": [
      "[0 1 2 3 4 5 6 7 8 9]\n"
     ]
    }
   ],
   "source": [
    "vec = np.array(range(10))\n",
    "print(vec)"
   ]
  },
  {
   "cell_type": "markdown",
   "metadata": {},
   "source": [
    "### Ejercicio 13\n",
    "Imprime el primer elemento del arreglo anterior."
   ]
  },
  {
   "cell_type": "code",
   "execution_count": 42,
   "metadata": {},
   "outputs": [
    {
     "name": "stdout",
     "output_type": "stream",
     "text": [
      "0\n"
     ]
    }
   ],
   "source": [
    "print(vec[0])"
   ]
  },
  {
   "cell_type": "markdown",
   "metadata": {},
   "source": [
    "### Ejercicio 14\n",
    "Imprime los últimos 3 elementos del arreglo anterior."
   ]
  },
  {
   "cell_type": "code",
   "execution_count": 46,
   "metadata": {},
   "outputs": [
    {
     "name": "stdout",
     "output_type": "stream",
     "text": [
      "[7 8 9]\n"
     ]
    }
   ],
   "source": [
    "print(vec[7:])"
   ]
  },
  {
   "cell_type": "markdown",
   "metadata": {},
   "source": [
    "### Ejercicio 15\n",
    "Imprime los elementos del índice 3 al 7 anterior."
   ]
  },
  {
   "cell_type": "code",
   "execution_count": 47,
   "metadata": {},
   "outputs": [
    {
     "name": "stdout",
     "output_type": "stream",
     "text": [
      "[2 3 4 5 6]\n"
     ]
    }
   ],
   "source": [
    "print(vec[2:7])"
   ]
  },
  {
   "cell_type": "markdown",
   "metadata": {},
   "source": [
    "### Ejercicio 16\n",
    "Cambia el valor del índice 5 por 20 en el arreglo anterior."
   ]
  },
  {
   "cell_type": "code",
   "execution_count": 17,
   "metadata": {},
   "outputs": [
    {
     "name": "stdout",
     "output_type": "stream",
     "text": [
      "[ 0  1  2  3 20  5  6  7  8  9]\n"
     ]
    }
   ],
   "source": [
    "vec[4] = 20\n",
    "print(vec)"
   ]
  },
  {
   "cell_type": "markdown",
   "metadata": {},
   "source": [
    "### Ejercicio 17\n",
    "Crea un arreglo NumPy con números del 1 al 10."
   ]
  },
  {
   "cell_type": "code",
   "execution_count": 18,
   "metadata": {},
   "outputs": [
    {
     "name": "stdout",
     "output_type": "stream",
     "text": [
      "[ 1  2  3  4  5  6  7  8  9 10]\n"
     ]
    }
   ],
   "source": [
    "arreglo = np.arange(1,11)\n",
    "print(arreglo)"
   ]
  },
  {
   "cell_type": "markdown",
   "metadata": {},
   "source": [
    "### Ejercicio 18\n",
    "Calcula la suma, el promedio, la desviación estándar y el máximo\n",
    "valor del arreglo del ejercicio anterior."
   ]
  },
  {
   "cell_type": "code",
   "execution_count": 19,
   "metadata": {},
   "outputs": [
    {
     "name": "stdout",
     "output_type": "stream",
     "text": [
      "La suma del arreglo es 55.\n",
      "El promedio del arreglo es 5.5\n",
      "La desviación estándar del arreglo es 2.8722813232690143\n",
      "El máximo del arreglo es 10\n"
     ]
    }
   ],
   "source": [
    "# Suma\n",
    "suma = np.sum(arreglo)\n",
    "print(f\"La suma del arreglo es {suma}.\")\n",
    "\n",
    "# Promedio\n",
    "avg = np.mean(arreglo)\n",
    "print(f\"El promedio del arreglo es {avg}\")\n",
    "\n",
    "# Desviación estandar\n",
    "d_e = np.std(arreglo)\n",
    "print(f\"La desviación estándar del arreglo es {d_e}\")\n",
    "\n",
    "# Máximo\n",
    "M = np.max(arreglo)\n",
    "print(f\"El máximo del arreglo es {M}\")"
   ]
  },
  {
   "cell_type": "markdown",
   "metadata": {},
   "source": [
    "### Ejercicio 19\n",
    "Crear un arreglo con elementos del 1 al 10 y seleccionar solo los pares."
   ]
  },
  {
   "cell_type": "code",
   "execution_count": 48,
   "metadata": {},
   "outputs": [
    {
     "name": "stdout",
     "output_type": "stream",
     "text": [
      "Los números pares del arreglo son [ 2  4  6  8 10]\n"
     ]
    }
   ],
   "source": [
    "arreglo = np.array(range(1,11))\n",
    "pares = arreglo[arreglo%2 == 0]\n",
    "print(f\"Los números pares del arreglo son {pares}\")"
   ]
  },
  {
   "cell_type": "markdown",
   "metadata": {},
   "source": [
    "### Ejercicio 20\n",
    "Calcula la suma, la media, el máximo y el mínimo de los valores de\n",
    "seno, coseno y tangente para un conjunto de ángulos en grados dados por [0, 30, 45, 60, 90]."
   ]
  },
  {
   "cell_type": "code",
   "execution_count": 59,
   "metadata": {},
   "outputs": [
    {
     "name": "stdout",
     "output_type": "stream",
     "text": [
      "Seno---------------------------\n",
      "La suma del Seno del arreglo es 3.0731321849709863.\n",
      "La media del Seno del arreglo es 0.7071067811865476.\n",
      "La máximo del Seno del arreglo es 1.0.\n",
      "La mínimo del Seno del arreglo es 0.0.\n",
      "\n",
      "Coseno---------------------------\n",
      "La suma del Coseno del arreglo es 3.0731321849709863.\n",
      "La media del Coseno del arreglo es 0.7071067811865476.\n",
      "La máximo del Coseno del arreglo es 1.0.\n",
      "La mínimo del Coseno del arreglo es 6.123233995736766e-17.\n",
      "\n",
      "Tangente---------------------------\n",
      "La suma del Tangente del arreglo es 1.6331239353195374e+16.\n",
      "La media del Tangente del arreglo es 0.9999999999999999.\n",
      "La máximo del Tangente del arreglo es 1.633123935319537e+16.\n",
      "La mínimo del Tangente del arreglo es 0.0.\n",
      "\n"
     ]
    }
   ],
   "source": [
    "arreglo = np.radians([0, 30, 45, 60, 90])\n",
    "\n",
    "# Funciones del arreglo\n",
    "func = {\"Seno\": \"\",\"Coseno\": \"\",\"Tangente\":\"\"}\n",
    "func[\"Seno\"] = np.sin(arreglo)\n",
    "func[\"Coseno\"] = np.cos(arreglo)\n",
    "func[\"Tangente\"] = np.tan(arreglo)\n",
    "\n",
    "# Despliegue de valores por lista\n",
    "for funcion, vec in func.items():\n",
    "    print(f\"{funcion}---------------------------\")\n",
    "    print(f\"La suma del {funcion} del arreglo es {np.sum(vec)}.\")\n",
    "    print(f\"La media del {funcion} del arreglo es {np.median(vec)}.\")\n",
    "    print(f\"La máximo del {funcion} del arreglo es {np.max(vec)}.\")\n",
    "    print(f\"La mínimo del {funcion} del arreglo es {np.min(vec)}.\\n\")\n"
   ]
  },
  {
   "cell_type": "markdown",
   "metadata": {},
   "source": [
    "### Ejercicio 21\n",
    "Crea un arreglo NumPy de tamaño 4x4 con valores del 1 al 16."
   ]
  },
  {
   "cell_type": "code",
   "execution_count": 22,
   "metadata": {},
   "outputs": [
    {
     "name": "stdout",
     "output_type": "stream",
     "text": [
      "[[ 1  2  3  4]\n",
      " [ 5  6  7  8]\n",
      " [ 9 10 11 12]\n",
      " [13 14 15 16]]\n"
     ]
    }
   ],
   "source": [
    "arr = np.arange(1,17).reshape(4,4)\n",
    "print(arr)"
   ]
  },
  {
   "cell_type": "markdown",
   "metadata": {},
   "source": [
    "### Ejercicio 22\n",
    "Convierte el arreglo anterior en una matriz de 2x8."
   ]
  },
  {
   "cell_type": "code",
   "execution_count": 23,
   "metadata": {},
   "outputs": [
    {
     "name": "stdout",
     "output_type": "stream",
     "text": [
      "[[ 1  2  3  4  5  6  7  8]\n",
      " [ 9 10 11 12 13 14 15 16]]\n"
     ]
    }
   ],
   "source": [
    "arr = arr.reshape(2,8)\n",
    "print(arr)"
   ]
  },
  {
   "cell_type": "markdown",
   "metadata": {},
   "source": [
    "### Ejercicio 23\n",
    "Obtén la transpuesta de la matriz anterior."
   ]
  },
  {
   "cell_type": "code",
   "execution_count": 24,
   "metadata": {},
   "outputs": [
    {
     "name": "stdout",
     "output_type": "stream",
     "text": [
      "[[ 1  9]\n",
      " [ 2 10]\n",
      " [ 3 11]\n",
      " [ 4 12]\n",
      " [ 5 13]\n",
      " [ 6 14]\n",
      " [ 7 15]\n",
      " [ 8 16]]\n"
     ]
    }
   ],
   "source": [
    "arrT = arr.T\n",
    "print(arrT)"
   ]
  },
  {
   "cell_type": "markdown",
   "metadata": {},
   "source": [
    "### Ejercicio 24\n",
    "Redimensiona la matriz anterior a una de 2x2x4."
   ]
  },
  {
   "cell_type": "code",
   "execution_count": 25,
   "metadata": {},
   "outputs": [
    {
     "name": "stdout",
     "output_type": "stream",
     "text": [
      "[[[ 1  9  2 10]\n",
      "  [ 3 11  4 12]]\n",
      "\n",
      " [[ 5 13  6 14]\n",
      "  [ 7 15  8 16]]]\n"
     ]
    }
   ],
   "source": [
    "hyp_arr = arrT.reshape(2,2,4)\n",
    "print(hyp_arr)"
   ]
  },
  {
   "cell_type": "markdown",
   "metadata": {},
   "source": [
    "### Ejercicio 25 - **Máquina de monedas**\n",
    "Para despachar dinero en efectivo con una máquina automática realice lo\n",
    "siguiente:\n",
    "\n",
    "1. Escriba una función separanum(valor), que reciba un valor numérico real y\n",
    "separe las cantidades en un vector que contiene:\n",
    "centavos, unidades, decenas, centenas, etc. Los centavos equivalen a usar\n",
    "dos decimales redondeado al entero más cercano.\n",
    "Desarrolle el algoritmo usando operaciones de cociente y residuo (no use\n",
    "round())."
   ]
  },
  {
   "cell_type": "code",
   "execution_count": 60,
   "metadata": {},
   "outputs": [],
   "source": [
    "import pandas as pd"
   ]
  },
  {
   "cell_type": "code",
   "execution_count": 27,
   "metadata": {},
   "outputs": [],
   "source": [
    "# Parte 1\n",
    "def separanum(valor):\n",
    "    # Extraer decimales\n",
    "    valor = str(valor).split(\".\")\n",
    "    ent = int(valor[0])\n",
    "    dec = valor[1]\n",
    "    if len(dec)>2:\n",
    "        if int(dec[2])<5:\n",
    "            cantidades = [int(dec[0:2])]\n",
    "        else:\n",
    "            cantidades = [int(dec[0:2]) + 1]\n",
    "    else:\n",
    "        cantidades = int(dec)\n",
    "    # Separar parte entera de valor\n",
    "    while ent !=0:\n",
    "        ent, res = divmod(ent,10)\n",
    "        cantidades.append(res)\n",
    "    # Despliegue grafico solo si valor < 1000\n",
    "    if len(cantidades)>4:\n",
    "        return cantidades\n",
    "    else:\n",
    "        label = [\"Centavos\", \"Unidades\", \"Decenas\", \"Centenas\"]\n",
    "        dict = {}\n",
    "        for i, num in enumerate(cantidades):\n",
    "            dict[label[i]] = [num]\n",
    "        return pd.DataFrame(dict)\n"
   ]
  },
  {
   "cell_type": "code",
   "execution_count": 28,
   "metadata": {},
   "outputs": [
    {
     "name": "stdout",
     "output_type": "stream",
     "text": [
      "[16, 0, 0, 0, 1]\n"
     ]
    },
    {
     "data": {
      "text/html": [
       "<div>\n",
       "<style scoped>\n",
       "    .dataframe tbody tr th:only-of-type {\n",
       "        vertical-align: middle;\n",
       "    }\n",
       "\n",
       "    .dataframe tbody tr th {\n",
       "        vertical-align: top;\n",
       "    }\n",
       "\n",
       "    .dataframe thead th {\n",
       "        text-align: right;\n",
       "    }\n",
       "</style>\n",
       "<table border=\"1\" class=\"dataframe\">\n",
       "  <thead>\n",
       "    <tr style=\"text-align: right;\">\n",
       "      <th></th>\n",
       "      <th>Centavos</th>\n",
       "      <th>Unidades</th>\n",
       "    </tr>\n",
       "  </thead>\n",
       "  <tbody>\n",
       "    <tr>\n",
       "      <th>0</th>\n",
       "      <td>14</td>\n",
       "      <td>3</td>\n",
       "    </tr>\n",
       "  </tbody>\n",
       "</table>\n",
       "</div>"
      ],
      "text/plain": [
       "   Centavos  Unidades\n",
       "0        14         3"
      ]
     },
     "execution_count": 28,
     "metadata": {},
     "output_type": "execute_result"
    }
   ],
   "source": [
    "# Test de la funcion separanum\n",
    "# Número mayor a 1000\n",
    "print(separanum(1000.155))\n",
    "# Número menor a 1000\n",
    "separanum(3.1415)"
   ]
  },
  {
   "cell_type": "markdown",
   "metadata": {},
   "source": [
    "2. Realice una función cuantas monedas(centavos) que reciba la\n",
    "cantidad de centavos a entregar con monedas de 1, 5, 10, 25, 50\n",
    "centavos usado la menor cantidad de monedas."
   ]
  },
  {
   "cell_type": "code",
   "execution_count": 29,
   "metadata": {},
   "outputs": [],
   "source": [
    "# Parte 2\n",
    "def cuenta_monedas(centavos):\n",
    "    valores = [\"50\", \"25\", \"10\", \"5\", \"1\"]\n",
    "    monedas = {}\n",
    "    for i in valores:\n",
    "        cant, centavos = divmod(centavos, int(i))\n",
    "        monedas[i] = [cant]\n",
    "    return pd.DataFrame(monedas)"
   ]
  },
  {
   "cell_type": "code",
   "execution_count": 30,
   "metadata": {},
   "outputs": [
    {
     "name": "stdout",
     "output_type": "stream",
     "text": [
      "Las monedas optimas para entregar 99 está dada por:\n"
     ]
    },
    {
     "data": {
      "text/html": [
       "<div>\n",
       "<style scoped>\n",
       "    .dataframe tbody tr th:only-of-type {\n",
       "        vertical-align: middle;\n",
       "    }\n",
       "\n",
       "    .dataframe tbody tr th {\n",
       "        vertical-align: top;\n",
       "    }\n",
       "\n",
       "    .dataframe thead th {\n",
       "        text-align: right;\n",
       "    }\n",
       "</style>\n",
       "<table border=\"1\" class=\"dataframe\">\n",
       "  <thead>\n",
       "    <tr style=\"text-align: right;\">\n",
       "      <th></th>\n",
       "      <th>50</th>\n",
       "      <th>25</th>\n",
       "      <th>10</th>\n",
       "      <th>5</th>\n",
       "      <th>1</th>\n",
       "    </tr>\n",
       "  </thead>\n",
       "  <tbody>\n",
       "    <tr>\n",
       "      <th>0</th>\n",
       "      <td>1</td>\n",
       "      <td>1</td>\n",
       "      <td>2</td>\n",
       "      <td>0</td>\n",
       "      <td>4</td>\n",
       "    </tr>\n",
       "  </tbody>\n",
       "</table>\n",
       "</div>"
      ],
      "text/plain": [
       "   50  25  10  5  1\n",
       "0   1   1   2  0  4"
      ]
     },
     "execution_count": 30,
     "metadata": {},
     "output_type": "execute_result"
    }
   ],
   "source": [
    "# Test de la funcion cuenta_monedas\n",
    "centavos = 99\n",
    "print(f\"Las monedas optimas para entregar {centavos} está dada por:\")\n",
    "cuenta_monedas(99)"
   ]
  },
  {
   "cell_type": "markdown",
   "metadata": {},
   "source": [
    "### Ejercicio 26 - **Creación de un calendario**\n",
    "Realice un programa que permita crear un calendario de un mes cualquiera,\n",
    "conociendo el día de la semana que inicia el mes y el número de días que\n",
    "tiene el mes."
   ]
  },
  {
   "cell_type": "code",
   "execution_count": 31,
   "metadata": {},
   "outputs": [],
   "source": [
    "def calendario(inicio, dias):\n",
    "    import numpy as np\n",
    "    import pandas as pd\n",
    "\n",
    "    nombres = (\"D\", \"L\", \"M\", \"X\", \"J\", \"V\", \"S\")\n",
    "    semanas = [np.zeros(7)]\n",
    "    semanas[0][inicio-1:] = np.arange(1,(8-inicio+1))\n",
    "\n",
    "    dias_rest = dias - semanas[0][-1]\n",
    "    semana = 0\n",
    "    row = [\"Semana \" + str(semana+1)]\n",
    "\n",
    "    while dias_rest >=7:\n",
    "        semanas.append(np.arange(semanas[semana][-1] + 1, semanas[semana][-1] + 8))\n",
    "        dias_rest = dias - semanas[semana+1][-1]\n",
    "        semana += 1\n",
    "        row.append(\"Semana \" + str(semana+1))\n",
    "\n",
    "\n",
    "    if dias_rest != 0:\n",
    "        semanas.append(np.zeros(7))\n",
    "        semanas[semana+1][:int(dias_rest)] = np.arange(semanas[semana][-1] + 1, dias + 1)\n",
    "        row.append(\"Semana \" + str(semana+2))\n",
    "\n",
    "    return pd.DataFrame(np.array(semanas), columns=nombres, index=row, dtype = int)"
   ]
  },
  {
   "cell_type": "code",
   "execution_count": 32,
   "metadata": {},
   "outputs": [
    {
     "name": "stdout",
     "output_type": "stream",
     "text": [
      "El calendario del presente mes de febrero queda dado por:\n"
     ]
    },
    {
     "data": {
      "text/html": [
       "<div>\n",
       "<style scoped>\n",
       "    .dataframe tbody tr th:only-of-type {\n",
       "        vertical-align: middle;\n",
       "    }\n",
       "\n",
       "    .dataframe tbody tr th {\n",
       "        vertical-align: top;\n",
       "    }\n",
       "\n",
       "    .dataframe thead th {\n",
       "        text-align: right;\n",
       "    }\n",
       "</style>\n",
       "<table border=\"1\" class=\"dataframe\">\n",
       "  <thead>\n",
       "    <tr style=\"text-align: right;\">\n",
       "      <th></th>\n",
       "      <th>D</th>\n",
       "      <th>L</th>\n",
       "      <th>M</th>\n",
       "      <th>X</th>\n",
       "      <th>J</th>\n",
       "      <th>V</th>\n",
       "      <th>S</th>\n",
       "    </tr>\n",
       "  </thead>\n",
       "  <tbody>\n",
       "    <tr>\n",
       "      <th>Semana 1</th>\n",
       "      <td>0</td>\n",
       "      <td>0</td>\n",
       "      <td>0</td>\n",
       "      <td>0</td>\n",
       "      <td>1</td>\n",
       "      <td>2</td>\n",
       "      <td>3</td>\n",
       "    </tr>\n",
       "    <tr>\n",
       "      <th>Semana 2</th>\n",
       "      <td>4</td>\n",
       "      <td>5</td>\n",
       "      <td>6</td>\n",
       "      <td>7</td>\n",
       "      <td>8</td>\n",
       "      <td>9</td>\n",
       "      <td>10</td>\n",
       "    </tr>\n",
       "    <tr>\n",
       "      <th>Semana 3</th>\n",
       "      <td>11</td>\n",
       "      <td>12</td>\n",
       "      <td>13</td>\n",
       "      <td>14</td>\n",
       "      <td>15</td>\n",
       "      <td>16</td>\n",
       "      <td>17</td>\n",
       "    </tr>\n",
       "    <tr>\n",
       "      <th>Semana 4</th>\n",
       "      <td>18</td>\n",
       "      <td>19</td>\n",
       "      <td>20</td>\n",
       "      <td>21</td>\n",
       "      <td>22</td>\n",
       "      <td>23</td>\n",
       "      <td>24</td>\n",
       "    </tr>\n",
       "    <tr>\n",
       "      <th>Semana 5</th>\n",
       "      <td>25</td>\n",
       "      <td>26</td>\n",
       "      <td>27</td>\n",
       "      <td>28</td>\n",
       "      <td>29</td>\n",
       "      <td>0</td>\n",
       "      <td>0</td>\n",
       "    </tr>\n",
       "  </tbody>\n",
       "</table>\n",
       "</div>"
      ],
      "text/plain": [
       "           D   L   M   X   J   V   S\n",
       "Semana 1   0   0   0   0   1   2   3\n",
       "Semana 2   4   5   6   7   8   9  10\n",
       "Semana 3  11  12  13  14  15  16  17\n",
       "Semana 4  18  19  20  21  22  23  24\n",
       "Semana 5  25  26  27  28  29   0   0"
      ]
     },
     "execution_count": 32,
     "metadata": {},
     "output_type": "execute_result"
    }
   ],
   "source": [
    "# Test función anterior\n",
    "print(\"El calendario del presente mes de febrero queda dado por:\")\n",
    "calendario(5,29)"
   ]
  }
 ],
 "metadata": {
  "kernelspec": {
   "display_name": "Python 3",
   "language": "python",
   "name": "python3"
  },
  "language_info": {
   "codemirror_mode": {
    "name": "ipython",
    "version": 3
   },
   "file_extension": ".py",
   "mimetype": "text/x-python",
   "name": "python",
   "nbconvert_exporter": "python",
   "pygments_lexer": "ipython3",
   "version": "3.11.8"
  }
 },
 "nbformat": 4,
 "nbformat_minor": 2
}
