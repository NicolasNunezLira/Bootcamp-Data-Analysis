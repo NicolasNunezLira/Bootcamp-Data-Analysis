{
 "cells": [
  {
   "cell_type": "markdown",
   "metadata": {},
   "source": [
    "# Actividad 3 - Módulo 3 \n",
    "### OBTENCIÓN DE DATOS DESDE ARCHIVOS"
   ]
  },
  {
   "cell_type": "markdown",
   "metadata": {},
   "source": [
    "**Observación**: En mi caso los archivos estaban dentro de carpetas con los nombres de los archivos comprimidos (para orden personal). Por esto se deja las variables *path_super* y *path_games* para la ruta a conveniencia."
   ]
  },
  {
   "cell_type": "code",
   "execution_count": 262,
   "metadata": {},
   "outputs": [],
   "source": [
    "## Ruta archivos ejercicio 1\n",
    "path_super = 'ARCHIVOS SUPERMERCADOS AE3/'\n",
    "# path_super = ''\n",
    "\n",
    "## Ruta archivos ejercicio 2 y 3\n",
    "path_games = 'ARCHIVOS VIDEOJUEGOS/'\n",
    "# path_games = ''"
   ]
  },
  {
   "cell_type": "markdown",
   "metadata": {},
   "source": [
    "### Ejercicio 1\n",
    "En esta oportunidad vamos a utilizar los datos que ocupamos en el\n",
    "módulo 1, nuestros datos de compra en supermercado.\n"
   ]
  },
  {
   "cell_type": "markdown",
   "metadata": {},
   "source": [
    "1. Junto a este archivo, se encuentran los archivos csv para clientes, productos, boletas y detalle. Cargue, los datos de los\n",
    "archivos en sus respectivas variables."
   ]
  },
  {
   "cell_type": "code",
   "execution_count": 263,
   "metadata": {},
   "outputs": [],
   "source": [
    "import pandas as pd\n",
    "\n",
    "# Lectura de archivos\n",
    "clientes = pd.read_csv(path_super+'clientes.csv', index_col=0, encoding='latin-1').drop_duplicates()\n",
    "productos = pd.read_csv(path_super+'productos.csv', index_col=0, encoding='latin-1').drop_duplicates()\n",
    "boletas = pd.read_csv(path_super+'boletas.csv', index_col=0, encoding='latin-1').drop_duplicates()\n",
    "detalle = pd.read_csv(path_super+'detalle.csv', index_col=0, encoding='latin-1').drop_duplicates()"
   ]
  },
  {
   "cell_type": "markdown",
   "metadata": {},
   "source": [
    "2. Ahora que tenemos los datos, podemos trabajar con ellos. Lo\n",
    "primero que haremos será calcular las edades. Para esto,\n",
    "agregue una nueva columna a los datos de los clientes, que\n",
    "calcule la edad a partir de su fecha de nacimiento."
   ]
  },
  {
   "cell_type": "code",
   "execution_count": 264,
   "metadata": {},
   "outputs": [],
   "source": [
    "from numpy import nan\n",
    "\n",
    "edades = []\n",
    "for fecha in clientes[\"fecha_nacimiento\"]:\n",
    "    if isinstance(fecha, str):\n",
    "        edades.append(2024-int(fecha[0:4]))\n",
    "    else:\n",
    "        edades.append(nan)\n",
    "clientes[\"edad\"] = edades"
   ]
  },
  {
   "cell_type": "markdown",
   "metadata": {},
   "source": [
    "3. Calcular el promedio de edad."
   ]
  },
  {
   "cell_type": "code",
   "execution_count": 265,
   "metadata": {},
   "outputs": [
    {
     "name": "stdout",
     "output_type": "stream",
     "text": [
      "El promedio de la edad de los clientes es 27.875.\n"
     ]
    }
   ],
   "source": [
    "print(f\"El promedio de la edad de los clientes es {clientes['edad'].mean(skipna=True)}.\")"
   ]
  },
  {
   "cell_type": "markdown",
   "metadata": {},
   "source": [
    "4. ¿Cuál es el cliente con la edad mayor?"
   ]
  },
  {
   "cell_type": "code",
   "execution_count": 266,
   "metadata": {},
   "outputs": [
    {
     "name": "stdout",
     "output_type": "stream",
     "text": [
      "La máxima edad de los clientes es 39.\n"
     ]
    }
   ],
   "source": [
    "print(f\"La máxima edad de los clientes es {clientes['edad'].max():.0f}.\")"
   ]
  },
  {
   "cell_type": "markdown",
   "metadata": {},
   "source": [
    "5. ¿Cuál es el menor?"
   ]
  },
  {
   "cell_type": "code",
   "execution_count": 267,
   "metadata": {},
   "outputs": [
    {
     "name": "stdout",
     "output_type": "stream",
     "text": [
      "La mínima edad de los clientes es 19.\n"
     ]
    }
   ],
   "source": [
    "print(f\"La mínima edad de los clientes es {clientes['edad'].min():.0f}.\")"
   ]
  },
  {
   "cell_type": "markdown",
   "metadata": {},
   "source": [
    "6. Buscar cuantas boletas tiene cada cliente, fusionar clientes con\n",
    "boletas a través del rut."
   ]
  },
  {
   "cell_type": "code",
   "execution_count": 268,
   "metadata": {},
   "outputs": [
    {
     "name": "stdout",
     "output_type": "stream",
     "text": [
      "Cantidad de boletas por usuarios:\n",
      "\n"
     ]
    },
    {
     "data": {
      "text/plain": [
       "nombre\n",
       "Laura Rojas          2\n",
       "Mateo Diaz           2\n",
       "Valentina Herrera    2\n",
       "Martin Gómez         2\n",
       "Sofía Pérez          2\n",
       "Juan Perez           1\n",
       "Pedro Rodríguez      1\n",
       "Carla González       1\n",
       "Diego Martínez       1\n",
       "Ana Lopez            1\n",
       "Luisa Fernández      1\n",
       "Javier Torres        1\n",
       "Maria Sánchez        1\n",
       "Marta Ramírez        1\n",
       "Daniel Silva         1\n",
       "Name: count, dtype: int64"
      ]
     },
     "execution_count": 268,
     "metadata": {},
     "output_type": "execute_result"
    }
   ],
   "source": [
    "# Unimos los Data frames clientes y boletas a traves del rut\n",
    "merged = pd.merge(clientes, boletas.reset_index(), left_index= True, right_on=\"rut_cliente\", how = \"inner\")\n",
    "\n",
    "# Contamos cuantas boletas hay asociado a cada usuario\n",
    "print(\"Cantidad de boletas por usuarios:\\n\")\n",
    "merged['nombre'].value_counts()"
   ]
  },
  {
   "cell_type": "markdown",
   "metadata": {},
   "source": [
    "7. Ahora, queremos hacer algo parecido con los productos.\n",
    "Calcular cuánto se ha vendido (en dinero) de cada producto."
   ]
  },
  {
   "cell_type": "code",
   "execution_count": 269,
   "metadata": {},
   "outputs": [
    {
     "name": "stdout",
     "output_type": "stream",
     "text": [
      "Las ventas totales por producto son:\n"
     ]
    },
    {
     "data": {
      "text/html": [
       "<div>\n",
       "<style scoped>\n",
       "    .dataframe tbody tr th:only-of-type {\n",
       "        vertical-align: middle;\n",
       "    }\n",
       "\n",
       "    .dataframe tbody tr th {\n",
       "        vertical-align: top;\n",
       "    }\n",
       "\n",
       "    .dataframe thead th {\n",
       "        text-align: right;\n",
       "    }\n",
       "</style>\n",
       "<table border=\"1\" class=\"dataframe\">\n",
       "  <thead>\n",
       "    <tr style=\"text-align: right;\">\n",
       "      <th></th>\n",
       "      <th>nombre</th>\n",
       "      <th>Subtotal</th>\n",
       "    </tr>\n",
       "  </thead>\n",
       "  <tbody>\n",
       "    <tr>\n",
       "      <th>0</th>\n",
       "      <td>Aceite de cocina</td>\n",
       "      <td>198000</td>\n",
       "    </tr>\n",
       "    <tr>\n",
       "      <th>1</th>\n",
       "      <td>Agua mineral</td>\n",
       "      <td>3600</td>\n",
       "    </tr>\n",
       "    <tr>\n",
       "      <th>2</th>\n",
       "      <td>Arroz</td>\n",
       "      <td>27000</td>\n",
       "    </tr>\n",
       "    <tr>\n",
       "      <th>3</th>\n",
       "      <td>Azúcar</td>\n",
       "      <td>30000</td>\n",
       "    </tr>\n",
       "    <tr>\n",
       "      <th>4</th>\n",
       "      <td>Café</td>\n",
       "      <td>65000</td>\n",
       "    </tr>\n",
       "    <tr>\n",
       "      <th>5</th>\n",
       "      <td>Carne de pollo</td>\n",
       "      <td>28800</td>\n",
       "    </tr>\n",
       "    <tr>\n",
       "      <th>6</th>\n",
       "      <td>Fideos</td>\n",
       "      <td>8400</td>\n",
       "    </tr>\n",
       "    <tr>\n",
       "      <th>7</th>\n",
       "      <td>Frutas frescas</td>\n",
       "      <td>14000</td>\n",
       "    </tr>\n",
       "    <tr>\n",
       "      <th>8</th>\n",
       "      <td>Galletas</td>\n",
       "      <td>24500</td>\n",
       "    </tr>\n",
       "    <tr>\n",
       "      <th>9</th>\n",
       "      <td>Harina</td>\n",
       "      <td>12000</td>\n",
       "    </tr>\n",
       "    <tr>\n",
       "      <th>10</th>\n",
       "      <td>Helado</td>\n",
       "      <td>15000</td>\n",
       "    </tr>\n",
       "    <tr>\n",
       "      <th>11</th>\n",
       "      <td>Leche</td>\n",
       "      <td>3000</td>\n",
       "    </tr>\n",
       "    <tr>\n",
       "      <th>12</th>\n",
       "      <td>Mantequilla</td>\n",
       "      <td>11200</td>\n",
       "    </tr>\n",
       "    <tr>\n",
       "      <th>13</th>\n",
       "      <td>Pescado</td>\n",
       "      <td>117000</td>\n",
       "    </tr>\n",
       "    <tr>\n",
       "      <th>14</th>\n",
       "      <td>Queso</td>\n",
       "      <td>30000</td>\n",
       "    </tr>\n",
       "    <tr>\n",
       "      <th>15</th>\n",
       "      <td>Verduras</td>\n",
       "      <td>33000</td>\n",
       "    </tr>\n",
       "    <tr>\n",
       "      <th>16</th>\n",
       "      <td>Yogur</td>\n",
       "      <td>30000</td>\n",
       "    </tr>\n",
       "  </tbody>\n",
       "</table>\n",
       "</div>"
      ],
      "text/plain": [
       "              nombre  Subtotal\n",
       "0   Aceite de cocina    198000\n",
       "1       Agua mineral      3600\n",
       "2              Arroz     27000\n",
       "3             Azúcar     30000\n",
       "4               Café     65000\n",
       "5     Carne de pollo     28800\n",
       "6             Fideos      8400\n",
       "7     Frutas frescas     14000\n",
       "8           Galletas     24500\n",
       "9             Harina     12000\n",
       "10            Helado     15000\n",
       "11             Leche      3000\n",
       "12       Mantequilla     11200\n",
       "13           Pescado    117000\n",
       "14             Queso     30000\n",
       "15          Verduras     33000\n",
       "16             Yogur     30000"
      ]
     },
     "metadata": {},
     "output_type": "display_data"
    }
   ],
   "source": [
    "# Unimos los data frames por compras y agregamos el subtotal por producto en cada boleta\n",
    "compras = pd.merge(boletas, detalle, left_index = True, right_on=\"numero_boleta\", how = \"inner\")\n",
    "compras = pd.merge(compras, productos, right_index=True, left_on = \"codigo_producto\", how = \"inner\")\n",
    "compras[\"Subtotal\"] = compras[\"cantidad\"]*compras[\"precio\"]\n",
    "\n",
    "# Calculamos el total de cada producto en las ventas totales\n",
    "subtotal = compras.groupby(\"nombre\")[\"Subtotal\"].sum().to_frame(\"Subtotal\").reset_index()\n",
    "print(\"Las ventas totales por producto son:\")\n",
    "display(subtotal)"
   ]
  },
  {
   "cell_type": "markdown",
   "metadata": {},
   "source": [
    "8. Agregar los productos que nunca se han vendido con un 0."
   ]
  },
  {
   "cell_type": "code",
   "execution_count": 270,
   "metadata": {},
   "outputs": [
    {
     "name": "stdout",
     "output_type": "stream",
     "text": [
      "La datos considerando los no vendidos queda dada por:\n"
     ]
    },
    {
     "data": {
      "text/html": [
       "<div>\n",
       "<style scoped>\n",
       "    .dataframe tbody tr th:only-of-type {\n",
       "        vertical-align: middle;\n",
       "    }\n",
       "\n",
       "    .dataframe tbody tr th {\n",
       "        vertical-align: top;\n",
       "    }\n",
       "\n",
       "    .dataframe thead th {\n",
       "        text-align: right;\n",
       "    }\n",
       "</style>\n",
       "<table border=\"1\" class=\"dataframe\">\n",
       "  <thead>\n",
       "    <tr style=\"text-align: right;\">\n",
       "      <th></th>\n",
       "      <th>nombre</th>\n",
       "      <th>Subtotal</th>\n",
       "    </tr>\n",
       "  </thead>\n",
       "  <tbody>\n",
       "    <tr>\n",
       "      <th>0</th>\n",
       "      <td>Aceite de cocina</td>\n",
       "      <td>198000</td>\n",
       "    </tr>\n",
       "    <tr>\n",
       "      <th>1</th>\n",
       "      <td>Agua mineral</td>\n",
       "      <td>3600</td>\n",
       "    </tr>\n",
       "    <tr>\n",
       "      <th>2</th>\n",
       "      <td>Arroz</td>\n",
       "      <td>27000</td>\n",
       "    </tr>\n",
       "    <tr>\n",
       "      <th>3</th>\n",
       "      <td>Azúcar</td>\n",
       "      <td>30000</td>\n",
       "    </tr>\n",
       "    <tr>\n",
       "      <th>4</th>\n",
       "      <td>Café</td>\n",
       "      <td>65000</td>\n",
       "    </tr>\n",
       "    <tr>\n",
       "      <th>5</th>\n",
       "      <td>Carne de pollo</td>\n",
       "      <td>28800</td>\n",
       "    </tr>\n",
       "    <tr>\n",
       "      <th>6</th>\n",
       "      <td>Fideos</td>\n",
       "      <td>8400</td>\n",
       "    </tr>\n",
       "    <tr>\n",
       "      <th>7</th>\n",
       "      <td>Frutas frescas</td>\n",
       "      <td>14000</td>\n",
       "    </tr>\n",
       "    <tr>\n",
       "      <th>8</th>\n",
       "      <td>Galletas</td>\n",
       "      <td>24500</td>\n",
       "    </tr>\n",
       "    <tr>\n",
       "      <th>9</th>\n",
       "      <td>Harina</td>\n",
       "      <td>12000</td>\n",
       "    </tr>\n",
       "    <tr>\n",
       "      <th>10</th>\n",
       "      <td>Helado</td>\n",
       "      <td>15000</td>\n",
       "    </tr>\n",
       "    <tr>\n",
       "      <th>11</th>\n",
       "      <td>Leche</td>\n",
       "      <td>3000</td>\n",
       "    </tr>\n",
       "    <tr>\n",
       "      <th>12</th>\n",
       "      <td>Mantequilla</td>\n",
       "      <td>11200</td>\n",
       "    </tr>\n",
       "    <tr>\n",
       "      <th>13</th>\n",
       "      <td>Pescado</td>\n",
       "      <td>117000</td>\n",
       "    </tr>\n",
       "    <tr>\n",
       "      <th>14</th>\n",
       "      <td>Queso</td>\n",
       "      <td>30000</td>\n",
       "    </tr>\n",
       "    <tr>\n",
       "      <th>15</th>\n",
       "      <td>Verduras</td>\n",
       "      <td>33000</td>\n",
       "    </tr>\n",
       "    <tr>\n",
       "      <th>16</th>\n",
       "      <td>Yogur</td>\n",
       "      <td>30000</td>\n",
       "    </tr>\n",
       "    <tr>\n",
       "      <th>17</th>\n",
       "      <td>Pan</td>\n",
       "      <td>0</td>\n",
       "    </tr>\n",
       "    <tr>\n",
       "      <th>18</th>\n",
       "      <td>Jugos</td>\n",
       "      <td>0</td>\n",
       "    </tr>\n",
       "    <tr>\n",
       "      <th>19</th>\n",
       "      <td>Carne de res</td>\n",
       "      <td>0</td>\n",
       "    </tr>\n",
       "  </tbody>\n",
       "</table>\n",
       "</div>"
      ],
      "text/plain": [
       "              nombre  Subtotal\n",
       "0   Aceite de cocina    198000\n",
       "1       Agua mineral      3600\n",
       "2              Arroz     27000\n",
       "3             Azúcar     30000\n",
       "4               Café     65000\n",
       "5     Carne de pollo     28800\n",
       "6             Fideos      8400\n",
       "7     Frutas frescas     14000\n",
       "8           Galletas     24500\n",
       "9             Harina     12000\n",
       "10            Helado     15000\n",
       "11             Leche      3000\n",
       "12       Mantequilla     11200\n",
       "13           Pescado    117000\n",
       "14             Queso     30000\n",
       "15          Verduras     33000\n",
       "16             Yogur     30000\n",
       "17               Pan         0\n",
       "18             Jugos         0\n",
       "19      Carne de res         0"
      ]
     },
     "metadata": {},
     "output_type": "display_data"
    }
   ],
   "source": [
    "# Agregamos los productos faltantes\n",
    "for item in productos[\"nombre\"]:\n",
    "    if item in subtotal[\"nombre\"].values:\n",
    "        pass\n",
    "    else:\n",
    "        subtotal.loc[len(subtotal)] = {\"nombre\": item, \"Subtotal\": 0}\n",
    "\n",
    "print(\"La datos considerando los no vendidos queda dada por:\")\n",
    "display(subtotal)"
   ]
  },
  {
   "cell_type": "markdown",
   "metadata": {},
   "source": [
    "### Actividad 2\n",
    "Crear un programa que sea capaz de leer el archivo “**M3E3 –\n",
    "videojuegos.csv**” (adjunto), luego sacar el promedio de los precios y el\n",
    "promedio de la calificación."
   ]
  },
  {
   "cell_type": "code",
   "execution_count": 271,
   "metadata": {},
   "outputs": [
    {
     "name": "stdout",
     "output_type": "stream",
     "text": [
      "Los promedios de la calificación y de los precios son 94.83 y 788.70, respectivamente.\n"
     ]
    }
   ],
   "source": [
    "import pandas as pd\n",
    "videojuegos = pd.read_csv(path_games+'videojuegos.csv', index_col=0, encoding='latin-1').drop_duplicates()\n",
    "print(f\"Los promedios de la calificación y de los precios son {videojuegos['Calificacion'].mean():.2f} y {videojuegos['Precio'].mean():.2f}, respectivamente.\")"
   ]
  },
  {
   "cell_type": "markdown",
   "metadata": {},
   "source": [
    "### Actividad 3\n",
    "Se tiene el archivo \"**videojuegos2.csv**” (adjunto) con\n",
    "información sobre todo el contenido de su biblioteca de videojuegos.\n",
    "Note que un juego aparecerá listado en el archivo una vez por cada\n",
    "consola en la que fue lanzado.\n",
    "La categoría del juego se especifica siempre en el primer Tag. Por\n",
    "ejemplo, Double Dragon pertenece a la categoría Beat-‘em up."
   ]
  },
  {
   "cell_type": "markdown",
   "metadata": {},
   "source": [
    "Desarrolle lo siguiente:\n",
    "1. La función **juegosConsolas(nomArchivo, categoria, decada)** que\n",
    "recibe el nombre del archivo con la información de los\n",
    "videojuegos, una categoría y número de cuatro dígitos\n",
    "representando una década de años. La función retoma una tupla\n",
    "con 2 elementos. El primer elemento es la lista con los valores\n",
    "únicos de todos los juegos de esa década para esa categoría. El segundo elemento es la lista con valores únicos de todas las\n",
    "consolas que tienen juegos para esa década y categoría.\n",
    "Por ejemplo, para llamar a **juegosConsolas('videojuegos.csv','RPG',1980)** retorna:\n",
    "**(['The legend of Zelda', 'Phantasy Star', ...], ['NES', 'Famicon Disk\n",
    "System', ...])**\n"
   ]
  },
  {
   "cell_type": "code",
   "execution_count": 272,
   "metadata": {},
   "outputs": [],
   "source": [
    "# Funcion juegoConsolas\n",
    "def juegosConsolas(path, cat, year):\n",
    "    \"\"\"\n",
    "    Función que dado los input\n",
    "        path (str) : Ruta del archivo\n",
    "        cat (str) : Categoría buscada\n",
    "        year (entero, cuatro digitos) : Año buscado\n",
    "    retorna \n",
    "        juegos (list) : Juegos de la categoria cat lanzados en la decada year\n",
    "        consolas (list) : Consolas que tienen juegos para la categoría cat en la decada year\n",
    "    \"\"\"\n",
    "    # Librerias necesarias\n",
    "    from pandas import read_csv\n",
    "\n",
    "    # Lectura del archivo\n",
    "    videojuegos2 = read_csv(path, encoding='ISO-8859-1', header=0).drop_duplicates()\n",
    "\n",
    "    # Busqueda de juegos y consolas\n",
    "    juegos = []\n",
    "    consolas = []\n",
    "\n",
    "    tags = [tags.split(\";\") for tags in videojuegos2[\"Tags(separados por ;);;;\"]]\n",
    "    \n",
    "    for i in range(len(videojuegos2)):\n",
    "        if cat in tags[i] and str(year)[-2]==str(videojuegos2[\"Año\"][i])[0]:\n",
    "            juegos.append(videojuegos2[\"Nombre\"][i])\n",
    "            consolas.append(videojuegos2[\"Consola\"][i])\n",
    "\n",
    "    return list(set(juegos)), list(set(consolas))\n",
    "    "
   ]
  },
  {
   "cell_type": "code",
   "execution_count": 273,
   "metadata": {},
   "outputs": [
    {
     "name": "stdout",
     "output_type": "stream",
     "text": [
      "Los juegos de la categoría RPG en la decada de los 1980 son:\n",
      "1. The Legend of Zelda\n",
      "2. Curse of Ra\n",
      "\n",
      "Las consolas que tienen juegos de la categoría RPG en la decada de los 1980 son:\n",
      "1. Famicom\n",
      "2. Commodore PET\n",
      "3. NES\n"
     ]
    }
   ],
   "source": [
    "# Testeo de la función juegosConsolas\n",
    "path = path_games+'videojuegos2.csv'\n",
    "cat = 'RPG'\n",
    "year = 1980\n",
    "juegos, consolas = juegosConsolas(path, cat, year)\n",
    "\n",
    "# Imprimir los resultados\n",
    "print(f\"Los juegos de la categoría {cat} en la decada de los {year} son:\")\n",
    "for i, juego in enumerate(juegos):\n",
    "    print(f\"{i+1}. {juego}\")\n",
    "print(f\"\\nLas consolas que tienen juegos de la categoría {cat} en la decada de los {year} son:\")\n",
    "for i, consola in enumerate(consolas):\n",
    "    print(f\"{i+1}. {consola}\")"
   ]
  },
  {
   "cell_type": "markdown",
   "metadata": {},
   "source": [
    "2. La función **crearMatriz(nomArchivo, categoria, decada)** que\n",
    "recibe el nombre del archivo con la información de los\n",
    "videojuegos, el nombre de una categoría de videojuegos y un\n",
    "número de cuatro dígitos representando una década de años. La\n",
    "función deberá leer el archivo y retornar una matriz donde las\n",
    "filas representan los juegos de categoria para la decada , las\n",
    "columnas representan las consolas que tienen juegos de\n",
    "categoria para la decada y las celdas son las calificaciones de\n",
    "cada juego para cada consola. Si un juego no existe para una\n",
    "consola, su calificación deberá ser cero (0)."
   ]
  },
  {
   "cell_type": "code",
   "execution_count": 274,
   "metadata": {},
   "outputs": [],
   "source": [
    "def crearMatriz(path, cat, year):\n",
    "    \"\"\"\n",
    "    Función que dado los input\n",
    "        path (str) : Ruta del archivo\n",
    "        cat (str) : Categoría buscada\n",
    "        year (entero, cuatro digitos) : Año buscado\n",
    "    retorna \n",
    "        matriz (Array) : matriz donde las\n",
    "            filas representan los juegos de categoria para la decada , las\n",
    "            columnas representan las consolas que tienen juegos de\n",
    "            categoria para la decada y las celdas son las calificaciones de\n",
    "            cada juego para cada consola.\n",
    "        df (Data Frame) con la información anterior\n",
    "    \"\"\"\n",
    "\n",
    "    # Librerias necesarias\n",
    "    from pandas import read_csv, DataFrame\n",
    "\n",
    "    # Lectura del archivo\n",
    "    games = read_csv(path, encoding='ISO-8859-1', header=0).drop_duplicates()\n",
    "\n",
    "    # Busqueda de juegos y consolas\n",
    "    juegos, consolas = juegosConsolas(path, cat, year)\n",
    "\n",
    "    # Creacion del data frame\n",
    "    columns = {}\n",
    "    for consola in consolas:\n",
    "        calificaciones = []\n",
    "        aux = games[games[\"Consola\"] == consola]\n",
    "        for juego in juegos:\n",
    "            if juego in list(aux[\"Nombre\"]):\n",
    "                calificaciones.append(float(aux[aux[\"Nombre\"] == juego][\"Calificacion\"].mean()))\n",
    "            else:\n",
    "                calificaciones.append(0)\n",
    "        columns[consola] = calificaciones\n",
    "    \n",
    "    return DataFrame(columns, index= juegos).values, DataFrame(columns, index= juegos)\n"
   ]
  },
  {
   "cell_type": "code",
   "execution_count": 275,
   "metadata": {},
   "outputs": [
    {
     "name": "stdout",
     "output_type": "stream",
     "text": [
      "El resumen de calificaciones para la categoría RPG en la decada de los 1980 son:\n"
     ]
    },
    {
     "data": {
      "text/html": [
       "<div>\n",
       "<style scoped>\n",
       "    .dataframe tbody tr th:only-of-type {\n",
       "        vertical-align: middle;\n",
       "    }\n",
       "\n",
       "    .dataframe tbody tr th {\n",
       "        vertical-align: top;\n",
       "    }\n",
       "\n",
       "    .dataframe thead th {\n",
       "        text-align: right;\n",
       "    }\n",
       "</style>\n",
       "<table border=\"1\" class=\"dataframe\">\n",
       "  <thead>\n",
       "    <tr style=\"text-align: right;\">\n",
       "      <th></th>\n",
       "      <th>Famicom</th>\n",
       "      <th>Commodore PET</th>\n",
       "      <th>NES</th>\n",
       "    </tr>\n",
       "  </thead>\n",
       "  <tbody>\n",
       "    <tr>\n",
       "      <th>The Legend of Zelda</th>\n",
       "      <td>3.5</td>\n",
       "      <td>0.0</td>\n",
       "      <td>4.3</td>\n",
       "    </tr>\n",
       "    <tr>\n",
       "      <th>Curse of Ra</th>\n",
       "      <td>0.0</td>\n",
       "      <td>3.0</td>\n",
       "      <td>0.0</td>\n",
       "    </tr>\n",
       "  </tbody>\n",
       "</table>\n",
       "</div>"
      ],
      "text/plain": [
       "                     Famicom  Commodore PET  NES\n",
       "The Legend of Zelda      3.5            0.0  4.3\n",
       "Curse of Ra              0.0            3.0  0.0"
      ]
     },
     "execution_count": 275,
     "metadata": {},
     "output_type": "execute_result"
    }
   ],
   "source": [
    "# Testeo de la función crearMatriz\n",
    "path = path_games+'videojuegos2.csv'\n",
    "cat = \"RPG\"\n",
    "year = 1980\n",
    "matriz, df = crearMatriz(path, cat, year)\n",
    "\n",
    "# Imprimir los resultados\n",
    "print(f\"El resumen de calificaciones para la categoría {cat} en la decada de los {year} son:\")\n",
    "df"
   ]
  },
  {
   "cell_type": "markdown",
   "metadata": {},
   "source": [
    "3. La función mejoresJuegos(nomArchivo, categoria, decada) que\n",
    "recibe el nombre del archivo con la información de los\n",
    "videojuegos, el nombre de una categoría de videojuegos y un\n",
    "número de cuatro dígitos representando una década de años. La\n",
    "función deberá generar el archivo “**Mejores.txt**” con los cinco\n",
    "mejores juegos de la decada para la categoria , ordenados de\n",
    "mayor a menor por su calificación promedio. Para calcular el\n",
    "promedio de un juego, considere únicamente las consolas en las\n",
    "que fue lanzado (no considere los valores cero). El archivo\n",
    "tendrá la siguiente estructura: **NombreNombre,Promedio_calificación**\n",
    "\n"
   ]
  },
  {
   "cell_type": "code",
   "execution_count": 276,
   "metadata": {},
   "outputs": [],
   "source": [
    "def mejoresJuegos(path, cat, year):\n",
    "    \"\"\"\n",
    "    Función que dado los input\n",
    "        path (str) : Ruta del archivo\n",
    "        cat (str) : Categoría buscada\n",
    "        year (entero, cuatro digitos) : Año buscado\n",
    "    retorna \n",
    "        Mejores (Archivo .txt) : Cinco\n",
    "                                mejores juegos de la decada para la categoria , ordenados de\n",
    "                                mayor a menor por su calificación promedio.\n",
    "    \"\"\"\n",
    "\n",
    "    # Librerias necesarias\n",
    "    from pandas import read_csv, DataFrame\n",
    "    from numpy import array, argsort\n",
    "    \n",
    "    # Matriz de calificaciones\n",
    "    matriz, df = crearMatriz(path, cat, year)\n",
    "\n",
    "    # Calculo de los promedios por juego\n",
    "    prom = []\n",
    "    for i in range(len(matriz)):\n",
    "        prom.append([i, matriz[i][matriz[i] > 0].mean()])\n",
    "    prom = array(prom)\n",
    "    prom = prom[argsort(prom[:, 1])][-1::-1]\n",
    "\n",
    "    # Creacion de DataFrame a exportar\n",
    "    nombres = list(df.index)\n",
    "    mejores = {'Nombre': [], 'Promedio': []}\n",
    "    i = 0\n",
    "    while i<min([5, len(prom)]):\n",
    "        mejores[\"Nombre\"].append(nombres[int(prom[i][0])])\n",
    "        mejores[\"Promedio\"].append(prom[i][1])\n",
    "        i+=1\n",
    "    mejores = DataFrame(mejores)\n",
    "\n",
    "    # Escribimos el archivo\n",
    "    mejores.to_csv('Mejores.txt', sep = ',', index = False)\n",
    "\n",
    "    return(mejores)"
   ]
  },
  {
   "cell_type": "code",
   "execution_count": 277,
   "metadata": {},
   "outputs": [
    {
     "name": "stdout",
     "output_type": "stream",
     "text": [
      "El archivo generado para los mejores promedios de la categoría RPG en la decada de los 1980 contiene:\n"
     ]
    },
    {
     "data": {
      "text/html": [
       "<div>\n",
       "<style scoped>\n",
       "    .dataframe tbody tr th:only-of-type {\n",
       "        vertical-align: middle;\n",
       "    }\n",
       "\n",
       "    .dataframe tbody tr th {\n",
       "        vertical-align: top;\n",
       "    }\n",
       "\n",
       "    .dataframe thead th {\n",
       "        text-align: right;\n",
       "    }\n",
       "</style>\n",
       "<table border=\"1\" class=\"dataframe\">\n",
       "  <thead>\n",
       "    <tr style=\"text-align: right;\">\n",
       "      <th></th>\n",
       "      <th>Nombre</th>\n",
       "      <th>Promedio</th>\n",
       "    </tr>\n",
       "  </thead>\n",
       "  <tbody>\n",
       "    <tr>\n",
       "      <th>0</th>\n",
       "      <td>The Legend of Zelda</td>\n",
       "      <td>3.9</td>\n",
       "    </tr>\n",
       "    <tr>\n",
       "      <th>1</th>\n",
       "      <td>Curse of Ra</td>\n",
       "      <td>3.0</td>\n",
       "    </tr>\n",
       "  </tbody>\n",
       "</table>\n",
       "</div>"
      ],
      "text/plain": [
       "                Nombre  Promedio\n",
       "0  The Legend of Zelda       3.9\n",
       "1          Curse of Ra       3.0"
      ]
     },
     "execution_count": 277,
     "metadata": {},
     "output_type": "execute_result"
    }
   ],
   "source": [
    "# Testeo de la función mejoresJuegos\n",
    "path = path_games+'videojuegos2.csv'\n",
    "cat = \"RPG\"\n",
    "year = 1980\n",
    "mejores = mejoresJuegos(path, cat, year)\n",
    "\n",
    "print(f\"El archivo generado para los mejores promedios de la categoría {cat} en la decada de los {year} contiene:\")\n",
    "mejores\n"
   ]
  },
  {
   "cell_type": "markdown",
   "metadata": {},
   "source": [
    "4. La función **colecciones(nomArchivo, palabras)** que recibe el\n",
    "nombre del archivo con la información de los videojuegos y una\n",
    "lista de palabras. La función deberá retornar otra lista de valores\n",
    "únicos con los nombres de todos los juegos que sus Tags\n",
    "contengan todos los términos de la lista palabras."
   ]
  },
  {
   "cell_type": "code",
   "execution_count": 278,
   "metadata": {},
   "outputs": [],
   "source": [
    "def colecciones(path, palabras):\n",
    "    \"\"\"\n",
    "    Función que dado los input\n",
    "        path (str) : Ruta del archivo\n",
    "        palabras (lista de strings) : Palabras buscadas en los tags\n",
    "    retorna \n",
    "        coleccion (lista) : Juegos que contienen todos las palabras en los tags\n",
    "    \"\"\"\n",
    "\n",
    "    # Librerias necesarias\n",
    "    from pandas import read_csv, DataFrame\n",
    "\n",
    "    # Lectura del archivo\n",
    "    games = read_csv(path, encoding='ISO-8859-1', header=0).drop_duplicates()\n",
    "\n",
    "    # Separacion de tags\n",
    "    tags = [tags.split(\";\") for tags in games[\"Tags(separados por ;);;;\"]]\n",
    "\n",
    "    # Filtrado de juegos por tags\n",
    "    coleccion = []\n",
    "\n",
    "    for j, tag in enumerate(tags):\n",
    "        i = 0\n",
    "        for palabra in palabras:\n",
    "            if palabra in tag:\n",
    "                i+=1\n",
    "        if len(palabras)==i:\n",
    "            coleccion.append(games[\"Nombre\"][j])\n",
    "\n",
    "    return list(set(coleccion))"
   ]
  },
  {
   "cell_type": "code",
   "execution_count": 279,
   "metadata": {},
   "outputs": [
    {
     "name": "stdout",
     "output_type": "stream",
     "text": [
      "El(los) juego(s) que contiene(n) en sus tags las palabras ['Link'] son:\n",
      "1. The Legend of Zelda\n"
     ]
    }
   ],
   "source": [
    "# Testeo de la función mejoresJuegos\n",
    "path = path_games+'videojuegos2.csv'\n",
    "palabras = ['Link']\n",
    "coleccion = colecciones(path, palabras)\n",
    "\n",
    "print(f\"El(los) juego(s) que contiene(n) en sus tags las palabras {palabras} son:\")\n",
    "for i, juego in enumerate(coleccion):\n",
    "    print(f\"{i+1}. {juego}\")"
   ]
  }
 ],
 "metadata": {
  "kernelspec": {
   "display_name": "Python 3",
   "language": "python",
   "name": "python3"
  },
  "language_info": {
   "codemirror_mode": {
    "name": "ipython",
    "version": 3
   },
   "file_extension": ".py",
   "mimetype": "text/x-python",
   "name": "python",
   "nbconvert_exporter": "python",
   "pygments_lexer": "ipython3",
   "version": "3.11.8"
  }
 },
 "nbformat": 4,
 "nbformat_minor": 2
}
