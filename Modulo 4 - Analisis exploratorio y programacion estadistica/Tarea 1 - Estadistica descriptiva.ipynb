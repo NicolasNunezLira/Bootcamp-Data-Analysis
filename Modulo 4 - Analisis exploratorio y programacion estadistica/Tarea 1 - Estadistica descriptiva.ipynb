{
 "cells": [
  {
   "cell_type": "markdown",
   "metadata": {},
   "source": [
    "# Actividad 1 - Módulo 4 : ANÁLISIS EXPLORATORIO Y PROGRAMACIÓN ESTADÍSTICA\n",
    "### CONCEPTOS BÁSICOS DE ESTADÍSTICA DESCRIPTIVA\n",
    "#### Autor: Nicolás Núñez"
   ]
  },
  {
   "cell_type": "markdown",
   "metadata": {},
   "source": [
    "### Ejercicio 1\n",
    "Clasifique las variables según corresponda."
   ]
  },
  {
   "cell_type": "markdown",
   "metadata": {},
   "source": [
    "1. Vivienda:\n",
    "    - Tipo de vivienda: Cualitativa nominal.\n",
    "    - Número de integrantes: Cuantitativa discreta.\n",
    "    - Edad de cada integrante: Cuantitativa discreta.\n",
    "2. Paciente:\n",
    "    - Fonasa: Cualitativa nominal.\n",
    "    - Estatura: Cuantitativa continua.\n",
    "    - Peso: Cuantativa continua\n",
    "    - Especialidad de consulta: Cualititativa nominal.\n",
    "3. Alumno PDT:\n",
    "    - Puntaje: Cuantitativa discreta.\n",
    "    - Preferencia de postulacion a la carrera: Cualitativa ordinal."
   ]
  },
  {
   "cell_type": "markdown",
   "metadata": {},
   "source": [
    "### Ejercicio 2\n",
    "Considere el siguiente conjunto de datos, el que describe, el tipo de consulta\n",
    "realizada por un alumno(a) al servicio de salud de la Universidad X durante\n",
    "Junio del 2022."
   ]
  },
  {
   "cell_type": "markdown",
   "metadata": {},
   "source": [
    "Tipo de consulta|Código\n",
    "--|--\n",
    "1 5 3 1 2 4 1 3 1 5|1: Médico\n",
    "2 1 1 5 3 1 2 1 4 1|2: Nutricionista\n",
    "4 1 3 1 5 1 2 1 1 2|3: Ginecólogo\n",
    "5 1 1 5 1 5 3 1 2 1|4: Psicólogo\n",
    "2 3 1 1 2 1 5 1 5 1|5: Dentista"
   ]
  },
  {
   "cell_type": "markdown",
   "metadata": {},
   "source": [
    "1. Identifique el tipo de variable.\n",
    "    - R: Cualitativa nominal"
   ]
  },
  {
   "cell_type": "markdown",
   "metadata": {},
   "source": [
    "2. Construya una tabla frecuencia apropiada para resumir los datos."
   ]
  },
  {
   "cell_type": "code",
   "execution_count": 56,
   "metadata": {},
   "outputs": [
    {
     "name": "stdout",
     "output_type": "stream",
     "text": [
      "Tabla de frecuencia para los datos de consultas:\n"
     ]
    },
    {
     "data": {
      "text/html": [
       "<div>\n",
       "<style scoped>\n",
       "    .dataframe tbody tr th:only-of-type {\n",
       "        vertical-align: middle;\n",
       "    }\n",
       "\n",
       "    .dataframe tbody tr th {\n",
       "        vertical-align: top;\n",
       "    }\n",
       "\n",
       "    .dataframe thead th {\n",
       "        text-align: right;\n",
       "    }\n",
       "</style>\n",
       "<table border=\"1\" class=\"dataframe\">\n",
       "  <thead>\n",
       "    <tr style=\"text-align: right;\">\n",
       "      <th></th>\n",
       "      <th>Frecuencia absoluta</th>\n",
       "      <th>Frecuencia relativa(%)</th>\n",
       "    </tr>\n",
       "    <tr>\n",
       "      <th>Consulta</th>\n",
       "      <th></th>\n",
       "      <th></th>\n",
       "    </tr>\n",
       "  </thead>\n",
       "  <tbody>\n",
       "    <tr>\n",
       "      <th>Médico</th>\n",
       "      <td>24</td>\n",
       "      <td>48.0</td>\n",
       "    </tr>\n",
       "    <tr>\n",
       "      <th>Dentista</th>\n",
       "      <td>9</td>\n",
       "      <td>18.0</td>\n",
       "    </tr>\n",
       "    <tr>\n",
       "      <th>Nutricionista</th>\n",
       "      <td>8</td>\n",
       "      <td>16.0</td>\n",
       "    </tr>\n",
       "    <tr>\n",
       "      <th>Ginecólogo</th>\n",
       "      <td>6</td>\n",
       "      <td>12.0</td>\n",
       "    </tr>\n",
       "    <tr>\n",
       "      <th>Psicólogo</th>\n",
       "      <td>3</td>\n",
       "      <td>6.0</td>\n",
       "    </tr>\n",
       "  </tbody>\n",
       "</table>\n",
       "</div>"
      ],
      "text/plain": [
       "               Frecuencia absoluta  Frecuencia relativa(%)\n",
       "Consulta                                                  \n",
       "Médico                          24                    48.0\n",
       "Dentista                         9                    18.0\n",
       "Nutricionista                    8                    16.0\n",
       "Ginecólogo                       6                    12.0\n",
       "Psicólogo                        3                     6.0"
      ]
     },
     "metadata": {},
     "output_type": "display_data"
    }
   ],
   "source": [
    "from pandas import DataFrame\n",
    "\n",
    "# Datos de la consulta\n",
    "consultas = DataFrame(\n",
    "    {'Consulta' : [\n",
    "   1, 5, 3, 1, 2, 4, 1, 3, 1, 5,\n",
    "   2, 1, 1, 5, 3, 1, 2, 1, 4, 1,\n",
    "   4, 1, 3, 1, 5, 1, 2, 1, 1, 2,\n",
    "   5, 1, 1, 5, 1, 5, 3, 1, 2, 1,\n",
    "   2, 3, 1, 1, 2, 1, 5, 1, 5, 1,\n",
    "]})\n",
    "\n",
    "# Código\n",
    "codigos = {1: \"Médico\", 2: \"Nutricionista\", 3: \"Ginecólogo\",\n",
    "    4: \"Psicólogo\", 5: \"Dentista\"}\n",
    "\n",
    "# Cambio de etiqueta de la consulta\n",
    "consultas['Consulta'] = [codigos[i] for i in consultas['Consulta']]\n",
    "\n",
    "# Tabla de frecuencia\n",
    "print('Tabla de frecuencia para los datos de consultas:')\n",
    "frec = consultas.value_counts().reset_index()\n",
    "frec.columns = ['Consulta', 'Frecuencia absoluta']\n",
    "frec['Frecuencia relativa(%)'] = frec['Frecuencia absoluta']/frec['Frecuencia absoluta'].sum()*100\n",
    "frec.set_index('Consulta', inplace=True)\n",
    "display(frec)"
   ]
  },
  {
   "cell_type": "markdown",
   "metadata": {},
   "source": [
    "3. Realice los gráficos apropiados para representar los datos."
   ]
  },
  {
   "cell_type": "code",
   "execution_count": 57,
   "metadata": {},
   "outputs": [
    {
     "data": {
      "image/png": "[encoded data removed]",
      "text/plain": [
       "<Figure size 640x480 with 1 Axes>"
      ]
     },
     "metadata": {},
     "output_type": "display_data"
    }
   ],
   "source": [
    "import matplotlib.pyplot as plt\n",
    "\n",
    "plt.bar(frec.index,frec['Frecuencia absoluta'])\n",
    "plt.xlabel('Tipo de consulta')\n",
    "plt.ylabel('Frecuencia absoluta')\n",
    "\n",
    "for j in [5, 10, 15, 20]:\n",
    "    plt.axhline(y = j,color = 'gray', linestyle='--', zorder=0)\n",
    "\n",
    "plt.show()"
   ]
  },
  {
   "cell_type": "markdown",
   "metadata": {},
   "source": [
    "### Ejercicio 3\n",
    "Considere el siguiente conjunto de datos, el que describe, la edad en años\n",
    "de niños que asisten a un jardín infantil de la comuna de Concepción."
   ]
  },
  {
   "cell_type": "markdown",
   "metadata": {},
   "source": [
    "|Edades|\n",
    "|:--:|\n",
    "|1.20 1.66 1.75 1.95 2.00 2.08|\n",
    "|2.51 2.51 2.66 2.68 2.76 2.79|\n",
    "|2.85 2.90 2.95 2.96 3.00 3.00|\n",
    "|3.00 3.06 3.10 3.25 3.30 3.30|\n",
    "|3.31 3.50 3.53 3.55 3.55 3.60|"
   ]
  },
  {
   "cell_type": "markdown",
   "metadata": {},
   "source": [
    "1. Identifique el tipo de variable\n",
    "    - R. Cuantitativa continua"
   ]
  },
  {
   "cell_type": "markdown",
   "metadata": {},
   "source": [
    "2. Construya la tabla frecuencia apropiada para resumir los datos\n",
    "(considere 5 intervalos).\n"
   ]
  },
  {
   "cell_type": "code",
   "execution_count": 58,
   "metadata": {},
   "outputs": [
    {
     "name": "stdout",
     "output_type": "stream",
     "text": [
      "La tabla de frecuencia para los datos agrupados por la variable edad es:\n"
     ]
    },
    {
     "data": {
      "text/html": [
       "<div>\n",
       "<style scoped>\n",
       "    .dataframe tbody tr th:only-of-type {\n",
       "        vertical-align: middle;\n",
       "    }\n",
       "\n",
       "    .dataframe tbody tr th {\n",
       "        vertical-align: top;\n",
       "    }\n",
       "\n",
       "    .dataframe thead th {\n",
       "        text-align: right;\n",
       "    }\n",
       "</style>\n",
       "<table border=\"1\" class=\"dataframe\">\n",
       "  <thead>\n",
       "    <tr style=\"text-align: right;\">\n",
       "      <th></th>\n",
       "      <th>Frecuencia absoluta</th>\n",
       "    </tr>\n",
       "    <tr>\n",
       "      <th>Grupo edad</th>\n",
       "      <th></th>\n",
       "    </tr>\n",
       "  </thead>\n",
       "  <tbody>\n",
       "    <tr>\n",
       "      <th>1.2-1.68</th>\n",
       "      <td>2</td>\n",
       "    </tr>\n",
       "    <tr>\n",
       "      <th>1.68-2.16</th>\n",
       "      <td>4</td>\n",
       "    </tr>\n",
       "    <tr>\n",
       "      <th>2.16-2.64</th>\n",
       "      <td>2</td>\n",
       "    </tr>\n",
       "    <tr>\n",
       "      <th>2.64-3.12</th>\n",
       "      <td>13</td>\n",
       "    </tr>\n",
       "    <tr>\n",
       "      <th>3.12-3.6</th>\n",
       "      <td>9</td>\n",
       "    </tr>\n",
       "  </tbody>\n",
       "</table>\n",
       "</div>"
      ],
      "text/plain": [
       "            Frecuencia absoluta\n",
       "Grupo edad                     \n",
       "1.2-1.68                      2\n",
       "1.68-2.16                     4\n",
       "2.16-2.64                     2\n",
       "2.64-3.12                    13\n",
       "3.12-3.6                      9"
      ]
     },
     "metadata": {},
     "output_type": "display_data"
    }
   ],
   "source": [
    "import pandas as pd\n",
    "import numpy as np\n",
    "\n",
    "# Datos\n",
    "edades = pd.DataFrame(\n",
    "    {\n",
    "        'Edades' : [1.20, 1.66, 1.75, 1.95, 2.00, 2.08,\n",
    "                    2.51, 2.51, 2.66, 2.68, 2.76, 2.79,\n",
    "                    2.85, 2.90, 2.95, 2.96, 3.00, 3.00,\n",
    "                    3.00, 3.06, 3.10, 3.25, 3.30, 3.30,\n",
    "                    3.31, 3.50, 3.53, 3.55, 3.55, 3.60]\n",
    "    }\n",
    ")\n",
    "\n",
    "# Calculo de intervalos segun la formula de stuges\n",
    "#k = round(1 + 3.322*np.log10(len(edades)))\n",
    "k = 5\n",
    "\n",
    "# Construccion de intervalos\n",
    "h = (max(edades['Edades'])-min(edades['Edades']))/k\n",
    "intervalos = [min(edades['Edades']) + i*h for i in range(k+1)]\n",
    "etiquetas = [str(round(intervalos[i],2))+'-'+str(round(intervalos[i+1],2)) for i in range(k)]\n",
    "\n",
    "# Agrupación de datos\n",
    "edades['Grupo edad'] = pd.cut(edades['Edades'], bins=intervalos, labels=etiquetas, right=False)\n",
    "grupo = edades.groupby(['Grupo edad'], observed=True).count()\n",
    "grupo.columns = ['Frecuencia absoluta']\n",
    "\n",
    "# Despliegue de la tabla de frecuencias por grupos\n",
    "print('La tabla de frecuencia para los datos agrupados por la variable edad es:')\n",
    "display(grupo)"
   ]
  },
  {
   "cell_type": "markdown",
   "metadata": {},
   "source": [
    "3. Realice los gráficos apropiados para representar los datos."
   ]
  },
  {
   "cell_type": "code",
   "execution_count": 59,
   "metadata": {},
   "outputs": [
    {
     "data": {
      "image/png": "[encoded data removed]",
      "text/plain": [
       "<Figure size 640x480 with 1 Axes>"
      ]
     },
     "metadata": {},
     "output_type": "display_data"
    }
   ],
   "source": [
    "import matplotlib.pyplot as plt\n",
    "\n",
    "plt.hist(edades['Edades'], intervalos, edgecolor='white',linewidth = .7)\n",
    "plt.xticks(intervalos)\n",
    "\n",
    "plt.xlabel('Grupo etario')\n",
    "plt.ylabel('Frecuencia absoluta')\n",
    "\n",
    "plt.title('Edad niños en un jardin de Concepción')\n",
    "\n",
    "lineas = range(1, 7)\n",
    "for ord in lineas:\n",
    "    plt.axhline(y=2*ord, color = 'gray', linestyle='--', zorder=0)\n",
    "\n",
    "plt.show()"
   ]
  },
  {
   "cell_type": "markdown",
   "metadata": {},
   "source": [
    "### Ejercicio 4\n",
    "El tiempo utilizado (minutos) para atender entrevistas de 82 aspirantes a\n",
    "empleo en una empresa, se clasifican de acuerdo a la siguiente tabla:"
   ]
  },
  {
   "cell_type": "markdown",
   "metadata": {},
   "source": [
    "| Tiempo necesario | N° Entrevistas |\n",
    "| -- | -- |\n",
    "| [12.5 - 20.5] | 9 |\n",
    "| (20.5 - 28.5] | 14 |\n",
    "| (28.5 - 36.5] | 20 |\n",
    "| (36.5 - 44.5] | 30 |\n",
    "| (44.5 - 52.5] | 9 |"
   ]
  },
  {
   "cell_type": "markdown",
   "metadata": {},
   "source": [
    "1. Tiempo medio de duración de las entrevistas a los aspirantes al\n",
    "empleo. "
   ]
  },
  {
   "cell_type": "code",
   "execution_count": 60,
   "metadata": {},
   "outputs": [
    {
     "name": "stdout",
     "output_type": "stream",
     "text": [
      "El tiempo promedio de las entrevistas fue 34.06 minutos.\n"
     ]
    }
   ],
   "source": [
    "import pandas as pd\n",
    "\n",
    "# Datos\n",
    "datos = pd.DataFrame(\n",
    "    {\n",
    "        'Rango tiempo' : [\"12.5-20.5\", \"20.5-28.5\", \"28.5-36.5\", \"36.5-44.5\", \"44.5-52.5\"],\n",
    "        'N° entrevistas' : [9,14,20,30,9]\n",
    "    }\n",
    ")\n",
    "\n",
    "# Calucamos el tiempo medio por rango \n",
    "datos['Infimo'] = datos['Rango tiempo'].str.split('-').str[0].astype(float)\n",
    "datos['Supremo'] = datos['Rango tiempo'].str.split('-').str[1].astype(float)\n",
    "datos['Promedio rango'] = (datos['Infimo'] + datos['Supremo'])/2\n",
    "\n",
    "# Calculamos el promedio de tiempo\n",
    "media = (datos['N° entrevistas']*datos['Promedio rango']).sum()/datos['N° entrevistas'].sum()\n",
    "\n",
    "# Desplegamos\n",
    "print(f\"El tiempo promedio de las entrevistas fue {media:.2f} minutos.\")"
   ]
  },
  {
   "cell_type": "markdown",
   "metadata": {},
   "source": [
    "2. Desviación estándar de los tiempos de duración de las entrevistas.\n",
    "Interprete. "
   ]
  },
  {
   "cell_type": "code",
   "execution_count": 61,
   "metadata": {},
   "outputs": [
    {
     "name": "stdout",
     "output_type": "stream",
     "text": [
      "La desviación estandar de los datos es 9.39 minutos.\n"
     ]
    }
   ],
   "source": [
    "# Calculo de varianza y desviacion estandar para población\n",
    "varianza = 0\n",
    "for i, xi in enumerate(datos['Promedio rango']):\n",
    "    varianza += datos['N° entrevistas'][i]*(xi-media)**2/datos['N° entrevistas'].sum()\n",
    "dest = varianza**(1/2)\n",
    "\n",
    "# despliegue informacion\n",
    "print(f\"La desviación estandar de los datos es {dest:.2f} minutos.\")"
   ]
  },
  {
   "cell_type": "markdown",
   "metadata": {},
   "source": [
    "3. El tiempo utilizado bajo el cual se encuentra el 75 % de la muestra. "
   ]
  },
  {
   "cell_type": "code",
   "execution_count": 62,
   "metadata": {},
   "outputs": [
    {
     "name": "stdout",
     "output_type": "stream",
     "text": [
      "El timepo utilizado bajo el cual se encuentra el 75% de la muestra es 41.43 minutos.\n"
     ]
    }
   ],
   "source": [
    "# Calculamos el tercer cuartil de la poblacion\n",
    "tc = .75*datos['N° entrevistas'].sum() # Tercer cuartil\n",
    "\n",
    "# Calculamos la frecuencia acumulada de los datos y guardamos el indice de donde esta el tercer cuartil\n",
    "f_a = []\n",
    "for i, f in enumerate(datos['N° entrevistas']):\n",
    "    if i==0:\n",
    "        f_a.append(f)\n",
    "    else:\n",
    "        f_a.append(f_a[-1] + f)\n",
    "datos['Frecuencia acumulada'] = f_a\n",
    "\n",
    "# Calculo del tercer cuartil\n",
    "i = datos[datos['Frecuencia acumulada']>=tc].index[0]\n",
    "q_3 = datos['Infimo'][i]+(tc - datos['Frecuencia acumulada'][i-1])*(datos['Supremo'][i]-datos['Infimo'][i])/datos['N° entrevistas'][i]\n",
    "\n",
    "# Desplegamos los datos\n",
    "print(f'El timepo utilizado bajo el cual se encuentra el 75% de la muestra es {q_3:.2f} minutos.')"
   ]
  },
  {
   "cell_type": "markdown",
   "metadata": {},
   "source": [
    "4. Si la empresa pide al entrevistador que demore a lo más 40 minutos\n",
    "por entrevista, ¿Qué porcentaje de entrevistados excede este\n",
    "tiempo?"
   ]
  },
  {
   "cell_type": "code",
   "execution_count": 63,
   "metadata": {},
   "outputs": [
    {
     "name": "stdout",
     "output_type": "stream",
     "text": [
      "El 31.55% de los entrevistados excede los 40 minutos en su entrevista.\n"
     ]
    }
   ],
   "source": [
    "# Indice para saber en que grupo esta contido el 40\n",
    "minuto = 40\n",
    "i = datos[datos['Supremo']>=minuto].index[0]\n",
    "\n",
    "# Porcentaje de tiempo entre 40 y el supremo del intervalo que esta contenido\n",
    "porc = (datos['Supremo'][i] - minuto)/(datos['Supremo'][i] - datos['Infimo'][i])\n",
    "\n",
    "# Calculo de entrevistados con entrevistas mayores o iguales a 40\n",
    "n = porc*datos[\"N° entrevistas\"][i] + datos[\"N° entrevistas\"][i+1:].sum()\n",
    "\n",
    "# Calculo porcentual de lo anterior y despliegue\n",
    "n_porc = n/datos[\"N° entrevistas\"].sum()*100\n",
    "\n",
    "print(f'El {n_porc:.2f}% de los entrevistados excede los {minuto} minutos en su entrevista.')"
   ]
  },
  {
   "cell_type": "markdown",
   "metadata": {},
   "source": [
    "5. Realice el histograma de los tiempos de duración de las entrevistas a\n",
    "los postulantes. Comente la forma del histograma."
   ]
  },
  {
   "cell_type": "code",
   "execution_count": 64,
   "metadata": {},
   "outputs": [
    {
     "data": {
      "image/png": "[encoded data removed]",
      "text/plain": [
       "<Figure size 640x480 with 1 Axes>"
      ]
     },
     "metadata": {},
     "output_type": "display_data"
    }
   ],
   "source": [
    "import matplotlib.pyplot as plt\n",
    "\n",
    "# Estructurar los datos para el histograma\n",
    "val = []\n",
    "for i, k in enumerate(datos[\"N° entrevistas\"]):\n",
    "    for j in range(k):\n",
    "        val.append(datos[\"Promedio rango\"][i])\n",
    "\n",
    "ind = list(datos[\"Infimo\"])\n",
    "ind.append(list(datos[\"Supremo\"])[-1])\n",
    "\n",
    "# Grafico\n",
    "plt.hist(val,ind, edgecolor='white')\n",
    "plt.xlabel('Tiempo entrevistas')\n",
    "plt.ylabel('Frecuecia')\n",
    "plt.title('Histograma Tiempo entrevistas / Numero de entrevistas')\n",
    "plt.xticks(ind)\n",
    "lineas = range(1, 7)\n",
    "for lin in lineas:\n",
    "    plt.axhline(y=5*lin, color = 'grey', linestyle='--', zorder=0)\n",
    "\n",
    "plt.axvline(x = media, color='red', linestyle = '-', label='Media')\n",
    "plt.axvline(x = media+dest, color='red', linestyle = '--')\n",
    "plt.axvline(x = media-dest, color='red', linestyle = '--')\n",
    "\n",
    "plt.legend()\n",
    "plt.show()"
   ]
  },
  {
   "cell_type": "markdown",
   "metadata": {},
   "source": [
    "### Ejercicio 5\n",
    "En una clínica infantil se ha ido anotando, durante un mes, el número de\n",
    "metros que cada niño anda, seguido y sin caerse, el primer día que comienza\n",
    "a caminar, obteniéndose la tabla de información adjunta:"
   ]
  },
  {
   "cell_type": "markdown",
   "metadata": {},
   "source": [
    "|Metros|1|2|3|4|5|6|7|8|\n",
    "|-|-|-|-|-|-|-|-|-|\n",
    "|Niños|2|6|10|5|10|3|2|2|"
   ]
  },
  {
   "cell_type": "markdown",
   "metadata": {},
   "source": [
    "1. Tabla de Frecuencia. Diagrama de Barras para las frecuencias\n",
    "absolutas, relativas y acumuladas"
   ]
  },
  {
   "cell_type": "code",
   "execution_count": 65,
   "metadata": {},
   "outputs": [
    {
     "name": "stdout",
     "output_type": "stream",
     "text": [
      "Tabla de frecuencias metros caminados el primer día vs niños:\n"
     ]
    },
    {
     "data": {
      "text/html": [
       "<style type=\"text/css\">\n",
       "</style>\n",
       "<table id=\"T_aa98d\">\n",
       "  <thead>\n",
       "    <tr>\n",
       "      <th class=\"blank level0\" >&nbsp;</th>\n",
       "      <th id=\"T_aa98d_level0_col0\" class=\"col_heading level0 col0\" >Metros</th>\n",
       "      <th id=\"T_aa98d_level0_col1\" class=\"col_heading level0 col1\" >Frecuencia absoluta</th>\n",
       "      <th id=\"T_aa98d_level0_col2\" class=\"col_heading level0 col2\" >Frecuencia absoluta acumulada</th>\n",
       "      <th id=\"T_aa98d_level0_col3\" class=\"col_heading level0 col3\" >Frecuencia relativa</th>\n",
       "      <th id=\"T_aa98d_level0_col4\" class=\"col_heading level0 col4\" >Frecuencia relativa acumulada</th>\n",
       "    </tr>\n",
       "  </thead>\n",
       "  <tbody>\n",
       "    <tr>\n",
       "      <th id=\"T_aa98d_level0_row0\" class=\"row_heading level0 row0\" >0</th>\n",
       "      <td id=\"T_aa98d_row0_col0\" class=\"data row0 col0\" >1</td>\n",
       "      <td id=\"T_aa98d_row0_col1\" class=\"data row0 col1\" >2</td>\n",
       "      <td id=\"T_aa98d_row0_col2\" class=\"data row0 col2\" >2</td>\n",
       "      <td id=\"T_aa98d_row0_col3\" class=\"data row0 col3\" >0.050000</td>\n",
       "      <td id=\"T_aa98d_row0_col4\" class=\"data row0 col4\" >0.050000</td>\n",
       "    </tr>\n",
       "    <tr>\n",
       "      <th id=\"T_aa98d_level0_row1\" class=\"row_heading level0 row1\" >1</th>\n",
       "      <td id=\"T_aa98d_row1_col0\" class=\"data row1 col0\" >2</td>\n",
       "      <td id=\"T_aa98d_row1_col1\" class=\"data row1 col1\" >6</td>\n",
       "      <td id=\"T_aa98d_row1_col2\" class=\"data row1 col2\" >8</td>\n",
       "      <td id=\"T_aa98d_row1_col3\" class=\"data row1 col3\" >0.150000</td>\n",
       "      <td id=\"T_aa98d_row1_col4\" class=\"data row1 col4\" >0.200000</td>\n",
       "    </tr>\n",
       "    <tr>\n",
       "      <th id=\"T_aa98d_level0_row2\" class=\"row_heading level0 row2\" >2</th>\n",
       "      <td id=\"T_aa98d_row2_col0\" class=\"data row2 col0\" >3</td>\n",
       "      <td id=\"T_aa98d_row2_col1\" class=\"data row2 col1\" >10</td>\n",
       "      <td id=\"T_aa98d_row2_col2\" class=\"data row2 col2\" >18</td>\n",
       "      <td id=\"T_aa98d_row2_col3\" class=\"data row2 col3\" >0.250000</td>\n",
       "      <td id=\"T_aa98d_row2_col4\" class=\"data row2 col4\" >0.450000</td>\n",
       "    </tr>\n",
       "    <tr>\n",
       "      <th id=\"T_aa98d_level0_row3\" class=\"row_heading level0 row3\" >3</th>\n",
       "      <td id=\"T_aa98d_row3_col0\" class=\"data row3 col0\" >4</td>\n",
       "      <td id=\"T_aa98d_row3_col1\" class=\"data row3 col1\" >5</td>\n",
       "      <td id=\"T_aa98d_row3_col2\" class=\"data row3 col2\" >23</td>\n",
       "      <td id=\"T_aa98d_row3_col3\" class=\"data row3 col3\" >0.125000</td>\n",
       "      <td id=\"T_aa98d_row3_col4\" class=\"data row3 col4\" >0.575000</td>\n",
       "    </tr>\n",
       "    <tr>\n",
       "      <th id=\"T_aa98d_level0_row4\" class=\"row_heading level0 row4\" >4</th>\n",
       "      <td id=\"T_aa98d_row4_col0\" class=\"data row4 col0\" >5</td>\n",
       "      <td id=\"T_aa98d_row4_col1\" class=\"data row4 col1\" >10</td>\n",
       "      <td id=\"T_aa98d_row4_col2\" class=\"data row4 col2\" >33</td>\n",
       "      <td id=\"T_aa98d_row4_col3\" class=\"data row4 col3\" >0.250000</td>\n",
       "      <td id=\"T_aa98d_row4_col4\" class=\"data row4 col4\" >0.825000</td>\n",
       "    </tr>\n",
       "    <tr>\n",
       "      <th id=\"T_aa98d_level0_row5\" class=\"row_heading level0 row5\" >5</th>\n",
       "      <td id=\"T_aa98d_row5_col0\" class=\"data row5 col0\" >6</td>\n",
       "      <td id=\"T_aa98d_row5_col1\" class=\"data row5 col1\" >3</td>\n",
       "      <td id=\"T_aa98d_row5_col2\" class=\"data row5 col2\" >36</td>\n",
       "      <td id=\"T_aa98d_row5_col3\" class=\"data row5 col3\" >0.075000</td>\n",
       "      <td id=\"T_aa98d_row5_col4\" class=\"data row5 col4\" >0.900000</td>\n",
       "    </tr>\n",
       "    <tr>\n",
       "      <th id=\"T_aa98d_level0_row6\" class=\"row_heading level0 row6\" >6</th>\n",
       "      <td id=\"T_aa98d_row6_col0\" class=\"data row6 col0\" >7</td>\n",
       "      <td id=\"T_aa98d_row6_col1\" class=\"data row6 col1\" >2</td>\n",
       "      <td id=\"T_aa98d_row6_col2\" class=\"data row6 col2\" >38</td>\n",
       "      <td id=\"T_aa98d_row6_col3\" class=\"data row6 col3\" >0.050000</td>\n",
       "      <td id=\"T_aa98d_row6_col4\" class=\"data row6 col4\" >0.950000</td>\n",
       "    </tr>\n",
       "    <tr>\n",
       "      <th id=\"T_aa98d_level0_row7\" class=\"row_heading level0 row7\" >7</th>\n",
       "      <td id=\"T_aa98d_row7_col0\" class=\"data row7 col0\" >8</td>\n",
       "      <td id=\"T_aa98d_row7_col1\" class=\"data row7 col1\" >2</td>\n",
       "      <td id=\"T_aa98d_row7_col2\" class=\"data row7 col2\" >40</td>\n",
       "      <td id=\"T_aa98d_row7_col3\" class=\"data row7 col3\" >0.050000</td>\n",
       "      <td id=\"T_aa98d_row7_col4\" class=\"data row7 col4\" >1.000000</td>\n",
       "    </tr>\n",
       "  </tbody>\n",
       "</table>\n"
      ],
      "text/plain": [
       "<pandas.io.formats.style.Styler at 0x2816909c790>"
      ]
     },
     "execution_count": 65,
     "metadata": {},
     "output_type": "execute_result"
    }
   ],
   "source": [
    "# Tabla de frecuencias\n",
    "\n",
    "import pandas as pd\n",
    "\n",
    "print(\"Tabla de frecuencias metros caminados el primer día vs niños:\")\n",
    "datos = pd.DataFrame(\n",
    "    {\n",
    "        'Metros' : range(1, 9),\n",
    "        'Frecuencia absoluta' : [2,6,10,5,10,3,2,2]\n",
    "    }\n",
    ")\n",
    "datos[\"Frecuencia absoluta acumulada\"] = datos[\"Frecuencia absoluta\"].cumsum()\n",
    "datos[\"Frecuencia relativa\"] = datos[\"Frecuencia absoluta\"]/datos[\"Frecuencia absoluta\"].sum()\n",
    "datos[\"Frecuencia relativa acumulada\"] = datos[\"Frecuencia relativa\"].cumsum()\n",
    "datos.style"
   ]
  },
  {
   "cell_type": "code",
   "execution_count": 66,
   "metadata": {},
   "outputs": [
    {
     "data": {
      "image/png": "[encoded data removed]",
      "text/plain": [
       "<Figure size 640x480 with 1 Axes>"
      ]
     },
     "metadata": {},
     "output_type": "display_data"
    }
   ],
   "source": [
    "# Diagrama de barras\n",
    "import matplotlib.pyplot as plt\n",
    "\n",
    "plt.bar(datos['Metros'], datos['Frecuencia absoluta'])\n",
    "plt.xlabel('Metros caminados el primer día')\n",
    "plt.ylabel('Frecuencia absoluta')\n",
    "\n",
    "\n",
    "plt.show()"
   ]
  },
  {
   "cell_type": "code",
   "execution_count": 67,
   "metadata": {},
   "outputs": [
    {
     "data": {
      "image/png": "[encoded data removed]",
      "text/plain": [
       "<Figure size 640x480 with 1 Axes>"
      ]
     },
     "metadata": {},
     "output_type": "display_data"
    }
   ],
   "source": [
    "plt.bar(datos['Metros'], datos['Frecuencia absoluta acumulada'])\n",
    "plt.xlabel('Metro caminados el primer día')\n",
    "plt.ylabel('Frecuencia absoluta acumulada')\n",
    "\n",
    "plt.show()"
   ]
  },
  {
   "cell_type": "code",
   "execution_count": 68,
   "metadata": {},
   "outputs": [
    {
     "data": {
      "image/png": "[encoded data removed]",
      "text/plain": [
       "<Figure size 640x480 with 1 Axes>"
      ]
     },
     "metadata": {},
     "output_type": "display_data"
    }
   ],
   "source": [
    "plt.bar(datos['Metros'], datos['Frecuencia relativa'])\n",
    "plt.xlabel('Metro caminados el primer día')\n",
    "plt.ylabel('Frecuencia relativa')\n",
    "\n",
    "plt.show()"
   ]
  },
  {
   "cell_type": "code",
   "execution_count": 69,
   "metadata": {},
   "outputs": [
    {
     "data": {
      "image/png": "[encoded data removed]",
      "text/plain": [
       "<Figure size 640x480 with 1 Axes>"
      ]
     },
     "metadata": {},
     "output_type": "display_data"
    }
   ],
   "source": [
    "plt.bar(datos['Metros'], datos['Frecuencia relativa acumulada'])\n",
    "plt.xlabel('Metro caminados el primer día')\n",
    "plt.ylabel('Frecuencia relativa acumulada')\n",
    "\n",
    "plt.show()"
   ]
  },
  {
   "cell_type": "markdown",
   "metadata": {},
   "source": [
    "2. Mediana, media aritmética, moda y cuartiles"
   ]
  },
  {
   "cell_type": "code",
   "execution_count": 70,
   "metadata": {},
   "outputs": [
    {
     "name": "stdout",
     "output_type": "stream",
     "text": [
      "La mediana de los datos es 4 metros.\n",
      "\n",
      "La media aritmetica es 4.05 metros.\n",
      "\n",
      "La(las) moda(s) es(son):\n",
      "\t1. 3 metros.\n",
      "\t2. 5 metros.\n",
      "\n",
      "Los cuartiles son:\n",
      "\tCuartil 1 = 3 metros.\n",
      "\tCuartil 2 = 4 metros.\n",
      "\tCuartil 3 = 5 metros.\n"
     ]
    }
   ],
   "source": [
    "# mediana\n",
    "mediana = datos[datos['Frecuencia absoluta acumulada']>=((datos['Frecuencia absoluta'].sum())/2)]['Metros'].values[0]\n",
    "\n",
    "print(f\"La mediana de los datos es {mediana} metros.\")\n",
    "\n",
    "# Media aritmetica\n",
    "media = (datos['Metros']*datos['Frecuencia absoluta']).sum()/datos['Frecuencia absoluta'].sum()\n",
    "print(f\"\\nLa media aritmetica es {media} metros.\")\n",
    "\n",
    "# Moda\n",
    "moda = datos[datos['Frecuencia absoluta']==max(datos['Frecuencia absoluta'])]['Metros']\n",
    "print('\\nLa(las) moda(s) es(son):')\n",
    "for i, m in enumerate(moda):\n",
    "    print(f\"\\t{i+1}. {m} metros.\")\n",
    "\n",
    "# Cuartiles \n",
    "Q = []\n",
    "for i in range(1, 4):\n",
    "    q = i*.25*datos['Frecuencia absoluta'].sum()\n",
    "    Q.append(datos[datos['Frecuencia absoluta acumulada']>=q]['Metros'].values[0])\n",
    "\n",
    "print(\"\\nLos cuartiles son:\")\n",
    "for i, q in enumerate(Q):\n",
    "    print(f\"\\tCuartil {i+1} = {q} metros.\")"
   ]
  },
  {
   "cell_type": "markdown",
   "metadata": {},
   "source": [
    "3. Varianza y desviación Estándar"
   ]
  },
  {
   "cell_type": "code",
   "execution_count": 71,
   "metadata": {},
   "outputs": [
    {
     "name": "stdout",
     "output_type": "stream",
     "text": [
      "La varianza y la desviación estandar son 3.0975 y 1.54875, resp.\n"
     ]
    }
   ],
   "source": [
    "# Varianza y desviacion estandar\n",
    "varianza = 0\n",
    "for i, xi in enumerate(datos['Metros']):\n",
    "    varianza += ((xi-media)**2)*datos['Frecuencia relativa'][i]\n",
    "\n",
    "dest = varianza**1/2\n",
    "\n",
    "print(f\"La varianza y la desviación estandar son {varianza} y {dest}, resp.\")\n"
   ]
  },
  {
   "cell_type": "markdown",
   "metadata": {},
   "source": [
    "4. ¿Entre qué dos valores se encuentran, como mínimo, el 75% de las\n",
    "observaciones?\n",
    "    - R: Como vimos en el calculo de los cuartiles, una estimación sería entre 1 y 5 metros."
   ]
  }
 ],
 "metadata": {
  "kernelspec": {
   "display_name": "Python 3",
   "language": "python",
   "name": "python3"
  },
  "language_info": {
   "codemirror_mode": {
    "name": "ipython",
    "version": 3
   },
   "file_extension": ".py",
   "mimetype": "text/x-python",
   "name": "python",
   "nbconvert_exporter": "python",
   "pygments_lexer": "ipython3",
   "version": "3.11.8"
  }
 },
 "nbformat": 4,
 "nbformat_minor": 2
}
