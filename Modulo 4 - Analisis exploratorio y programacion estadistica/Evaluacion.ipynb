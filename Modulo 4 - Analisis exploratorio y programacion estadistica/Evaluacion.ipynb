{
 "cells": [
  {
   "cell_type": "markdown",
   "metadata": {},
   "source": [
    "# Evaluación Final Módulo 4\n",
    "### ANÁLISIS EXPLORATORIO Y PROGRAMACIÓN ESTADÍSTICA.\n",
    "#### Autor: Nicolás Núñez"
   ]
  },
  {
   "cell_type": "markdown",
   "metadata": {},
   "source": [
    "### Ejericio 1\n",
    "La siguiente tabla corresponde a las edades de los niños que\n",
    "asistieron a un centro de salud.\n"
   ]
  },
  {
   "cell_type": "markdown",
   "metadata": {},
   "source": [
    "$$\\begin{array}{|c||c||c|}\n",
    "\\hline\n",
    "\\text{Clase} & \\text{Edad} & n_i\\\\\n",
    "\\hline\n",
    "\\hline\n",
    "\\text{Clase 1} & 6 & 20\\\\\n",
    "\\text{Clase 2} & 7 & 9\\\\\n",
    "\\text{Clase 3} & 8 & 1\\\\\n",
    "\\text{Clase 4} & 9 & 7\\\\\n",
    "\\text{Clase 5} & 10 & 3\\\\\n",
    "\\hline\n",
    "\\hline\n",
    "\n",
    "\\end{array}$$"
   ]
  },
  {
   "cell_type": "markdown",
   "metadata": {},
   "source": [
    "1. Determine las medidas de tendencia central: media, mediana,\n",
    "moda."
   ]
  },
  {
   "cell_type": "code",
   "execution_count": 2,
   "metadata": {},
   "outputs": [
    {
     "name": "stdout",
     "output_type": "stream",
     "text": [
      "Las medidas de tendencia central de los datos son\n",
      "\tMedia: 7.1 años.\n",
      "\tMediana: 6.5 años.\n",
      "\tModa: 6 años\n"
     ]
    }
   ],
   "source": [
    "import pandas as pd\n",
    "import numpy as np\n",
    "\n",
    "# Ingreso de datos\n",
    "tabla = pd.DataFrame(\n",
    "    {\n",
    "        'Edad': range(6,11),\n",
    "        'Asistencias': [20,9,1,7,3]\n",
    "    }\n",
    ")\n",
    "\n",
    "# Calculo frecuencia acumulada\n",
    "tabla['Frec acumulada'] = tabla['Asistencias'].cumsum()\n",
    "\n",
    "# Media\n",
    "asist = [] # Lista por extension de la edad de los niños asistentes\n",
    "for i in range(len(tabla)):\n",
    "    for j in range(tabla['Asistencias'][i]):\n",
    "        asist.append(tabla['Edad'][i])\n",
    "\n",
    "media = sum(asist)/len(asist)\n",
    "\n",
    "# Mediana\n",
    "mediana = np.median(np.array(asist))\n",
    "\n",
    "# Moda\n",
    "moda = tabla[tabla['Asistencias']==max(tabla['Asistencias'])]['Edad']\n",
    "\n",
    "# Despliegue\n",
    "print(\"Las medidas de tendencia central de los datos son\")\n",
    "print(f\"\\tMedia: {media} años.\")\n",
    "print(f\"\\tMediana: {mediana} años.\")\n",
    "print(f\"\\tModa: {moda[0]} años\")"
   ]
  },
  {
   "cell_type": "markdown",
   "metadata": {},
   "source": [
    "2. Determine las medidas de dispersión: varianza, desviación\n",
    "estándar, Coeficiente de variación"
   ]
  },
  {
   "cell_type": "code",
   "execution_count": 11,
   "metadata": {},
   "outputs": [
    {
     "name": "stdout",
     "output_type": "stream",
     "text": [
      "Las medidas de dispersión de los datos son:\n",
      "\tVarianza: 1.89.\n",
      "\tDesviación estandar: 1.374772708486752.\n",
      "\tCoeficiente de variación: 0.19362995894179608\n"
     ]
    }
   ],
   "source": [
    "# Varianza\n",
    "varianza = np.var(asist)\n",
    "\n",
    "# Desviacion estandar\n",
    "dest = np.std(asist)\n",
    "\n",
    "# Coef variacion\n",
    "c_var = (dest/media)\n",
    "\n",
    "# Despliegue\n",
    "print('Las medidas de dispersión de los datos son:')\n",
    "print(f\"\\tVarianza: {varianza}.\")\n",
    "print(f\"\\tDesviación estandar: {dest}.\")\n",
    "print(f\"\\tCoeficiente de variación: {c_var}\")"
   ]
  },
  {
   "cell_type": "markdown",
   "metadata": {},
   "source": [
    "3. Realice un gráfico adecuado a los datos."
   ]
  },
  {
   "cell_type": "code",
   "execution_count": 4,
   "metadata": {},
   "outputs": [
    {
     "data": {
      "image/png": "[encoded data removed]",
      "text/plain": [
       "<Figure size 640x480 with 1 Axes>"
      ]
     },
     "metadata": {},
     "output_type": "display_data"
    }
   ],
   "source": [
    "import matplotlib.pyplot as plt\n",
    "\n",
    "plt.bar(tabla['Edad'], tabla['Asistencias'], zorder=1)\n",
    "plt.xlabel('Edad')\n",
    "plt.ylabel('Número de asistencias')\n",
    "plt.title('Cantidad de asistencias a un centro asistencial por edad')\n",
    "plt.grid(True, axis='y')\n",
    "plt.gca().set_axisbelow(True)\n",
    "plt.show()"
   ]
  },
  {
   "cell_type": "markdown",
   "metadata": {},
   "source": [
    "### Ejercicio 2\n",
    "Crear un programa utilizando la librería matplotlib o Seaborn que realice\n",
    "lo siguiente:"
   ]
  },
  {
   "cell_type": "markdown",
   "metadata": {},
   "source": [
    "1. Crear el siguiente DataFrame indexado:"
   ]
  },
  {
   "cell_type": "markdown",
   "metadata": {},
   "source": [
    "$$\\begin{array}{ccc}\n",
    "& \\text{calorias} & \\text{tiempo}\\\\\n",
    "\\text{L} & 420 & 60\\\\\n",
    "\\text{M} & 380 & 40\\\\\n",
    "\\text{X} & 390 & 75\\\\\n",
    "\\text{J} & 490 & 55\\\\\n",
    "\\text{V} & 300 & 45\\\\\n",
    "\\end{array}$$"
   ]
  },
  {
   "cell_type": "code",
   "execution_count": 12,
   "metadata": {},
   "outputs": [
    {
     "data": {
      "text/html": [
       "<div>\n",
       "<style scoped>\n",
       "    .dataframe tbody tr th:only-of-type {\n",
       "        vertical-align: middle;\n",
       "    }\n",
       "\n",
       "    .dataframe tbody tr th {\n",
       "        vertical-align: top;\n",
       "    }\n",
       "\n",
       "    .dataframe thead th {\n",
       "        text-align: right;\n",
       "    }\n",
       "</style>\n",
       "<table border=\"1\" class=\"dataframe\">\n",
       "  <thead>\n",
       "    <tr style=\"text-align: right;\">\n",
       "      <th></th>\n",
       "      <th>calorias</th>\n",
       "      <th>tiempo</th>\n",
       "    </tr>\n",
       "  </thead>\n",
       "  <tbody>\n",
       "    <tr>\n",
       "      <th>L</th>\n",
       "      <td>420</td>\n",
       "      <td>60</td>\n",
       "    </tr>\n",
       "    <tr>\n",
       "      <th>M</th>\n",
       "      <td>380</td>\n",
       "      <td>40</td>\n",
       "    </tr>\n",
       "    <tr>\n",
       "      <th>X</th>\n",
       "      <td>390</td>\n",
       "      <td>75</td>\n",
       "    </tr>\n",
       "    <tr>\n",
       "      <th>J</th>\n",
       "      <td>490</td>\n",
       "      <td>55</td>\n",
       "    </tr>\n",
       "    <tr>\n",
       "      <th>V</th>\n",
       "      <td>300</td>\n",
       "      <td>45</td>\n",
       "    </tr>\n",
       "  </tbody>\n",
       "</table>\n",
       "</div>"
      ],
      "text/plain": [
       "   calorias  tiempo\n",
       "L       420      60\n",
       "M       380      40\n",
       "X       390      75\n",
       "J       490      55\n",
       "V       300      45"
      ]
     },
     "metadata": {},
     "output_type": "display_data"
    }
   ],
   "source": [
    "from pandas import DataFrame\n",
    "\n",
    "datos = DataFrame(\n",
    "    {\n",
    "        'calorias': [420,380,390,490,300],\n",
    "        'tiempo': [60,40,75,55,45]\n",
    "    }\n",
    ")\n",
    "datos.index = [\"L\", \"M\", \"X\", \"J\", \"V\"]\n",
    "display(datos)"
   ]
  },
  {
   "cell_type": "markdown",
   "metadata": {},
   "source": [
    "2. Calcular la media, mediana, y desviación típica de ambas columnas."
   ]
  },
  {
   "cell_type": "code",
   "execution_count": 6,
   "metadata": {},
   "outputs": [
    {
     "name": "stdout",
     "output_type": "stream",
     "text": [
      "Las estadísticas pedidas para la columna calorias son:\n",
      "\tMedia: 396.0.\n",
      "\tMediana: 390.0.\n",
      "\tDesviacion estandar: 68.7749954561976.\n",
      "\n",
      "Las estadísticas pedidas para la columna tiempo son:\n",
      "\tMedia: 55.0.\n",
      "\tMediana: 55.0.\n",
      "\tDesviacion estandar: 13.693063937629153.\n"
     ]
    }
   ],
   "source": [
    "import numpy as np\n",
    "\n",
    "calorias = {\n",
    "    'Media': datos['calorias'].mean(),\n",
    "    'Mediana': datos['calorias'].median(),\n",
    "    'Desviacion estandar': datos['calorias'].std()\n",
    "}\n",
    "tiempo = {\n",
    "    'Media': datos['tiempo'].mean(),\n",
    "    'Mediana': datos['tiempo'].median(),\n",
    "    'Desviacion estandar': datos['tiempo'].std()\n",
    "}\n",
    "\n",
    "print(\"Las estadísticas pedidas para la columna calorias son:\")\n",
    "for key in calorias.keys():\n",
    "    print(f\"\\t{key}: {calorias[key]}.\")\n",
    "print()\n",
    "print(\"Las estadísticas pedidas para la columna tiempo son:\")\n",
    "for key in tiempo.keys():\n",
    "    print(f\"\\t{key}: {tiempo[key]}.\")"
   ]
  },
  {
   "cell_type": "markdown",
   "metadata": {},
   "source": [
    "3. Añadir otra columna booleana al DataFrame para ver si se ha\n",
    "cumplido el reto de quemar más de 400 calorías por hora. La nueva\n",
    "columna debe generarse aplicando una fórmula a las otras columnas.\n",
    "El DataFrame resultante debe ser el siguiente:"
   ]
  },
  {
   "cell_type": "markdown",
   "metadata": {},
   "source": [
    "$$\\begin{array}{cccc}\n",
    "& \\text{calorias} & \\text{tiempo} & \\text{reto}\\\\\n",
    "\\text{L} & 420 & 60 & \\text{True}\\\\\n",
    "\\text{M} & 380 & 40 & \\text{True}\\\\\n",
    "\\text{X} & 390 & 75 & \\text{False}\\\\\n",
    "\\text{J} & 490 & 55 & \\text{True}\\\\\n",
    "\\text{V} & 300 & 45 & \\text{False}\\\\\n",
    "\\end{array}$$"
   ]
  },
  {
   "cell_type": "code",
   "execution_count": 7,
   "metadata": {},
   "outputs": [
    {
     "data": {
      "text/html": [
       "<div>\n",
       "<style scoped>\n",
       "    .dataframe tbody tr th:only-of-type {\n",
       "        vertical-align: middle;\n",
       "    }\n",
       "\n",
       "    .dataframe tbody tr th {\n",
       "        vertical-align: top;\n",
       "    }\n",
       "\n",
       "    .dataframe thead th {\n",
       "        text-align: right;\n",
       "    }\n",
       "</style>\n",
       "<table border=\"1\" class=\"dataframe\">\n",
       "  <thead>\n",
       "    <tr style=\"text-align: right;\">\n",
       "      <th></th>\n",
       "      <th>calorias</th>\n",
       "      <th>tiempo</th>\n",
       "      <th>reto</th>\n",
       "    </tr>\n",
       "  </thead>\n",
       "  <tbody>\n",
       "    <tr>\n",
       "      <th>L</th>\n",
       "      <td>420</td>\n",
       "      <td>60</td>\n",
       "      <td>True</td>\n",
       "    </tr>\n",
       "    <tr>\n",
       "      <th>M</th>\n",
       "      <td>380</td>\n",
       "      <td>40</td>\n",
       "      <td>True</td>\n",
       "    </tr>\n",
       "    <tr>\n",
       "      <th>X</th>\n",
       "      <td>390</td>\n",
       "      <td>75</td>\n",
       "      <td>False</td>\n",
       "    </tr>\n",
       "    <tr>\n",
       "      <th>J</th>\n",
       "      <td>490</td>\n",
       "      <td>55</td>\n",
       "      <td>True</td>\n",
       "    </tr>\n",
       "    <tr>\n",
       "      <th>V</th>\n",
       "      <td>300</td>\n",
       "      <td>45</td>\n",
       "      <td>False</td>\n",
       "    </tr>\n",
       "  </tbody>\n",
       "</table>\n",
       "</div>"
      ],
      "text/plain": [
       "   calorias  tiempo   reto\n",
       "L       420      60   True\n",
       "M       380      40   True\n",
       "X       390      75  False\n",
       "J       490      55   True\n",
       "V       300      45  False"
      ]
     },
     "metadata": {},
     "output_type": "display_data"
    }
   ],
   "source": [
    "datos['reto'] = ((datos['calorias']/datos['tiempo']) > (400/60))\n",
    "display(datos)"
   ]
  },
  {
   "cell_type": "markdown",
   "metadata": {},
   "source": [
    "4. Filtrar el DataFrame y devolver otro DataFrame con las filas pares\n",
    "que cumplan que el número de calorías es mayor de 400."
   ]
  },
  {
   "cell_type": "code",
   "execution_count": 8,
   "metadata": {},
   "outputs": [
    {
     "data": {
      "text/html": [
       "<div>\n",
       "<style scoped>\n",
       "    .dataframe tbody tr th:only-of-type {\n",
       "        vertical-align: middle;\n",
       "    }\n",
       "\n",
       "    .dataframe tbody tr th {\n",
       "        vertical-align: top;\n",
       "    }\n",
       "\n",
       "    .dataframe thead th {\n",
       "        text-align: right;\n",
       "    }\n",
       "</style>\n",
       "<table border=\"1\" class=\"dataframe\">\n",
       "  <thead>\n",
       "    <tr style=\"text-align: right;\">\n",
       "      <th></th>\n",
       "      <th>calorias</th>\n",
       "      <th>tiempo</th>\n",
       "      <th>reto</th>\n",
       "    </tr>\n",
       "  </thead>\n",
       "  <tbody>\n",
       "    <tr>\n",
       "      <th>L</th>\n",
       "      <td>420</td>\n",
       "      <td>60</td>\n",
       "      <td>True</td>\n",
       "    </tr>\n",
       "  </tbody>\n",
       "</table>\n",
       "</div>"
      ],
      "text/plain": [
       "   calorias  tiempo  reto\n",
       "L       420      60  True"
      ]
     },
     "metadata": {},
     "output_type": "display_data"
    }
   ],
   "source": [
    "filtrado = datos[0::2]\n",
    "filtrado = filtrado[filtrado['reto']]\n",
    "display(filtrado) # Considerndo la 0-indentacion para considerar los paress"
   ]
  },
  {
   "cell_type": "markdown",
   "metadata": {},
   "source": [
    "5. Crear a partir del DataFrame una serie con los porcentajes de días\n",
    "que se ha conseguido el reto y los que no.\n"
   ]
  },
  {
   "cell_type": "code",
   "execution_count": 9,
   "metadata": {},
   "outputs": [
    {
     "data": {
      "text/plain": [
       "reto\n",
       "True     0.6\n",
       "False    0.4\n",
       "Name: proportion, dtype: float64"
      ]
     },
     "metadata": {},
     "output_type": "display_data"
    }
   ],
   "source": [
    "serie = datos['reto'].value_counts(normalize=True)\n",
    "display(serie)"
   ]
  },
  {
   "cell_type": "markdown",
   "metadata": {},
   "source": [
    "6. Crear un gráfico que muestre la progresión de\n",
    "las calorías y tiempo durante la semana."
   ]
  },
  {
   "cell_type": "code",
   "execution_count": 10,
   "metadata": {},
   "outputs": [
    {
     "data": {
      "image/png": "[encoded data removed]",
      "text/plain": [
       "<Figure size 640x480 with 1 Axes>"
      ]
     },
     "metadata": {},
     "output_type": "display_data"
    }
   ],
   "source": [
    "#plt.plot(datos[['calorias','tiempo']], label = ['calorias', 'tiempo'], marker = '+')\n",
    "plt.plot(datos['calorias'], label = 'calorias', marker = '+')\n",
    "plt.plot(datos['tiempo'], label = 'tiempo', marker = 'o')\n",
    "plt.legend()\n",
    "plt.xlabel('Día')\n",
    "plt.title('Evolución diaria')\n",
    "plt.show()"
   ]
  }
 ],
 "metadata": {
  "kernelspec": {
   "display_name": "Python 3",
   "language": "python",
   "name": "python3"
  },
  "language_info": {
   "codemirror_mode": {
    "name": "ipython",
    "version": 3
   },
   "file_extension": ".py",
   "mimetype": "text/x-python",
   "name": "python",
   "nbconvert_exporter": "python",
   "pygments_lexer": "ipython3",
   "version": "3.11.8"
  }
 },
 "nbformat": 4,
 "nbformat_minor": 2
}
